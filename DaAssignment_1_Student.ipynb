{
  "cells": [
    {
      "cell_type": "markdown",
      "metadata": {
        "id": "view-in-github",
        "colab_type": "text"
      },
      "source": [
        "<a href=\"https://colab.research.google.com/github/Gulayrose/DAwPy/blob/main/DaAssignment_1_Student.ipynb\" target=\"_parent\"><img src=\"https://colab.research.google.com/assets/colab-badge.svg\" alt=\"Open In Colab\"/></a>"
      ]
    },
    {
      "cell_type": "markdown",
      "metadata": {
        "id": "ke6H-17GOnGD"
      },
      "source": [
        "___\n",
        "\n",
        "<p style=\"text-align: center;\"><img src=\"https://docs.google.com/uc?id=1lY0Uj5R04yMY3-ZppPWxqCr5pvBLYPnV\" class=\"img-fluid\" alt=\"Rossum\"></p>"
      ]
    },
    {
      "cell_type": "markdown",
      "metadata": {
        "id": "VRG6DLe0OnGE"
      },
      "source": [
        "In this assignment you will start off with Numpy Exercises and then complete the whole Exercise with Pandas questions. All the subjects related to questions here already covered in preclass materials and in-class sessions. So good luck!\n"
      ]
    },
    {
      "cell_type": "markdown",
      "metadata": {
        "id": "QqTzN193OnGE"
      },
      "source": [
        "#### 1. Import NumPy Library"
      ]
    },
    {
      "cell_type": "code",
      "execution_count": 1,
      "metadata": {
        "id": "jR77Qd5sOnGE"
      },
      "outputs": [],
      "source": [
        "import numpy as np"
      ]
    },
    {
      "cell_type": "markdown",
      "metadata": {
        "id": "KH9BSzD3OnGF"
      },
      "source": [
        "#### 2. Create an array from my_list=[5,10,15,20,25]"
      ]
    },
    {
      "cell_type": "code",
      "source": [
        "my_lis= [5,10,15,20,25]\n",
        "my_array = np.array(my_list)\n",
        "my_array"
      ],
      "metadata": {
        "colab": {
          "base_uri": "https://localhost:8080/"
        },
        "id": "ZeVFg4Gq0bVl",
        "outputId": "62ebc5ab-1ddd-4ec0-c809-05c8ac1b7249"
      },
      "execution_count": 4,
      "outputs": [
        {
          "output_type": "execute_result",
          "data": {
            "text/plain": [
              "array([ 5, 10, 15, 20, 25])"
            ]
          },
          "metadata": {},
          "execution_count": 4
        }
      ]
    },
    {
      "cell_type": "code",
      "execution_count": 3,
      "metadata": {
        "id": "UXhrDP0KOnGF",
        "colab": {
          "base_uri": "https://localhost:8080/"
        },
        "outputId": "cac89a68-a93d-40fc-dd9c-25b1d1d79d08"
      },
      "outputs": [
        {
          "output_type": "execute_result",
          "data": {
            "text/plain": [
              "array([ 5, 10, 15, 20, 25])"
            ]
          },
          "metadata": {},
          "execution_count": 3
        }
      ],
      "source": [
        "my_list = np.arange(5,26,5)\n",
        "my_list"
      ]
    },
    {
      "cell_type": "markdown",
      "metadata": {
        "id": "BXHkDIs4OnGF"
      },
      "source": [
        "#### 3. Generate an array 5x5 zeros "
      ]
    },
    {
      "cell_type": "code",
      "execution_count": 5,
      "metadata": {
        "id": "mhGnxm99OnGG",
        "colab": {
          "base_uri": "https://localhost:8080/"
        },
        "outputId": "66a2dec4-893d-42c8-d0db-83f5175f060a"
      },
      "outputs": [
        {
          "output_type": "execute_result",
          "data": {
            "text/plain": [
              "array([[0., 0., 0., 0., 0.],\n",
              "       [0., 0., 0., 0., 0.],\n",
              "       [0., 0., 0., 0., 0.],\n",
              "       [0., 0., 0., 0., 0.],\n",
              "       [0., 0., 0., 0., 0.]])"
            ]
          },
          "metadata": {},
          "execution_count": 5
        }
      ],
      "source": [
        "np.zeros((5,5))"
      ]
    },
    {
      "cell_type": "markdown",
      "metadata": {
        "id": "DpZ4YZxOOnGG"
      },
      "source": [
        "#### 4. Generate an array 4x4 ones assign data type int"
      ]
    },
    {
      "cell_type": "code",
      "execution_count": 6,
      "metadata": {
        "id": "GiJ7APhXOnGG",
        "colab": {
          "base_uri": "https://localhost:8080/"
        },
        "outputId": "2b935a35-f2ae-4d6a-dd57-a40fdc905bc0"
      },
      "outputs": [
        {
          "output_type": "execute_result",
          "data": {
            "text/plain": [
              "array([[1., 1., 1., 1.],\n",
              "       [1., 1., 1., 1.],\n",
              "       [1., 1., 1., 1.],\n",
              "       [1., 1., 1., 1.]])"
            ]
          },
          "metadata": {},
          "execution_count": 6
        }
      ],
      "source": [
        "np.ones((4,4)) #np.ones((4,4),dtype= \"int\")"
      ]
    },
    {
      "cell_type": "markdown",
      "metadata": {
        "id": "_GY8SAnYOnGG"
      },
      "source": [
        "#### 5. Make all the values of the array above 7"
      ]
    },
    {
      "cell_type": "code",
      "execution_count": 7,
      "metadata": {
        "colab": {
          "base_uri": "https://localhost:8080/"
        },
        "id": "uyrxbjlBOnGG",
        "outputId": "c664d1b3-39ba-4d39-c21b-1c43afa616fe"
      },
      "outputs": [
        {
          "output_type": "execute_result",
          "data": {
            "text/plain": [
              "array([[7, 7, 7, 7],\n",
              "       [7, 7, 7, 7],\n",
              "       [7, 7, 7, 7],\n",
              "       [7, 7, 7, 7]])"
            ]
          },
          "metadata": {},
          "execution_count": 7
        }
      ],
      "source": [
        "np.ones((4,4) , dtype = \"int\")*7"
      ]
    },
    {
      "cell_type": "markdown",
      "metadata": {
        "id": "ShRFgkE_OnGG"
      },
      "source": [
        "#### 6. Create same array above with full method"
      ]
    },
    {
      "cell_type": "code",
      "execution_count": 8,
      "metadata": {
        "id": "rxyA75s2OnGH",
        "colab": {
          "base_uri": "https://localhost:8080/"
        },
        "outputId": "7170d83a-5cd5-4f4a-fe87-88b955fc3cd2"
      },
      "outputs": [
        {
          "output_type": "execute_result",
          "data": {
            "text/plain": [
              "array([[7, 7, 7, 7],\n",
              "       [7, 7, 7, 7],\n",
              "       [7, 7, 7, 7],\n",
              "       [7, 7, 7, 7]])"
            ]
          },
          "metadata": {},
          "execution_count": 8
        }
      ],
      "source": [
        "np.full((4,4),7)"
      ]
    },
    {
      "cell_type": "code",
      "execution_count": null,
      "metadata": {
        "id": "7UI0dpfpOnGH"
      },
      "outputs": [],
      "source": [
        ""
      ]
    },
    {
      "cell_type": "markdown",
      "metadata": {
        "id": "xgwFCnhIOnGH"
      },
      "source": [
        "#### 7. Create an array of even integers from 2 to 16 "
      ]
    },
    {
      "cell_type": "code",
      "execution_count": 9,
      "metadata": {
        "id": "QxJZ8yD3OnGH",
        "colab": {
          "base_uri": "https://localhost:8080/"
        },
        "outputId": "56c5f6fb-9a31-4e47-a365-60d3a6e970ed"
      },
      "outputs": [
        {
          "output_type": "execute_result",
          "data": {
            "text/plain": [
              "array([ 2,  4,  6,  8, 10, 12, 14, 16])"
            ]
          },
          "metadata": {},
          "execution_count": 9
        }
      ],
      "source": [
        "np.arange(2,17,2)"
      ]
    },
    {
      "cell_type": "markdown",
      "metadata": {
        "id": "x55wTTdxOnGH"
      },
      "source": [
        "#### 8. Create a 5x5 matrix with values between 0 to 25"
      ]
    },
    {
      "cell_type": "code",
      "execution_count": 10,
      "metadata": {
        "id": "dRUge7vgOnGH",
        "colab": {
          "base_uri": "https://localhost:8080/"
        },
        "outputId": "ca49ef58-1244-4d95-da88-bd4188dbeaa4"
      },
      "outputs": [
        {
          "output_type": "execute_result",
          "data": {
            "text/plain": [
              "array([[ 0,  1,  2,  3,  4],\n",
              "       [ 5,  6,  7,  8,  9],\n",
              "       [10, 11, 12, 13, 14],\n",
              "       [15, 16, 17, 18, 19],\n",
              "       [20, 21, 22, 23, 24]])"
            ]
          },
          "metadata": {},
          "execution_count": 10
        }
      ],
      "source": [
        "np.arange(25).reshape(5,5)"
      ]
    },
    {
      "cell_type": "markdown",
      "metadata": {
        "id": "PF28jIpiOnGH"
      },
      "source": [
        "#### 9. Create a 5x5 matrix with values between 0 to 25 using linspace"
      ]
    },
    {
      "cell_type": "code",
      "execution_count": 11,
      "metadata": {
        "id": "ASb7ifq4OnGI",
        "colab": {
          "base_uri": "https://localhost:8080/"
        },
        "outputId": "1e069abc-767d-4eae-9018-9c7b3a79f00b"
      },
      "outputs": [
        {
          "output_type": "execute_result",
          "data": {
            "text/plain": [
              "array([[ 0,  1,  2,  3,  4],\n",
              "       [ 5,  6,  7,  8,  9],\n",
              "       [10, 11, 12, 13, 14],\n",
              "       [15, 16, 17, 18, 19],\n",
              "       [20, 21, 22, 23, 24]])"
            ]
          },
          "metadata": {},
          "execution_count": 11
        }
      ],
      "source": [
        "np.linspace(0,25,25,dtype=\"int\",endpoint=False).reshape(5,5)"
      ]
    },
    {
      "cell_type": "markdown",
      "metadata": {
        "id": "xJc_rL4UOnGI"
      },
      "source": [
        "#### 10. Create 5 random number with numpy"
      ]
    },
    {
      "cell_type": "code",
      "source": [
        "np.random.rand(5)"
      ],
      "metadata": {
        "id": "F0qXe_SzPfGP",
        "colab": {
          "base_uri": "https://localhost:8080/"
        },
        "outputId": "bb73dfb9-3d2f-4ce9-dc9d-f0f536fc573c"
      },
      "execution_count": 12,
      "outputs": [
        {
          "output_type": "execute_result",
          "data": {
            "text/plain": [
              "array([0.8563105 , 0.41721817, 0.03738717, 0.72188694, 0.02004778])"
            ]
          },
          "metadata": {},
          "execution_count": 12
        }
      ]
    },
    {
      "cell_type": "code",
      "execution_count": 19,
      "metadata": {
        "id": "ZnBjOrniOnGI",
        "colab": {
          "base_uri": "https://localhost:8080/"
        },
        "outputId": "90b63156-9cd4-4dbf-c367-d2c2ad12015b"
      },
      "outputs": [
        {
          "output_type": "execute_result",
          "data": {
            "text/plain": [
              "array([[-1.029185  , -0.1264189 , -0.25460355, -0.90599848,  0.26244711],\n",
              "       [ 0.52938514,  0.96943919,  0.1225662 ,  0.12407266, -0.20298651],\n",
              "       [-0.3484056 , -0.97975973, -0.00971889,  0.45565363,  2.0780527 ],\n",
              "       [ 0.66728822,  0.95712988, -1.02980623, -0.06333044, -0.4742238 ],\n",
              "       [ 1.8597497 ,  1.29686185,  0.74119287,  0.84690755,  0.37061074]])"
            ]
          },
          "metadata": {},
          "execution_count": 19
        }
      ],
      "source": [
        "np.random.randn(5,5)"
      ]
    },
    {
      "cell_type": "markdown",
      "metadata": {
        "id": "DZ6mJnlAOnGI"
      },
      "source": [
        "#### 11. Create random normal distributed 5x5 array"
      ]
    },
    {
      "cell_type": "code",
      "execution_count": 13,
      "metadata": {
        "id": "cJnt_QMvOnGI",
        "colab": {
          "base_uri": "https://localhost:8080/"
        },
        "outputId": "ae443156-01b0-4ebb-cebc-588e0bf3f6e8"
      },
      "outputs": [
        {
          "output_type": "execute_result",
          "data": {
            "text/plain": [
              "array([[0.69685899, 0.26661004, 0.0745224 , 0.78988989, 0.22664734],\n",
              "       [0.67583453, 0.47399769, 0.88048833, 0.97953607, 0.56913986],\n",
              "       [0.72487508, 0.61817137, 0.5310508 , 0.60906894, 0.98697153],\n",
              "       [0.14678249, 0.70730392, 0.99922916, 0.47910718, 0.53511608],\n",
              "       [0.23978329, 0.80237152, 0.79508609, 0.95021269, 0.93401634]])"
            ]
          },
          "metadata": {},
          "execution_count": 13
        }
      ],
      "source": [
        "np.random.rand(5,5)"
      ]
    },
    {
      "cell_type": "markdown",
      "metadata": {
        "id": "DoKax4MaOnGI"
      },
      "source": [
        "#### 12. Create 3x4 shaped array with random int numbers between 20 and 50 with numpy"
      ]
    },
    {
      "cell_type": "code",
      "execution_count": 14,
      "metadata": {
        "id": "KwlJwCQUOnGJ",
        "colab": {
          "base_uri": "https://localhost:8080/"
        },
        "outputId": "cf3440b5-f6a9-4cd2-f493-4a220d4380e7"
      },
      "outputs": [
        {
          "output_type": "execute_result",
          "data": {
            "text/plain": [
              "array([[46, 35, 43, 25],\n",
              "       [38, 33, 21, 39],\n",
              "       [32, 42, 26, 46]])"
            ]
          },
          "metadata": {},
          "execution_count": 14
        }
      ],
      "source": [
        "np.random.randint(20,50,size=(3,4))"
      ]
    },
    {
      "cell_type": "markdown",
      "metadata": {
        "id": "TTv-jAdlOnGJ"
      },
      "source": [
        "#### 13. Reshape the array below with shape 6x8"
      ]
    },
    {
      "cell_type": "code",
      "execution_count": 15,
      "metadata": {
        "id": "OHTCQA5DOnGJ",
        "colab": {
          "base_uri": "https://localhost:8080/"
        },
        "outputId": "c22f69de-dc86-404d-a0e1-3046fd9afe48"
      },
      "outputs": [
        {
          "output_type": "execute_result",
          "data": {
            "text/plain": [
              "array([ 7, 48,  3, 11, 33,  8, 31, 14, 16, 38, 12,  2, 17, 18,  8, 33, 37,\n",
              "       21, 36, 37, 10, 34,  3, 20, 41, 20, 30,  7, 45, 48, 21,  2, 22, 15,\n",
              "        5, 34, 31, 15, 39, 22, 10, 18, 23,  9, 12, 16, 13, 11])"
            ]
          },
          "metadata": {},
          "execution_count": 15
        }
      ],
      "source": [
        "rannar = np.random.randint(2,49,size=48)\n",
        "rannar"
      ]
    },
    {
      "cell_type": "code",
      "execution_count": null,
      "metadata": {
        "id": "a9oOdsuUOnGJ"
      },
      "outputs": [],
      "source": [
        ""
      ]
    },
    {
      "cell_type": "code",
      "execution_count": 16,
      "metadata": {
        "id": "WIJsCbdwOnGJ",
        "colab": {
          "base_uri": "https://localhost:8080/"
        },
        "outputId": "5dbf23fc-7b61-4b47-80d1-9ab544f88ea8"
      },
      "outputs": [
        {
          "output_type": "execute_result",
          "data": {
            "text/plain": [
              "array([[ 7, 48,  3, 11, 33,  8, 31, 14],\n",
              "       [16, 38, 12,  2, 17, 18,  8, 33],\n",
              "       [37, 21, 36, 37, 10, 34,  3, 20],\n",
              "       [41, 20, 30,  7, 45, 48, 21,  2],\n",
              "       [22, 15,  5, 34, 31, 15, 39, 22],\n",
              "       [10, 18, 23,  9, 12, 16, 13, 11]])"
            ]
          },
          "metadata": {},
          "execution_count": 16
        }
      ],
      "source": [
        "#reshape with -1\n",
        "rannar.reshape(-1,8) #(6,-1)"
      ]
    },
    {
      "cell_type": "markdown",
      "metadata": {
        "id": "9IUGEhCMOnGK"
      },
      "source": [
        "## Numpy Indexing and Selection\n"
      ]
    },
    {
      "cell_type": "code",
      "execution_count": 17,
      "metadata": {
        "id": "_NkLHHw1OnGK",
        "colab": {
          "base_uri": "https://localhost:8080/"
        },
        "outputId": "e33cdebe-bb6b-4c61-d64e-c8140733befb"
      },
      "outputs": [
        {
          "output_type": "execute_result",
          "data": {
            "text/plain": [
              "array([[ 1,  2,  3,  4],\n",
              "       [ 5,  6,  7,  8],\n",
              "       [ 9, 10, 11, 12],\n",
              "       [13, 14, 15, 16]])"
            ]
          },
          "metadata": {},
          "execution_count": 17
        }
      ],
      "source": [
        "#Create array below\n",
        "mat=np.arange(1,17).reshape(4,4)\n",
        "mat"
      ]
    },
    {
      "cell_type": "markdown",
      "metadata": {
        "id": "xUxlCCf0OnGK"
      },
      "source": [
        "#### 14. Write code that reproduces the output shown below.<br>"
      ]
    },
    {
      "cell_type": "code",
      "execution_count": 18,
      "metadata": {
        "id": "-jIHgue_OnGK",
        "colab": {
          "base_uri": "https://localhost:8080/"
        },
        "outputId": "1f1b3ff9-59de-44bf-da68-885c64921909"
      },
      "outputs": [
        {
          "output_type": "execute_result",
          "data": {
            "text/plain": [
              "array([[ 6,  7],\n",
              "       [10, 11]])"
            ]
          },
          "metadata": {},
          "execution_count": 18
        }
      ],
      "source": [
        "mat[1:3,1:3]"
      ]
    },
    {
      "cell_type": "markdown",
      "metadata": {
        "id": "BD9vP3PKOnGK"
      },
      "source": [
        "#### 15. Get the first column of the array."
      ]
    },
    {
      "cell_type": "code",
      "execution_count": 19,
      "metadata": {
        "id": "KUsabbv6OnGK",
        "colab": {
          "base_uri": "https://localhost:8080/"
        },
        "outputId": "ac313d6c-06cb-4a31-e9e8-3409542d12e4"
      },
      "outputs": [
        {
          "output_type": "execute_result",
          "data": {
            "text/plain": [
              "array([ 1,  5,  9, 13])"
            ]
          },
          "metadata": {},
          "execution_count": 19
        }
      ],
      "source": [
        "mat[:,0]"
      ]
    },
    {
      "cell_type": "markdown",
      "metadata": {
        "id": "24PtWWWHOnGK"
      },
      "source": [
        "#### 16. Get the values in 2nd row for every 2 step."
      ]
    },
    {
      "cell_type": "code",
      "execution_count": 20,
      "metadata": {
        "id": "tYFgdyctOnGK",
        "colab": {
          "base_uri": "https://localhost:8080/"
        },
        "outputId": "9bff12ca-9c2d-4de6-b19a-ac8eeb9bdf0d"
      },
      "outputs": [
        {
          "output_type": "execute_result",
          "data": {
            "text/plain": [
              "array([5, 7])"
            ]
          },
          "metadata": {},
          "execution_count": 20
        }
      ],
      "source": [
        "mat[1,::2]"
      ]
    },
    {
      "cell_type": "markdown",
      "metadata": {
        "id": "jQuAg20sOnGL"
      },
      "source": [
        "#### 17.Assign 77 to every cell in 3rd column."
      ]
    },
    {
      "cell_type": "code",
      "execution_count": 21,
      "metadata": {
        "id": "h9oOlymiOnGL"
      },
      "outputs": [],
      "source": [
        "mat[:,2]=77"
      ]
    },
    {
      "cell_type": "code",
      "execution_count": 22,
      "metadata": {
        "id": "fJ2sFiNCOnGL",
        "colab": {
          "base_uri": "https://localhost:8080/"
        },
        "outputId": "54f0fa8c-7ffc-47b9-b3e8-881cee2d2a0a"
      },
      "outputs": [
        {
          "output_type": "execute_result",
          "data": {
            "text/plain": [
              "array([[ 1,  2, 77,  4],\n",
              "       [ 5,  6, 77,  8],\n",
              "       [ 9, 10, 77, 12],\n",
              "       [13, 14, 77, 16]])"
            ]
          },
          "metadata": {},
          "execution_count": 22
        }
      ],
      "source": [
        "mat[:,2]=77\n",
        "mat"
      ]
    },
    {
      "cell_type": "markdown",
      "metadata": {
        "id": "HPQVoTgNOnGL"
      },
      "source": [
        "#### 18. Take 2nd row 1st column, 4th row 2nd column."
      ]
    },
    {
      "cell_type": "code",
      "execution_count": 23,
      "metadata": {
        "scrolled": true,
        "id": "Y_eezkPTOnGL",
        "colab": {
          "base_uri": "https://localhost:8080/"
        },
        "outputId": "9e8771e4-7259-444a-8943-e16ad0a2b2f1"
      },
      "outputs": [
        {
          "output_type": "execute_result",
          "data": {
            "text/plain": [
              "array([ 5, 77])"
            ]
          },
          "metadata": {},
          "execution_count": 23
        }
      ],
      "source": [
        "mat[[1,3],[0,2]]"
      ]
    },
    {
      "cell_type": "markdown",
      "metadata": {
        "id": "3ik5k-OEOnGL"
      },
      "source": [
        "#### 19. Take between 2nd and last row with step 2 and between 1 and last column with step 2."
      ]
    },
    {
      "cell_type": "code",
      "execution_count": 24,
      "metadata": {
        "id": "c8v4_umUOnGL",
        "colab": {
          "base_uri": "https://localhost:8080/"
        },
        "outputId": "1fa6a168-859c-46ad-d44d-13aaacd53717"
      },
      "outputs": [
        {
          "output_type": "execute_result",
          "data": {
            "text/plain": [
              "array([[ 5, 77],\n",
              "       [13, 77]])"
            ]
          },
          "metadata": {},
          "execution_count": 24
        }
      ],
      "source": [
        "mat[1::2,0::2]"
      ]
    },
    {
      "cell_type": "markdown",
      "metadata": {
        "id": "fojRzKFvOnGL"
      },
      "source": [
        "## NumPy Operations"
      ]
    },
    {
      "cell_type": "markdown",
      "metadata": {
        "id": "5pDbH_UXOnGM"
      },
      "source": [
        "#### 20. Get the sum of values smaller than 10 and values bigger than 12 from array above "
      ]
    },
    {
      "cell_type": "code",
      "execution_count": 25,
      "metadata": {
        "id": "SE6Qn1AAOnGM",
        "colab": {
          "base_uri": "https://localhost:8080/"
        },
        "outputId": "43cf4599-064d-44b5-d6fa-d4a847b8d571"
      },
      "outputs": [
        {
          "output_type": "execute_result",
          "data": {
            "text/plain": [
              "array([[ 1,  2, 77,  4],\n",
              "       [ 5,  6, 77,  8],\n",
              "       [ 9, 10, 77, 12],\n",
              "       [13, 14, 77, 16]])"
            ]
          },
          "metadata": {},
          "execution_count": 25
        }
      ],
      "source": [
        "mat"
      ]
    },
    {
      "cell_type": "code",
      "execution_count": 26,
      "metadata": {
        "id": "V48uawGIOnGM",
        "colab": {
          "base_uri": "https://localhost:8080/"
        },
        "outputId": "bc8dab0e-e392-4628-bea2-9d0863256267"
      },
      "outputs": [
        {
          "output_type": "execute_result",
          "data": {
            "text/plain": [
              "array([1, 2, 4, 5, 6, 8, 9])"
            ]
          },
          "metadata": {},
          "execution_count": 26
        }
      ],
      "source": [
        "x= mat[mat<10]\n",
        "x"
      ]
    },
    {
      "cell_type": "code",
      "execution_count": 27,
      "metadata": {
        "id": "0gxmF7K_OnGM",
        "colab": {
          "base_uri": "https://localhost:8080/"
        },
        "outputId": "c2c07521-9d47-485e-e3ba-014ab8efe4d7"
      },
      "outputs": [
        {
          "output_type": "execute_result",
          "data": {
            "text/plain": [
              "array([77, 77, 77, 13, 14, 77, 16])"
            ]
          },
          "metadata": {},
          "execution_count": 27
        }
      ],
      "source": [
        "y = mat[mat>12]\n",
        "y"
      ]
    },
    {
      "cell_type": "code",
      "execution_count": 28,
      "metadata": {
        "id": "DMBhMWLuOnGM",
        "colab": {
          "base_uri": "https://localhost:8080/"
        },
        "outputId": "739ea596-71fc-4f66-f086-5cc06f793067"
      },
      "outputs": [
        {
          "output_type": "execute_result",
          "data": {
            "text/plain": [
              "array([78, 79, 81, 18, 20, 85, 25])"
            ]
          },
          "metadata": {},
          "execution_count": 28
        }
      ],
      "source": [
        "x+y"
      ]
    },
    {
      "cell_type": "markdown",
      "metadata": {
        "id": "Pt8CvRaOOnGM"
      },
      "source": [
        "#### 21. Get the standard deviation of the result above"
      ]
    },
    {
      "cell_type": "code",
      "execution_count": 29,
      "metadata": {
        "id": "X0qby3XmOnGM",
        "colab": {
          "base_uri": "https://localhost:8080/"
        },
        "outputId": "a3867f4a-05f1-4917-a828-bc80c85dd3cd"
      },
      "outputs": [
        {
          "output_type": "execute_result",
          "data": {
            "text/plain": [
              "29.700546274093877"
            ]
          },
          "metadata": {},
          "execution_count": 29
        }
      ],
      "source": [
        "np.std(x+y)"
      ]
    },
    {
      "cell_type": "markdown",
      "metadata": {
        "id": "WmT-ZjboOnGM"
      },
      "source": [
        "#### 22. Get the sum of second column from array above"
      ]
    },
    {
      "cell_type": "code",
      "execution_count": 30,
      "metadata": {
        "id": "aGUAr_BqOnGM",
        "colab": {
          "base_uri": "https://localhost:8080/"
        },
        "outputId": "c1435fbb-dceb-4fb5-81b9-3679805becfb"
      },
      "outputs": [
        {
          "output_type": "execute_result",
          "data": {
            "text/plain": [
              "array([[ 1,  2, 77,  4],\n",
              "       [ 5,  6, 77,  8],\n",
              "       [ 9, 10, 77, 12],\n",
              "       [13, 14, 77, 16]])"
            ]
          },
          "metadata": {},
          "execution_count": 30
        }
      ],
      "source": [
        "#print array here\n",
        "mat"
      ]
    },
    {
      "cell_type": "code",
      "execution_count": 31,
      "metadata": {
        "id": "sgk5jj5tOnGN"
      },
      "outputs": [],
      "source": [
        "mat[:,2] = [3,7,11,15] # biz burda eski haline getirdik mat i "
      ]
    },
    {
      "cell_type": "code",
      "source": [
        "mat"
      ],
      "metadata": {
        "id": "oBLXjoYyUdhy",
        "colab": {
          "base_uri": "https://localhost:8080/"
        },
        "outputId": "b52c8b8f-38fc-4b05-ab1f-11b5d8ddc710"
      },
      "execution_count": 32,
      "outputs": [
        {
          "output_type": "execute_result",
          "data": {
            "text/plain": [
              "array([[ 1,  2,  3,  4],\n",
              "       [ 5,  6,  7,  8],\n",
              "       [ 9, 10, 11, 12],\n",
              "       [13, 14, 15, 16]])"
            ]
          },
          "metadata": {},
          "execution_count": 32
        }
      ]
    },
    {
      "cell_type": "code",
      "source": [
        "mat[:,1].sum(axis=0) # burda axis vermeseknde calisir"
      ],
      "metadata": {
        "id": "e3Yo7EdvUfHX",
        "colab": {
          "base_uri": "https://localhost:8080/"
        },
        "outputId": "d072a3e0-3435-4a4b-f15f-e4cbe8926aa4"
      },
      "execution_count": 33,
      "outputs": [
        {
          "output_type": "execute_result",
          "data": {
            "text/plain": [
              "32"
            ]
          },
          "metadata": {},
          "execution_count": 33
        }
      ]
    },
    {
      "cell_type": "markdown",
      "metadata": {
        "id": "yNOjGRUhOnGN"
      },
      "source": [
        "#### 23. Get the median,mean and std of 3rd row from array above"
      ]
    },
    {
      "cell_type": "code",
      "execution_count": null,
      "metadata": {
        "id": "7OSQK_z_OnGN"
      },
      "outputs": [],
      "source": [
        "mat"
      ]
    },
    {
      "cell_type": "code",
      "execution_count": 34,
      "metadata": {
        "id": "HJxUTgv4OnGN",
        "colab": {
          "base_uri": "https://localhost:8080/"
        },
        "outputId": "8965e5b5-d6f3-43ba-eabd-07cb60e7b8c8"
      },
      "outputs": [
        {
          "output_type": "execute_result",
          "data": {
            "text/plain": [
              "array([ 9, 10, 11, 12])"
            ]
          },
          "metadata": {},
          "execution_count": 34
        }
      ],
      "source": [
        "mat[2]# 3.row"
      ]
    },
    {
      "cell_type": "code",
      "execution_count": null,
      "metadata": {
        "id": "lGJ04pVXOnGN"
      },
      "outputs": [],
      "source": [
        "#median\n",
        "np.median(mat[2])"
      ]
    },
    {
      "cell_type": "code",
      "execution_count": null,
      "metadata": {
        "id": "B10mnmlMOnGN"
      },
      "outputs": [],
      "source": [
        "#mean\n",
        "np.mean(mat[2])"
      ]
    },
    {
      "cell_type": "code",
      "execution_count": null,
      "metadata": {
        "id": "M4HOTc9uOnGN"
      },
      "outputs": [],
      "source": [
        "#std\n",
        "np.std(mat[2])"
      ]
    },
    {
      "cell_type": "markdown",
      "metadata": {
        "collapsed": true,
        "id": "XSgMYj2KOnGN"
      },
      "source": [
        "# Pandas Section"
      ]
    },
    {
      "cell_type": "code",
      "execution_count": 35,
      "metadata": {
        "id": "RLk6hoxcOnGO"
      },
      "outputs": [],
      "source": [
        "import pandas as pd"
      ]
    },
    {
      "cell_type": "markdown",
      "metadata": {
        "id": "R2L1VuioOnGO"
      },
      "source": [
        "**Read Salaries.csv take a look at first 5 rows, df info and df statistical measurements**"
      ]
    },
    {
      "cell_type": "code",
      "execution_count": null,
      "metadata": {
        "id": "glRgalyROnGO"
      },
      "outputs": [],
      "source": [
        "sal=pd.read_csv('Salaries.csv')"
      ]
    },
    {
      "cell_type": "code",
      "execution_count": null,
      "metadata": {
        "id": "RJZgG427OnGO"
      },
      "outputs": [],
      "source": [
        "sal.head()"
      ]
    },
    {
      "cell_type": "code",
      "execution_count": null,
      "metadata": {
        "id": "d4gqgePAOnGO"
      },
      "outputs": [],
      "source": [
        "sal.describe()"
      ]
    },
    {
      "cell_type": "code",
      "execution_count": null,
      "metadata": {
        "id": "GNHymqZhOnGO"
      },
      "outputs": [],
      "source": [
        "sal.info()"
      ]
    },
    {
      "cell_type": "markdown",
      "metadata": {
        "id": "Uyb2nkI-OnGO"
      },
      "source": [
        "**How many different year value are there**"
      ]
    },
    {
      "cell_type": "code",
      "execution_count": null,
      "metadata": {
        "id": "DSS6m9EfOnGO"
      },
      "outputs": [],
      "source": [
        "sal.year.value_counts()"
      ]
    },
    {
      "cell_type": "markdown",
      "metadata": {
        "id": "Qqz4kn7iOnGO"
      },
      "source": [
        "**Print out max and avg Totalpay**"
      ]
    },
    {
      "cell_type": "code",
      "execution_count": null,
      "metadata": {
        "id": "bSoZMB8HOnGO"
      },
      "outputs": [],
      "source": [
        "#max\n",
        "sal.TotalPay.max()"
      ]
    },
    {
      "cell_type": "code",
      "execution_count": null,
      "metadata": {
        "id": "8-7sDxujOnGP"
      },
      "outputs": [],
      "source": [
        "#avg\n",
        "sal.TotalPay.mean()"
      ]
    },
    {
      "cell_type": "markdown",
      "metadata": {
        "id": "dgvnu5cEOnGP"
      },
      "source": [
        "**How many records are there which have TotalPay bigger than avg TotalPay**"
      ]
    },
    {
      "cell_type": "code",
      "execution_count": null,
      "metadata": {
        "id": "WLymvombOnGP"
      },
      "outputs": [],
      "source": [
        "len(sal.TotalPay[sal.TotalPay>sal.TotalPay.mean()].value_counts())"
      ]
    },
    {
      "cell_type": "markdown",
      "metadata": {
        "id": "kah-gBaVOnGP"
      },
      "source": [
        "**How much does ALBERT PARDINI make (including benefits)?**"
      ]
    },
    {
      "cell_type": "code",
      "execution_count": null,
      "metadata": {
        "id": "N618Ql1MOnGP"
      },
      "outputs": [],
      "source": [
        "sal.TotalPayBenefits[sal['EmployeeName']=='ALBERT PARDINI']"
      ]
    },
    {
      "cell_type": "markdown",
      "metadata": {
        "id": "KU91gFvrOnGP"
      },
      "source": [
        "**Who is lowest paid person**"
      ]
    },
    {
      "cell_type": "code",
      "execution_count": null,
      "metadata": {
        "id": "hwJddvE7OnGP"
      },
      "outputs": [],
      "source": [
        "sal[sal.TotalPayBenefits==sal.TotalPayBenefits.min()]['EmployeeName']"
      ]
    },
    {
      "cell_type": "markdown",
      "metadata": {
        "id": "ebVrAzSvOnGP"
      },
      "source": [
        "**What are the unique Jobs in dataset?**"
      ]
    },
    {
      "cell_type": "code",
      "source": [
        "sal.JobTitle.unique()"
      ],
      "metadata": {
        "id": "MzzJfJUsAzjw"
      },
      "execution_count": null,
      "outputs": []
    },
    {
      "cell_type": "code",
      "execution_count": null,
      "metadata": {
        "id": "DYrebYJHOnGP"
      },
      "outputs": [],
      "source": [
        ""
      ]
    },
    {
      "cell_type": "markdown",
      "metadata": {
        "id": "JbG2mXF_OnGP"
      },
      "source": [
        "**List 3 least common Jobs**"
      ]
    },
    {
      "cell_type": "code",
      "execution_count": null,
      "metadata": {
        "id": "y9lead1DOnGQ"
      },
      "outputs": [],
      "source": [
        "sal['JobTitle'].value_counts().sort_values()[0:3]"
      ]
    },
    {
      "cell_type": "markdown",
      "metadata": {
        "id": "xgairI88OnGQ"
      },
      "source": [
        "**How many people earned more than avg in 2012**"
      ]
    },
    {
      "cell_type": "code",
      "execution_count": null,
      "metadata": {
        "id": "SNo6pFqlOnGQ"
      },
      "outputs": [],
      "source": [
        "sal[(sal.TotalPayBenefits>sal.TotalPayBenefits.mean()) & (sal.Year==2012)][\"EmployeeName\"].count()"
      ]
    },
    {
      "cell_type": "markdown",
      "metadata": {
        "id": "E1LWzh7QOnGQ"
      },
      "source": [
        "**How many people have the word Manager in their job title?**"
      ]
    },
    {
      "cell_type": "code",
      "execution_count": null,
      "metadata": {
        "id": "IasiqgaEOnGQ"
      },
      "outputs": [],
      "source": [
        "#use apply function here\n",
        "len(salary[salary.JobTitle.apply(lambda x: True if 'manager' in x.lower() else False)])"
      ]
    },
    {
      "cell_type": "markdown",
      "metadata": {
        "id": "LWrAWRMMOnGQ"
      },
      "source": [
        "**Take Id,EmployeeName,JobTitle,TotalPay and TotalPayBenefits columns with iloc and assign it as sal_new dataframe**"
      ]
    },
    {
      "cell_type": "code",
      "execution_count": null,
      "metadata": {
        "id": "Vo9MLLE9OnGQ"
      },
      "outputs": [],
      "source": [
        "sal.head()"
      ]
    },
    {
      "cell_type": "code",
      "execution_count": null,
      "metadata": {
        "id": "rQgJ0FqfOnGQ"
      },
      "outputs": [],
      "source": [
        "sal_new=sal.iloc[:[0,1,2,7,8]]\n",
        "sal_new"
      ]
    },
    {
      "cell_type": "markdown",
      "metadata": {
        "id": "KQMqV4bwOnGR"
      },
      "source": [
        "**Take columns betweeen EmployeeName and TotalPayBenefits with loc and assign it o sal_new df**\n",
        " "
      ]
    },
    {
      "cell_type": "code",
      "execution_count": null,
      "metadata": {
        "id": "7DXhc3t0OnGR"
      },
      "outputs": [],
      "source": [
        "sal_new=sal.loc[:,['EmployeeNmae','TotalPayBenefits']]\n",
        "sal_new"
      ]
    },
    {
      "cell_type": "markdown",
      "metadata": {
        "id": "gOkzlio1OnGR"
      },
      "source": [
        "**Print out the names of the employees who earn more than min, but less than avg**"
      ]
    },
    {
      "cell_type": "code",
      "execution_count": null,
      "metadata": {
        "id": "2f25KBkSOnGR"
      },
      "outputs": [],
      "source": [
        "sal[(sal.TotalPayBenefits>sal.TotalPayBenefits.min()) & (sal.TotalPayBenefits.mean())][\"EmployeeName\"]"
      ]
    },
    {
      "cell_type": "code",
      "execution_count": null,
      "metadata": {
        "id": "lfonvPegOnGR"
      },
      "outputs": [],
      "source": [
        ""
      ]
    }
  ],
  "metadata": {
    "anaconda-cloud": {},
    "kernelspec": {
      "display_name": "Python 3",
      "language": "python",
      "name": "python3"
    },
    "language_info": {
      "codemirror_mode": {
        "name": "ipython",
        "version": 3
      },
      "file_extension": ".py",
      "mimetype": "text/x-python",
      "name": "python",
      "nbconvert_exporter": "python",
      "pygments_lexer": "ipython3",
      "version": "3.8.5"
    },
    "colab": {
      "name": "DaAssignment-1-Student.ipynb ",
      "provenance": [],
      "collapsed_sections": [],
      "include_colab_link": true
    }
  },
  "nbformat": 4,
  "nbformat_minor": 0
}