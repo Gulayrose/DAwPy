{
  "cells": [
    {
      "cell_type": "markdown",
      "metadata": {
        "id": "view-in-github",
        "colab_type": "text"
      },
      "source": [
        "<a href=\"https://colab.research.google.com/github/Gulayrose/DAwPy/blob/main/DAwPy_S10_Part_1_(Text_Time_Methods)_empty_(1).ipynb\" target=\"_parent\"><img src=\"https://colab.research.google.com/assets/colab-badge.svg\" alt=\"Open In Colab\"/></a>"
      ]
    },
    {
      "cell_type": "markdown",
      "metadata": {
        "id": "P0BWyNUvrpQk"
      },
      "source": [
        "___\n",
        "\n",
        "<p style=\"text-align: center;\"><img src=\"https://docs.google.com/uc?id=1lY0Uj5R04yMY3-ZppPWxqCr5pvBLYPnV\" class=\"img-fluid\" alt=\"CLRSWY\"></p>\n",
        "\n",
        "___"
      ]
    },
    {
      "cell_type": "markdown",
      "metadata": {
        "id": "PzTG2rhmrpQo"
      },
      "source": [
        "<h1><p style=\"text-align: center;\">Pandas Lesson, Session - 10</p><h1>"
      ]
    },
    {
      "cell_type": "markdown",
      "metadata": {
        "id": "gsBE4ks5rpQo"
      },
      "source": [
        "<h1><p style=\"text-align: center;\">Working with Text and Time Data</p><h1>"
      ]
    },
    {
      "cell_type": "markdown",
      "metadata": {
        "id": "U1Wl98RerpQp"
      },
      "source": [
        "# Working with Text Data\n",
        "\n",
        "## String Methods\n",
        "https://pandas.pydata.org/pandas-docs/stable/user_guide/text.html\n",
        "\n",
        "https://www.w3schools.com/python/python_ref_string.asp"
      ]
    },
    {
      "cell_type": "code",
      "execution_count": null,
      "metadata": {
        "id": "eBiVBJFjrpQp"
      },
      "outputs": [],
      "source": [
        "import numpy as np\n",
        "import pandas as pd\n",
        "import seaborn as sns"
      ]
    },
    {
      "cell_type": "code",
      "execution_count": null,
      "metadata": {
        "id": "2yWVX2w6rpQq",
        "outputId": "24293608-b538-4943-9d45-7d8c37c57ae9"
      },
      "outputs": [
        {
          "data": {
            "text/html": [
              "<div>\n",
              "<style scoped>\n",
              "    .dataframe tbody tr th:only-of-type {\n",
              "        vertical-align: middle;\n",
              "    }\n",
              "\n",
              "    .dataframe tbody tr th {\n",
              "        vertical-align: top;\n",
              "    }\n",
              "\n",
              "    .dataframe thead th {\n",
              "        text-align: right;\n",
              "    }\n",
              "</style>\n",
              "<table border=\"1\" class=\"dataframe\">\n",
              "  <thead>\n",
              "    <tr style=\"text-align: right;\">\n",
              "      <th></th>\n",
              "      <th>id</th>\n",
              "      <th>staff</th>\n",
              "      <th>department</th>\n",
              "      <th>job</th>\n",
              "      <th>salary</th>\n",
              "      <th>age</th>\n",
              "    </tr>\n",
              "  </thead>\n",
              "  <tbody>\n",
              "    <tr>\n",
              "      <th>0</th>\n",
              "      <td>M0001</td>\n",
              "      <td>Tom BLUE</td>\n",
              "      <td>HR</td>\n",
              "      <td>manager</td>\n",
              "      <td>\"$150,000\"</td>\n",
              "      <td>52</td>\n",
              "    </tr>\n",
              "    <tr>\n",
              "      <th>1</th>\n",
              "      <td>M0002</td>\n",
              "      <td>JOHN BLACK</td>\n",
              "      <td>IT</td>\n",
              "      <td>manager</td>\n",
              "      <td>\"$180,000\"</td>\n",
              "      <td>48</td>\n",
              "    </tr>\n",
              "    <tr>\n",
              "      <th>2</th>\n",
              "      <td>E0001</td>\n",
              "      <td>Micheal Brown</td>\n",
              "      <td>IT</td>\n",
              "      <td>data scientist</td>\n",
              "      <td>\"$150,000\"</td>\n",
              "      <td>35</td>\n",
              "    </tr>\n",
              "    <tr>\n",
              "      <th>3</th>\n",
              "      <td>E0002</td>\n",
              "      <td>jason walker</td>\n",
              "      <td>HR</td>\n",
              "      <td>recruiter</td>\n",
              "      <td>130000dolar</td>\n",
              "      <td>38</td>\n",
              "    </tr>\n",
              "    <tr>\n",
              "      <th>4</th>\n",
              "      <td>E0003</td>\n",
              "      <td>Alex Green</td>\n",
              "      <td>IT</td>\n",
              "      <td>backend developer</td>\n",
              "      <td>\"$110,000\"</td>\n",
              "      <td>-</td>\n",
              "    </tr>\n",
              "    <tr>\n",
              "      <th>5</th>\n",
              "      <td>E0004</td>\n",
              "      <td>OSCAR SMİTH</td>\n",
              "      <td>IT</td>\n",
              "      <td>frontend developer</td>\n",
              "      <td>\"$120,000\"</td>\n",
              "      <td>32</td>\n",
              "    </tr>\n",
              "    <tr>\n",
              "      <th>6</th>\n",
              "      <td>E0005</td>\n",
              "      <td>Adrian STAR</td>\n",
              "      <td>IT</td>\n",
              "      <td>data scientist</td>\n",
              "      <td>\"$135,000\"</td>\n",
              "      <td>40</td>\n",
              "    </tr>\n",
              "    <tr>\n",
              "      <th>7</th>\n",
              "      <td>E0006</td>\n",
              "      <td>Albert simon</td>\n",
              "      <td>IT</td>\n",
              "      <td>data scientist</td>\n",
              "      <td>125000dolar</td>\n",
              "      <td>35</td>\n",
              "    </tr>\n",
              "  </tbody>\n",
              "</table>\n",
              "</div>"
            ],
            "text/plain": [
              "      id          staff department                 job       salary age\n",
              "0  M0001       Tom BLUE         HR             manager   \"$150,000\"  52\n",
              "1  M0002     JOHN BLACK         IT             manager   \"$180,000\"  48\n",
              "2  E0001  Micheal Brown         IT      data scientist   \"$150,000\"  35\n",
              "3  E0002   jason walker         HR           recruiter  130000dolar  38\n",
              "4  E0003     Alex Green         IT   backend developer   \"$110,000\"   -\n",
              "5  E0004    OSCAR SMİTH         IT  frontend developer   \"$120,000\"  32\n",
              "6  E0005    Adrian STAR         IT      data scientist   \"$135,000\"  40\n",
              "7  E0006   Albert simon         IT      data scientist  125000dolar  35"
            ]
          },
          "execution_count": 2,
          "metadata": {},
          "output_type": "execute_result"
        }
      ],
      "source": [
        "df = pd.read_excel(\"../data&resources/text_exercise.xlsx\")\n",
        "df"
      ]
    },
    {
      "cell_type": "code",
      "execution_count": null,
      "metadata": {
        "id": "RK9Z_pXFrpQr",
        "outputId": "1589b75a-6821-4755-d726-a2994cd5a3d9"
      },
      "outputs": [
        {
          "name": "stdout",
          "output_type": "stream",
          "text": [
            "<class 'pandas.core.frame.DataFrame'>\n",
            "RangeIndex: 8 entries, 0 to 7\n",
            "Data columns (total 6 columns):\n",
            " #   Column      Non-Null Count  Dtype \n",
            "---  ------      --------------  ----- \n",
            " 0   id          8 non-null      object\n",
            " 1   staff       8 non-null      object\n",
            " 2   department  8 non-null      object\n",
            " 3   job         8 non-null      object\n",
            " 4   salary      8 non-null      object\n",
            " 5   age         8 non-null      object\n",
            "dtypes: object(6)\n",
            "memory usage: 512.0+ bytes\n"
          ]
        }
      ],
      "source": [
        "df.info()"
      ]
    },
    {
      "cell_type": "markdown",
      "metadata": {
        "id": "hwoHJ8OdrpQs"
      },
      "source": [
        "___"
      ]
    },
    {
      "cell_type": "markdown",
      "metadata": {
        "id": "B_rYPu6RrpQs"
      },
      "source": [
        "- **lower()\t\t  =>** Converts a string into lower case\n",
        "- **upper()\t\t  =>** Converts a string into upper case\n",
        "- **capitalize()  =>** Converts the first character to upper case\n",
        "- **title()\t\t  =>** Converts the first character of each word to upper case\n",
        "- **swapcase()    =>** Swaps the case lower/upper"
      ]
    },
    {
      "cell_type": "markdown",
      "metadata": {
        "id": "dYvRsmJarpQt"
      },
      "source": [
        "___"
      ]
    },
    {
      "cell_type": "code",
      "execution_count": null,
      "metadata": {
        "id": "EeR9qUNxrpQt",
        "outputId": "6cf1e495-cfaa-4077-a66d-97548cf1a506"
      },
      "outputs": [
        {
          "data": {
            "text/plain": [
              "'steve'"
            ]
          },
          "execution_count": 6,
          "metadata": {},
          "output_type": "execute_result"
        }
      ],
      "source": [
        "\"Steve\".lower()"
      ]
    },
    {
      "cell_type": "code",
      "execution_count": null,
      "metadata": {
        "id": "RsemAbQ4rpQt",
        "outputId": "84a72546-4638-4658-c6b2-7941f9bed923"
      },
      "outputs": [
        {
          "data": {
            "text/plain": [
              "0         tom blue\n",
              "1       john black\n",
              "2    micheal brown\n",
              "3     jason walker\n",
              "4       alex green\n",
              "5     oscar smi̇th\n",
              "6      adrian star\n",
              "7     albert simon\n",
              "Name: staff, dtype: object"
            ]
          },
          "execution_count": 7,
          "metadata": {},
          "output_type": "execute_result"
        }
      ],
      "source": [
        "df.staff.str.lower()"
      ]
    },
    {
      "cell_type": "code",
      "execution_count": null,
      "metadata": {
        "id": "cA61XceprpQu",
        "outputId": "ddcc50f0-21b1-48ce-ebfc-c5a051a813e7"
      },
      "outputs": [
        {
          "data": {
            "text/plain": [
              "0         TOM BLUE\n",
              "1       JOHN BLACK\n",
              "2    MICHEAL BROWN\n",
              "3     JASON WALKER\n",
              "4       ALEX GREEN\n",
              "5      OSCAR SMİTH\n",
              "6      ADRIAN STAR\n",
              "7     ALBERT SIMON\n",
              "Name: staff, dtype: object"
            ]
          },
          "execution_count": 8,
          "metadata": {},
          "output_type": "execute_result"
        }
      ],
      "source": [
        "df.staff.str.upper()"
      ]
    },
    {
      "cell_type": "code",
      "execution_count": null,
      "metadata": {
        "id": "qc-0QNXqrpQu",
        "outputId": "b08105b6-7dc8-444d-8b54-425dfcfe3f97"
      },
      "outputs": [
        {
          "data": {
            "text/plain": [
              "0         Tom Blue\n",
              "1       John Black\n",
              "2    Micheal Brown\n",
              "3     Jason Walker\n",
              "4       Alex Green\n",
              "5     Oscar Smi̇th\n",
              "6      Adrian Star\n",
              "7     Albert Simon\n",
              "Name: staff, dtype: object"
            ]
          },
          "execution_count": 9,
          "metadata": {},
          "output_type": "execute_result"
        }
      ],
      "source": [
        "df.staff.str.title()"
      ]
    },
    {
      "cell_type": "code",
      "execution_count": null,
      "metadata": {
        "id": "8DKuCVL4rpQu",
        "outputId": "12a4bc8a-cdfb-47ab-e486-e7c11f6e7c8c"
      },
      "outputs": [
        {
          "data": {
            "text/plain": [
              "0         Tom blue\n",
              "1       John black\n",
              "2    Micheal brown\n",
              "3     Jason walker\n",
              "4       Alex green\n",
              "5     Oscar smi̇th\n",
              "6      Adrian star\n",
              "7     Albert simon\n",
              "Name: staff, dtype: object"
            ]
          },
          "execution_count": 10,
          "metadata": {},
          "output_type": "execute_result"
        }
      ],
      "source": [
        "df.staff.str.capitalize()"
      ]
    },
    {
      "cell_type": "code",
      "execution_count": null,
      "metadata": {
        "id": "sIXbAM8ErpQv",
        "outputId": "d25fc471-a105-473f-f785-a7fb7a8ad238"
      },
      "outputs": [
        {
          "data": {
            "text/plain": [
              "0         tOM blue\n",
              "1       john black\n",
              "2    mICHEAL bROWN\n",
              "3     JASON WALKER\n",
              "4       aLEX gREEN\n",
              "5     oscar smi̇th\n",
              "6      aDRIAN star\n",
              "7     aLBERT SIMON\n",
              "Name: staff, dtype: object"
            ]
          },
          "execution_count": 11,
          "metadata": {},
          "output_type": "execute_result"
        }
      ],
      "source": [
        "df.staff.str.swapcase()"
      ]
    },
    {
      "cell_type": "markdown",
      "metadata": {
        "id": "U8MzkgAxrpQv"
      },
      "source": [
        "___"
      ]
    },
    {
      "cell_type": "markdown",
      "metadata": {
        "id": "X0tsyE9lrpQv"
      },
      "source": [
        "- **isalpha()     =>** Returns True if all characters in the string are in the alphabet\n",
        "- **isnumeric()   =>** Returns True if all characters in the string are numeric\n",
        "- **isalnum()     =>** Returns True if all characters in the string are alphanumeric\n",
        "- **endswith()\t=>** Returns true if the string ends with the specified value\n",
        "- **startswith()\t=>** Returns true if the string starts with the specified value\n",
        "- **contains()\t=>** Returns a Boolean value True for each element if the substring contains in the element, else False."
      ]
    },
    {
      "cell_type": "markdown",
      "metadata": {
        "id": "e5S7hNUzrpQw"
      },
      "source": [
        "___"
      ]
    },
    {
      "cell_type": "code",
      "execution_count": null,
      "metadata": {
        "id": "JFQksEVDrpQw",
        "outputId": "d194a400-1548-40df-c456-57a65238477e"
      },
      "outputs": [
        {
          "data": {
            "text/html": [
              "<div>\n",
              "<style scoped>\n",
              "    .dataframe tbody tr th:only-of-type {\n",
              "        vertical-align: middle;\n",
              "    }\n",
              "\n",
              "    .dataframe tbody tr th {\n",
              "        vertical-align: top;\n",
              "    }\n",
              "\n",
              "    .dataframe thead th {\n",
              "        text-align: right;\n",
              "    }\n",
              "</style>\n",
              "<table border=\"1\" class=\"dataframe\">\n",
              "  <thead>\n",
              "    <tr style=\"text-align: right;\">\n",
              "      <th></th>\n",
              "      <th>id</th>\n",
              "      <th>staff</th>\n",
              "      <th>department</th>\n",
              "      <th>job</th>\n",
              "      <th>salary</th>\n",
              "      <th>age</th>\n",
              "    </tr>\n",
              "  </thead>\n",
              "  <tbody>\n",
              "    <tr>\n",
              "      <th>0</th>\n",
              "      <td>M0001</td>\n",
              "      <td>Tom BLUE</td>\n",
              "      <td>HR</td>\n",
              "      <td>manager</td>\n",
              "      <td>\"$150,000\"</td>\n",
              "      <td>52</td>\n",
              "    </tr>\n",
              "    <tr>\n",
              "      <th>1</th>\n",
              "      <td>M0002</td>\n",
              "      <td>JOHN BLACK</td>\n",
              "      <td>IT</td>\n",
              "      <td>manager</td>\n",
              "      <td>\"$180,000\"</td>\n",
              "      <td>48</td>\n",
              "    </tr>\n",
              "    <tr>\n",
              "      <th>2</th>\n",
              "      <td>E0001</td>\n",
              "      <td>Micheal Brown</td>\n",
              "      <td>IT</td>\n",
              "      <td>data scientist</td>\n",
              "      <td>\"$150,000\"</td>\n",
              "      <td>35</td>\n",
              "    </tr>\n",
              "    <tr>\n",
              "      <th>3</th>\n",
              "      <td>E0002</td>\n",
              "      <td>jason walker</td>\n",
              "      <td>HR</td>\n",
              "      <td>recruiter</td>\n",
              "      <td>130000dolar</td>\n",
              "      <td>38</td>\n",
              "    </tr>\n",
              "    <tr>\n",
              "      <th>4</th>\n",
              "      <td>E0003</td>\n",
              "      <td>Alex Green</td>\n",
              "      <td>IT</td>\n",
              "      <td>backend developer</td>\n",
              "      <td>\"$110,000\"</td>\n",
              "      <td>-</td>\n",
              "    </tr>\n",
              "    <tr>\n",
              "      <th>5</th>\n",
              "      <td>E0004</td>\n",
              "      <td>OSCAR SMİTH</td>\n",
              "      <td>IT</td>\n",
              "      <td>frontend developer</td>\n",
              "      <td>\"$120,000\"</td>\n",
              "      <td>32</td>\n",
              "    </tr>\n",
              "    <tr>\n",
              "      <th>6</th>\n",
              "      <td>E0005</td>\n",
              "      <td>Adrian STAR</td>\n",
              "      <td>IT</td>\n",
              "      <td>data scientist</td>\n",
              "      <td>\"$135,000\"</td>\n",
              "      <td>40</td>\n",
              "    </tr>\n",
              "    <tr>\n",
              "      <th>7</th>\n",
              "      <td>E0006</td>\n",
              "      <td>Albert simon</td>\n",
              "      <td>IT</td>\n",
              "      <td>data scientist</td>\n",
              "      <td>125000dolar</td>\n",
              "      <td>35</td>\n",
              "    </tr>\n",
              "  </tbody>\n",
              "</table>\n",
              "</div>"
            ],
            "text/plain": [
              "      id          staff department                 job       salary age\n",
              "0  M0001       Tom BLUE         HR             manager   \"$150,000\"  52\n",
              "1  M0002     JOHN BLACK         IT             manager   \"$180,000\"  48\n",
              "2  E0001  Micheal Brown         IT      data scientist   \"$150,000\"  35\n",
              "3  E0002   jason walker         HR           recruiter  130000dolar  38\n",
              "4  E0003     Alex Green         IT   backend developer   \"$110,000\"   -\n",
              "5  E0004    OSCAR SMİTH         IT  frontend developer   \"$120,000\"  32\n",
              "6  E0005    Adrian STAR         IT      data scientist   \"$135,000\"  40\n",
              "7  E0006   Albert simon         IT      data scientist  125000dolar  35"
            ]
          },
          "execution_count": 12,
          "metadata": {},
          "output_type": "execute_result"
        }
      ],
      "source": [
        "df"
      ]
    },
    {
      "cell_type": "code",
      "execution_count": null,
      "metadata": {
        "id": "JZi0wLprrpQw",
        "outputId": "61dea8ea-72dd-4054-ea84-a1aaf52c6b19"
      },
      "outputs": [
        {
          "data": {
            "text/plain": [
              "0     True\n",
              "1     True\n",
              "2    False\n",
              "3     True\n",
              "4    False\n",
              "5    False\n",
              "6    False\n",
              "7    False\n",
              "Name: job, dtype: bool"
            ]
          },
          "execution_count": 13,
          "metadata": {},
          "output_type": "execute_result"
        }
      ],
      "source": [
        "df.job.str.isalpha()"
      ]
    },
    {
      "cell_type": "code",
      "execution_count": null,
      "metadata": {
        "id": "BMqPnduorpQx",
        "outputId": "a50bef41-c537-4788-cfba-b90030e2fd97"
      },
      "outputs": [
        {
          "data": {
            "text/plain": [
              "0      NaN\n",
              "1      NaN\n",
              "2      NaN\n",
              "3      NaN\n",
              "4    False\n",
              "5      NaN\n",
              "6      NaN\n",
              "7      NaN\n",
              "Name: age, dtype: object"
            ]
          },
          "execution_count": 14,
          "metadata": {},
          "output_type": "execute_result"
        }
      ],
      "source": [
        "df.age.str.isnumeric()"
      ]
    },
    {
      "cell_type": "code",
      "execution_count": null,
      "metadata": {
        "id": "ldLU8o0lrpQx",
        "outputId": "14c5bdef-43f7-4a62-8d03-74ec722d0312"
      },
      "outputs": [
        {
          "data": {
            "text/plain": [
              "0     True\n",
              "1     True\n",
              "2     True\n",
              "3     True\n",
              "4    False\n",
              "5     True\n",
              "6     True\n",
              "7     True\n",
              "Name: age, dtype: bool"
            ]
          },
          "execution_count": 15,
          "metadata": {},
          "output_type": "execute_result"
        }
      ],
      "source": [
        "df.age.astype(str).str.isnumeric()"
      ]
    },
    {
      "cell_type": "code",
      "execution_count": null,
      "metadata": {
        "id": "tjUF435DrpQx",
        "outputId": "93390e87-2ed6-4263-b150-de81ad3b80ed"
      },
      "outputs": [
        {
          "data": {
            "text/plain": [
              "0     \"$150,000\"\n",
              "1     \"$180,000\"\n",
              "2     \"$150,000\"\n",
              "3    130000dolar\n",
              "4     \"$110,000\"\n",
              "5     \"$120,000\"\n",
              "6     \"$135,000\"\n",
              "7    125000dolar\n",
              "Name: salary, dtype: object"
            ]
          },
          "execution_count": 17,
          "metadata": {},
          "output_type": "execute_result"
        }
      ],
      "source": [
        "df.salary"
      ]
    },
    {
      "cell_type": "code",
      "execution_count": null,
      "metadata": {
        "id": "SZyF0P7JrpQx",
        "outputId": "775ebbed-afd7-41c3-b493-6dd9d88bf54d"
      },
      "outputs": [
        {
          "data": {
            "text/plain": [
              "0    False\n",
              "1    False\n",
              "2    False\n",
              "3     True\n",
              "4    False\n",
              "5    False\n",
              "6    False\n",
              "7     True\n",
              "Name: salary, dtype: bool"
            ]
          },
          "execution_count": 16,
          "metadata": {},
          "output_type": "execute_result"
        }
      ],
      "source": [
        "df.salary.str.isalnum()"
      ]
    },
    {
      "cell_type": "code",
      "execution_count": null,
      "metadata": {
        "id": "gHj5iwgQrpQx",
        "outputId": "5d64911a-288c-4aaf-860f-c7e6f2f539b4"
      },
      "outputs": [
        {
          "data": {
            "text/plain": [
              "0               manager\n",
              "1               manager\n",
              "2        data scientist\n",
              "3             recruiter\n",
              "4     backend developer\n",
              "5    frontend developer\n",
              "6        data scientist\n",
              "7        data scientist\n",
              "Name: job, dtype: object"
            ]
          },
          "execution_count": 18,
          "metadata": {},
          "output_type": "execute_result"
        }
      ],
      "source": [
        "df.job"
      ]
    },
    {
      "cell_type": "code",
      "execution_count": null,
      "metadata": {
        "id": "iukA7E1vrpQy",
        "outputId": "b8fb90fa-a712-4328-d6d7-906b08c475e4"
      },
      "outputs": [
        {
          "data": {
            "text/plain": [
              "0    False\n",
              "1    False\n",
              "2     True\n",
              "3    False\n",
              "4    False\n",
              "5    False\n",
              "6     True\n",
              "7     True\n",
              "Name: job, dtype: bool"
            ]
          },
          "execution_count": 22,
          "metadata": {},
          "output_type": "execute_result"
        }
      ],
      "source": [
        "df.job.str.startswith(\"data\")"
      ]
    },
    {
      "cell_type": "code",
      "execution_count": null,
      "metadata": {
        "id": "CnC_z_zfrpQy",
        "outputId": "7c96c05f-f701-4fab-f5fe-09cfba2e4750"
      },
      "outputs": [
        {
          "data": {
            "text/plain": [
              "0    False\n",
              "1    False\n",
              "2    False\n",
              "3    False\n",
              "4     True\n",
              "5     True\n",
              "6    False\n",
              "7    False\n",
              "Name: job, dtype: bool"
            ]
          },
          "execution_count": 23,
          "metadata": {},
          "output_type": "execute_result"
        }
      ],
      "source": [
        "df.job.str.endswith(\"per\")"
      ]
    },
    {
      "cell_type": "code",
      "execution_count": null,
      "metadata": {
        "id": "OQ90R1aVrpQy",
        "outputId": "873d89ba-7ac6-4df5-f4b7-2e23f6eff898"
      },
      "outputs": [
        {
          "data": {
            "text/plain": [
              "0    False\n",
              "1    False\n",
              "2     True\n",
              "3    False\n",
              "4    False\n",
              "5    False\n",
              "6     True\n",
              "7     True\n",
              "Name: job, dtype: bool"
            ]
          },
          "execution_count": 27,
          "metadata": {},
          "output_type": "execute_result"
        }
      ],
      "source": [
        "df.job.str.contains(\"data\")"
      ]
    },
    {
      "cell_type": "code",
      "execution_count": null,
      "metadata": {
        "id": "luqY4ESlrpQz",
        "outputId": "37c13077-82f0-4f8b-e8c6-b67525c0eda7"
      },
      "outputs": [
        {
          "data": {
            "text/plain": [
              "0     \"$150,000\"\n",
              "1     \"$180,000\"\n",
              "2     \"$150,000\"\n",
              "3    130000dolar\n",
              "4     \"$110,000\"\n",
              "5     \"$120,000\"\n",
              "6     \"$135,000\"\n",
              "7    125000dolar\n",
              "Name: salary, dtype: object"
            ]
          },
          "execution_count": 26,
          "metadata": {},
          "output_type": "execute_result"
        }
      ],
      "source": [
        "df.salary"
      ]
    },
    {
      "cell_type": "code",
      "execution_count": null,
      "metadata": {
        "id": "i5nOcikVrpQz",
        "outputId": "d36eb9d0-7689-4cb4-9f87-1ab343febd48"
      },
      "outputs": [
        {
          "data": {
            "text/plain": [
              "0    False\n",
              "1    False\n",
              "2    False\n",
              "3     True\n",
              "4    False\n",
              "5    False\n",
              "6    False\n",
              "7     True\n",
              "Name: salary, dtype: bool"
            ]
          },
          "execution_count": 28,
          "metadata": {},
          "output_type": "execute_result"
        }
      ],
      "source": [
        "df.salary.str.contains(r\"[a-z]\")"
      ]
    },
    {
      "cell_type": "markdown",
      "metadata": {
        "id": "4mhSLUr4rpQz"
      },
      "source": [
        "we can use these string methods which returning boolean expression for creating condition and so selecting relative rows"
      ]
    },
    {
      "cell_type": "code",
      "execution_count": null,
      "metadata": {
        "id": "hmfoBopCrpQz",
        "outputId": "51ff99bc-91ae-4aa4-d8be-a8ed545c12e1"
      },
      "outputs": [
        {
          "data": {
            "text/html": [
              "<div>\n",
              "<style scoped>\n",
              "    .dataframe tbody tr th:only-of-type {\n",
              "        vertical-align: middle;\n",
              "    }\n",
              "\n",
              "    .dataframe tbody tr th {\n",
              "        vertical-align: top;\n",
              "    }\n",
              "\n",
              "    .dataframe thead th {\n",
              "        text-align: right;\n",
              "    }\n",
              "</style>\n",
              "<table border=\"1\" class=\"dataframe\">\n",
              "  <thead>\n",
              "    <tr style=\"text-align: right;\">\n",
              "      <th></th>\n",
              "      <th>id</th>\n",
              "      <th>staff</th>\n",
              "      <th>department</th>\n",
              "      <th>job</th>\n",
              "      <th>salary</th>\n",
              "      <th>age</th>\n",
              "    </tr>\n",
              "  </thead>\n",
              "  <tbody>\n",
              "    <tr>\n",
              "      <th>2</th>\n",
              "      <td>E0001</td>\n",
              "      <td>Micheal Brown</td>\n",
              "      <td>IT</td>\n",
              "      <td>data scientist</td>\n",
              "      <td>\"$150,000\"</td>\n",
              "      <td>35</td>\n",
              "    </tr>\n",
              "    <tr>\n",
              "      <th>6</th>\n",
              "      <td>E0005</td>\n",
              "      <td>Adrian STAR</td>\n",
              "      <td>IT</td>\n",
              "      <td>data scientist</td>\n",
              "      <td>\"$135,000\"</td>\n",
              "      <td>40</td>\n",
              "    </tr>\n",
              "    <tr>\n",
              "      <th>7</th>\n",
              "      <td>E0006</td>\n",
              "      <td>Albert simon</td>\n",
              "      <td>IT</td>\n",
              "      <td>data scientist</td>\n",
              "      <td>125000dolar</td>\n",
              "      <td>35</td>\n",
              "    </tr>\n",
              "  </tbody>\n",
              "</table>\n",
              "</div>"
            ],
            "text/plain": [
              "      id          staff department             job       salary age\n",
              "2  E0001  Micheal Brown         IT  data scientist   \"$150,000\"  35\n",
              "6  E0005    Adrian STAR         IT  data scientist   \"$135,000\"  40\n",
              "7  E0006   Albert simon         IT  data scientist  125000dolar  35"
            ]
          },
          "execution_count": 29,
          "metadata": {},
          "output_type": "execute_result"
        }
      ],
      "source": [
        "df[df.job.str.contains(\"data\")]"
      ]
    },
    {
      "cell_type": "code",
      "execution_count": null,
      "metadata": {
        "id": "_x_Txm3VrpQz",
        "outputId": "b16e5cd8-a37e-4a51-e27d-b8a7fdbec1fb"
      },
      "outputs": [
        {
          "data": {
            "text/html": [
              "<div>\n",
              "<style scoped>\n",
              "    .dataframe tbody tr th:only-of-type {\n",
              "        vertical-align: middle;\n",
              "    }\n",
              "\n",
              "    .dataframe tbody tr th {\n",
              "        vertical-align: top;\n",
              "    }\n",
              "\n",
              "    .dataframe thead th {\n",
              "        text-align: right;\n",
              "    }\n",
              "</style>\n",
              "<table border=\"1\" class=\"dataframe\">\n",
              "  <thead>\n",
              "    <tr style=\"text-align: right;\">\n",
              "      <th></th>\n",
              "      <th>id</th>\n",
              "      <th>staff</th>\n",
              "      <th>department</th>\n",
              "      <th>job</th>\n",
              "      <th>salary</th>\n",
              "      <th>age</th>\n",
              "    </tr>\n",
              "  </thead>\n",
              "  <tbody>\n",
              "    <tr>\n",
              "      <th>0</th>\n",
              "      <td>M0001</td>\n",
              "      <td>Tom BLUE</td>\n",
              "      <td>HR</td>\n",
              "      <td>manager</td>\n",
              "      <td>\"$150,000\"</td>\n",
              "      <td>52</td>\n",
              "    </tr>\n",
              "    <tr>\n",
              "      <th>1</th>\n",
              "      <td>M0002</td>\n",
              "      <td>JOHN BLACK</td>\n",
              "      <td>IT</td>\n",
              "      <td>manager</td>\n",
              "      <td>\"$180,000\"</td>\n",
              "      <td>48</td>\n",
              "    </tr>\n",
              "    <tr>\n",
              "      <th>2</th>\n",
              "      <td>E0001</td>\n",
              "      <td>Micheal Brown</td>\n",
              "      <td>DS</td>\n",
              "      <td>data scientist</td>\n",
              "      <td>\"$150,000\"</td>\n",
              "      <td>35</td>\n",
              "    </tr>\n",
              "    <tr>\n",
              "      <th>3</th>\n",
              "      <td>E0002</td>\n",
              "      <td>jason walker</td>\n",
              "      <td>HR</td>\n",
              "      <td>recruiter</td>\n",
              "      <td>130000dolar</td>\n",
              "      <td>38</td>\n",
              "    </tr>\n",
              "    <tr>\n",
              "      <th>4</th>\n",
              "      <td>E0003</td>\n",
              "      <td>Alex Green</td>\n",
              "      <td>IT</td>\n",
              "      <td>backend developer</td>\n",
              "      <td>\"$110,000\"</td>\n",
              "      <td>-</td>\n",
              "    </tr>\n",
              "    <tr>\n",
              "      <th>5</th>\n",
              "      <td>E0004</td>\n",
              "      <td>OSCAR SMİTH</td>\n",
              "      <td>IT</td>\n",
              "      <td>frontend developer</td>\n",
              "      <td>\"$120,000\"</td>\n",
              "      <td>32</td>\n",
              "    </tr>\n",
              "    <tr>\n",
              "      <th>6</th>\n",
              "      <td>E0005</td>\n",
              "      <td>Adrian STAR</td>\n",
              "      <td>DS</td>\n",
              "      <td>data scientist</td>\n",
              "      <td>\"$135,000\"</td>\n",
              "      <td>40</td>\n",
              "    </tr>\n",
              "    <tr>\n",
              "      <th>7</th>\n",
              "      <td>E0006</td>\n",
              "      <td>Albert simon</td>\n",
              "      <td>DS</td>\n",
              "      <td>data scientist</td>\n",
              "      <td>125000dolar</td>\n",
              "      <td>35</td>\n",
              "    </tr>\n",
              "  </tbody>\n",
              "</table>\n",
              "</div>"
            ],
            "text/plain": [
              "      id          staff department                 job       salary age\n",
              "0  M0001       Tom BLUE         HR             manager   \"$150,000\"  52\n",
              "1  M0002     JOHN BLACK         IT             manager   \"$180,000\"  48\n",
              "2  E0001  Micheal Brown         DS      data scientist   \"$150,000\"  35\n",
              "3  E0002   jason walker         HR           recruiter  130000dolar  38\n",
              "4  E0003     Alex Green         IT   backend developer   \"$110,000\"   -\n",
              "5  E0004    OSCAR SMİTH         IT  frontend developer   \"$120,000\"  32\n",
              "6  E0005    Adrian STAR         DS      data scientist   \"$135,000\"  40\n",
              "7  E0006   Albert simon         DS      data scientist  125000dolar  35"
            ]
          },
          "execution_count": 31,
          "metadata": {},
          "output_type": "execute_result"
        }
      ],
      "source": [
        "df.loc[df.job.str.contains(\"data\"), \"department\"] = \"DS\"\n",
        "df"
      ]
    },
    {
      "cell_type": "code",
      "execution_count": null,
      "metadata": {
        "id": "pzP5IVUHrpQz",
        "outputId": "655e4df5-9aba-4f94-ec00-a515eef3d8cc"
      },
      "outputs": [
        {
          "data": {
            "text/html": [
              "<div>\n",
              "<style scoped>\n",
              "    .dataframe tbody tr th:only-of-type {\n",
              "        vertical-align: middle;\n",
              "    }\n",
              "\n",
              "    .dataframe tbody tr th {\n",
              "        vertical-align: top;\n",
              "    }\n",
              "\n",
              "    .dataframe thead th {\n",
              "        text-align: right;\n",
              "    }\n",
              "</style>\n",
              "<table border=\"1\" class=\"dataframe\">\n",
              "  <thead>\n",
              "    <tr style=\"text-align: right;\">\n",
              "      <th></th>\n",
              "      <th>id</th>\n",
              "      <th>staff</th>\n",
              "      <th>department</th>\n",
              "      <th>job</th>\n",
              "      <th>salary</th>\n",
              "      <th>age</th>\n",
              "    </tr>\n",
              "  </thead>\n",
              "  <tbody>\n",
              "    <tr>\n",
              "      <th>0</th>\n",
              "      <td>M0001</td>\n",
              "      <td>Tom BLUE</td>\n",
              "      <td>HR</td>\n",
              "      <td>manager</td>\n",
              "      <td>\"$150,000\"</td>\n",
              "      <td>52</td>\n",
              "    </tr>\n",
              "    <tr>\n",
              "      <th>1</th>\n",
              "      <td>M0002</td>\n",
              "      <td>JOHN BLACK</td>\n",
              "      <td>IT</td>\n",
              "      <td>manager</td>\n",
              "      <td>\"$180,000\"</td>\n",
              "      <td>48</td>\n",
              "    </tr>\n",
              "    <tr>\n",
              "      <th>2</th>\n",
              "      <td>E0001</td>\n",
              "      <td>Micheal Brown</td>\n",
              "      <td>IT</td>\n",
              "      <td>data scientist</td>\n",
              "      <td>\"$150,000\"</td>\n",
              "      <td>35</td>\n",
              "    </tr>\n",
              "    <tr>\n",
              "      <th>3</th>\n",
              "      <td>E0002</td>\n",
              "      <td>jason walker</td>\n",
              "      <td>HR</td>\n",
              "      <td>recruiter</td>\n",
              "      <td>130000dolar</td>\n",
              "      <td>38</td>\n",
              "    </tr>\n",
              "    <tr>\n",
              "      <th>4</th>\n",
              "      <td>E0003</td>\n",
              "      <td>Alex Green</td>\n",
              "      <td>IT</td>\n",
              "      <td>backend developer</td>\n",
              "      <td>\"$110,000\"</td>\n",
              "      <td>-</td>\n",
              "    </tr>\n",
              "    <tr>\n",
              "      <th>5</th>\n",
              "      <td>E0004</td>\n",
              "      <td>OSCAR SMİTH</td>\n",
              "      <td>IT</td>\n",
              "      <td>frontend developer</td>\n",
              "      <td>\"$120,000\"</td>\n",
              "      <td>32</td>\n",
              "    </tr>\n",
              "    <tr>\n",
              "      <th>6</th>\n",
              "      <td>E0005</td>\n",
              "      <td>Adrian STAR</td>\n",
              "      <td>IT</td>\n",
              "      <td>data scientist</td>\n",
              "      <td>\"$135,000\"</td>\n",
              "      <td>40</td>\n",
              "    </tr>\n",
              "    <tr>\n",
              "      <th>7</th>\n",
              "      <td>E0006</td>\n",
              "      <td>Albert simon</td>\n",
              "      <td>IT</td>\n",
              "      <td>data scientist</td>\n",
              "      <td>125000dolar</td>\n",
              "      <td>35</td>\n",
              "    </tr>\n",
              "  </tbody>\n",
              "</table>\n",
              "</div>"
            ],
            "text/plain": [
              "      id          staff department                 job       salary age\n",
              "0  M0001       Tom BLUE         HR             manager   \"$150,000\"  52\n",
              "1  M0002     JOHN BLACK         IT             manager   \"$180,000\"  48\n",
              "2  E0001  Micheal Brown         IT      data scientist   \"$150,000\"  35\n",
              "3  E0002   jason walker         HR           recruiter  130000dolar  38\n",
              "4  E0003     Alex Green         IT   backend developer   \"$110,000\"   -\n",
              "5  E0004    OSCAR SMİTH         IT  frontend developer   \"$120,000\"  32\n",
              "6  E0005    Adrian STAR         IT      data scientist   \"$135,000\"  40\n",
              "7  E0006   Albert simon         IT      data scientist  125000dolar  35"
            ]
          },
          "execution_count": 32,
          "metadata": {},
          "output_type": "execute_result"
        }
      ],
      "source": [
        "df.loc[df.job.str.contains(\"data\"), \"department\"] = \"IT\"\n",
        "df"
      ]
    },
    {
      "cell_type": "markdown",
      "metadata": {
        "id": "p0__K0MirpQz"
      },
      "source": [
        "___"
      ]
    },
    {
      "cell_type": "markdown",
      "metadata": {
        "id": "WZJsYGv8rpQ0"
      },
      "source": [
        "- **replace() =>** Returns a string where a specified value is replaced with a specified value\n",
        "\n",
        "- **split()\t=>** Splits the string at the specified separator, and returns a list\n",
        "\n",
        "- **strip()\t=>** Returns a trimmed version of the string\n",
        "\n",
        "- **find()\t=>** Searches the string for a specified value and returns the position of where it was found\n",
        "\n",
        "- **findall()\t=>** Returns a list of all occurrence of the pattern.\n",
        "\n",
        "- **join()\t=>** Converts the elements of an iterable into a string"
      ]
    },
    {
      "cell_type": "markdown",
      "metadata": {
        "id": "tfLKJyuqrpQ0"
      },
      "source": [
        "___"
      ]
    },
    {
      "cell_type": "code",
      "execution_count": null,
      "metadata": {
        "id": "H4k9t-UarpQ0",
        "outputId": "114680f8-0c14-4071-fa3a-88d9db00b3d4"
      },
      "outputs": [
        {
          "data": {
            "text/html": [
              "<div>\n",
              "<style scoped>\n",
              "    .dataframe tbody tr th:only-of-type {\n",
              "        vertical-align: middle;\n",
              "    }\n",
              "\n",
              "    .dataframe tbody tr th {\n",
              "        vertical-align: top;\n",
              "    }\n",
              "\n",
              "    .dataframe thead th {\n",
              "        text-align: right;\n",
              "    }\n",
              "</style>\n",
              "<table border=\"1\" class=\"dataframe\">\n",
              "  <thead>\n",
              "    <tr style=\"text-align: right;\">\n",
              "      <th></th>\n",
              "      <th>id</th>\n",
              "      <th>staff</th>\n",
              "      <th>department</th>\n",
              "      <th>job</th>\n",
              "      <th>salary</th>\n",
              "      <th>age</th>\n",
              "    </tr>\n",
              "  </thead>\n",
              "  <tbody>\n",
              "    <tr>\n",
              "      <th>0</th>\n",
              "      <td>M0001</td>\n",
              "      <td>Tom BLUE</td>\n",
              "      <td>HR</td>\n",
              "      <td>manager</td>\n",
              "      <td>\"$150,000\"</td>\n",
              "      <td>52</td>\n",
              "    </tr>\n",
              "    <tr>\n",
              "      <th>1</th>\n",
              "      <td>M0002</td>\n",
              "      <td>JOHN BLACK</td>\n",
              "      <td>IT</td>\n",
              "      <td>manager</td>\n",
              "      <td>\"$180,000\"</td>\n",
              "      <td>48</td>\n",
              "    </tr>\n",
              "    <tr>\n",
              "      <th>2</th>\n",
              "      <td>E0001</td>\n",
              "      <td>Micheal Brown</td>\n",
              "      <td>IT</td>\n",
              "      <td>data scientist</td>\n",
              "      <td>\"$150,000\"</td>\n",
              "      <td>35</td>\n",
              "    </tr>\n",
              "    <tr>\n",
              "      <th>3</th>\n",
              "      <td>E0002</td>\n",
              "      <td>jason walker</td>\n",
              "      <td>HR</td>\n",
              "      <td>recruiter</td>\n",
              "      <td>130000dolar</td>\n",
              "      <td>38</td>\n",
              "    </tr>\n",
              "    <tr>\n",
              "      <th>4</th>\n",
              "      <td>E0003</td>\n",
              "      <td>Alex Green</td>\n",
              "      <td>IT</td>\n",
              "      <td>backend developer</td>\n",
              "      <td>\"$110,000\"</td>\n",
              "      <td>-</td>\n",
              "    </tr>\n",
              "    <tr>\n",
              "      <th>5</th>\n",
              "      <td>E0004</td>\n",
              "      <td>OSCAR SMİTH</td>\n",
              "      <td>IT</td>\n",
              "      <td>frontend developer</td>\n",
              "      <td>\"$120,000\"</td>\n",
              "      <td>32</td>\n",
              "    </tr>\n",
              "    <tr>\n",
              "      <th>6</th>\n",
              "      <td>E0005</td>\n",
              "      <td>Adrian STAR</td>\n",
              "      <td>IT</td>\n",
              "      <td>data scientist</td>\n",
              "      <td>\"$135,000\"</td>\n",
              "      <td>40</td>\n",
              "    </tr>\n",
              "    <tr>\n",
              "      <th>7</th>\n",
              "      <td>E0006</td>\n",
              "      <td>Albert simon</td>\n",
              "      <td>IT</td>\n",
              "      <td>data scientist</td>\n",
              "      <td>125000dolar</td>\n",
              "      <td>35</td>\n",
              "    </tr>\n",
              "  </tbody>\n",
              "</table>\n",
              "</div>"
            ],
            "text/plain": [
              "      id          staff department                 job       salary age\n",
              "0  M0001       Tom BLUE         HR             manager   \"$150,000\"  52\n",
              "1  M0002     JOHN BLACK         IT             manager   \"$180,000\"  48\n",
              "2  E0001  Micheal Brown         IT      data scientist   \"$150,000\"  35\n",
              "3  E0002   jason walker         HR           recruiter  130000dolar  38\n",
              "4  E0003     Alex Green         IT   backend developer   \"$110,000\"   -\n",
              "5  E0004    OSCAR SMİTH         IT  frontend developer   \"$120,000\"  32\n",
              "6  E0005    Adrian STAR         IT      data scientist   \"$135,000\"  40\n",
              "7  E0006   Albert simon         IT      data scientist  125000dolar  35"
            ]
          },
          "execution_count": 33,
          "metadata": {},
          "output_type": "execute_result"
        }
      ],
      "source": [
        "df"
      ]
    },
    {
      "cell_type": "code",
      "execution_count": null,
      "metadata": {
        "id": "wdjvxhKjrpQ0",
        "outputId": "6c2753a0-f371-4125-ba96-f65006a912f7"
      },
      "outputs": [
        {
          "data": {
            "text/plain": [
              "0       $150,000\n",
              "1       $180,000\n",
              "2       $150,000\n",
              "3    130000dolar\n",
              "4       $110,000\n",
              "5       $120,000\n",
              "6       $135,000\n",
              "7    125000dolar\n",
              "Name: salary, dtype: object"
            ]
          },
          "execution_count": 34,
          "metadata": {},
          "output_type": "execute_result"
        }
      ],
      "source": [
        "df.salary.str.strip(\"\\\"\")"
      ]
    },
    {
      "cell_type": "code",
      "execution_count": null,
      "metadata": {
        "id": "SZaFHQ4KrpQ0",
        "outputId": "23ed435f-0cff-4f0a-9e55-b299df218b7f"
      },
      "outputs": [
        {
          "data": {
            "text/plain": [
              "0    $150,000\n",
              "1    $180,000\n",
              "2    $150,000\n",
              "3      130000\n",
              "4    $110,000\n",
              "5    $120,000\n",
              "6    $135,000\n",
              "7      125000\n",
              "Name: salary, dtype: object"
            ]
          },
          "execution_count": 35,
          "metadata": {},
          "output_type": "execute_result"
        }
      ],
      "source": [
        "df.salary.str.strip(\"\\\"\").str.rstrip(\"dolar\")"
      ]
    },
    {
      "cell_type": "code",
      "execution_count": null,
      "metadata": {
        "id": "RDE4c-rzrpQ1",
        "outputId": "6bb82c9e-0c5f-44de-8ae9-3400c38ca1a1"
      },
      "outputs": [
        {
          "data": {
            "text/plain": [
              "0    150,000\n",
              "1    180,000\n",
              "2    150,000\n",
              "3     130000\n",
              "4    110,000\n",
              "5    120,000\n",
              "6    135,000\n",
              "7     125000\n",
              "Name: salary, dtype: object"
            ]
          },
          "execution_count": 36,
          "metadata": {},
          "output_type": "execute_result"
        }
      ],
      "source": [
        "df.salary.str.strip(\"\\\"\").str.rstrip(\"dolar\").str.lstrip(\"$\")"
      ]
    },
    {
      "cell_type": "code",
      "execution_count": null,
      "metadata": {
        "id": "jYob_3lWrpQ1",
        "outputId": "402876ba-88a4-4a8a-cedc-958affac7c1a"
      },
      "outputs": [
        {
          "data": {
            "text/plain": [
              "0    150,000\n",
              "1    180,000\n",
              "2    150,000\n",
              "3     130000\n",
              "4    110,000\n",
              "5    120,000\n",
              "6    135,000\n",
              "7     125000\n",
              "Name: salary, dtype: object"
            ]
          },
          "execution_count": 37,
          "metadata": {},
          "output_type": "execute_result"
        }
      ],
      "source": [
        "df.salary.str.strip(\"\\\"$dolar\")"
      ]
    },
    {
      "cell_type": "code",
      "execution_count": null,
      "metadata": {
        "id": "ZOWz3SsprpQ1",
        "outputId": "03d4de59-2f92-4a19-ad0d-61a9f51b72ea"
      },
      "outputs": [
        {
          "data": {
            "text/plain": [
              "0    150000\n",
              "1    180000\n",
              "2    150000\n",
              "3    130000\n",
              "4    110000\n",
              "5    120000\n",
              "6    135000\n",
              "7    125000\n",
              "Name: salary, dtype: object"
            ]
          },
          "execution_count": 39,
          "metadata": {},
          "output_type": "execute_result"
        }
      ],
      "source": [
        "df.salary.str.strip(\"\\\"$dolar\").str.replace(\",\", \"\")"
      ]
    },
    {
      "cell_type": "code",
      "execution_count": null,
      "metadata": {
        "id": "-vdeZSGmrpQ1",
        "outputId": "70b83b91-fedf-4b8a-f721-63095e2dfb26"
      },
      "outputs": [
        {
          "data": {
            "text/plain": [
              "0    150000.0\n",
              "1    180000.0\n",
              "2    150000.0\n",
              "3    130000.0\n",
              "4    110000.0\n",
              "5    120000.0\n",
              "6    135000.0\n",
              "7    125000.0\n",
              "Name: salary, dtype: float64"
            ]
          },
          "execution_count": 40,
          "metadata": {},
          "output_type": "execute_result"
        }
      ],
      "source": [
        "df.salary.str.strip(\"\\\"$dolar\").str.replace(\",\", \"\").astype(\"float\")"
      ]
    },
    {
      "cell_type": "code",
      "execution_count": null,
      "metadata": {
        "id": "OhN6SjC0rpQ1",
        "outputId": "792ab45a-ce2a-44b0-e02f-53cdea82eae6"
      },
      "outputs": [
        {
          "data": {
            "text/plain": [
              "0    150000.0\n",
              "1    180000.0\n",
              "2    150000.0\n",
              "3    130000.0\n",
              "4    110000.0\n",
              "5    120000.0\n",
              "6    135000.0\n",
              "7    125000.0\n",
              "Name: salary, dtype: float64"
            ]
          },
          "execution_count": 41,
          "metadata": {},
          "output_type": "execute_result"
        }
      ],
      "source": [
        "df[\"salary\"] = df.salary.str.strip(\"\\\"$dolar\").str.replace(\",\", \"\").astype(\"float\")\n",
        "df.salary"
      ]
    },
    {
      "cell_type": "code",
      "execution_count": null,
      "metadata": {
        "id": "IlMLQ8OurpQ1",
        "outputId": "9679c020-2e58-4859-8f44-4973a9987f26"
      },
      "outputs": [
        {
          "data": {
            "text/plain": [
              "0    52\n",
              "1    48\n",
              "2    35\n",
              "3    38\n",
              "4     -\n",
              "5    32\n",
              "6    40\n",
              "7    35\n",
              "Name: age, dtype: object"
            ]
          },
          "execution_count": 42,
          "metadata": {},
          "output_type": "execute_result"
        }
      ],
      "source": [
        "df.age"
      ]
    },
    {
      "cell_type": "code",
      "execution_count": null,
      "metadata": {
        "id": "twSQCyq6rpQ1",
        "outputId": "838c6d55-661a-48b1-ca1f-cc1a16bbe2b6"
      },
      "outputs": [
        {
          "data": {
            "text/plain": [
              "0    52.0\n",
              "1    48.0\n",
              "2    35.0\n",
              "3    38.0\n",
              "4     NaN\n",
              "5    32.0\n",
              "6    40.0\n",
              "7    35.0\n",
              "Name: age, dtype: float64"
            ]
          },
          "execution_count": 43,
          "metadata": {},
          "output_type": "execute_result"
        }
      ],
      "source": [
        "df.age.replace(\"-\", np.nan)"
      ]
    },
    {
      "cell_type": "code",
      "execution_count": null,
      "metadata": {
        "id": "kR0HYqXzrpQ2"
      },
      "outputs": [],
      "source": [
        "#df.age.str.replace(\"-\", np.nan) # gives an error"
      ]
    },
    {
      "cell_type": "code",
      "execution_count": null,
      "metadata": {
        "id": "ZVCEb268rpQ2",
        "outputId": "0108cc2a-e7c3-4278-ea2d-abb5942bdf2a"
      },
      "outputs": [
        {
          "data": {
            "text/plain": [
              "0    52.0\n",
              "1    48.0\n",
              "2    35.0\n",
              "3    38.0\n",
              "4     NaN\n",
              "5    32.0\n",
              "6    40.0\n",
              "7    35.0\n",
              "Name: age, dtype: float64"
            ]
          },
          "execution_count": 46,
          "metadata": {},
          "output_type": "execute_result"
        }
      ],
      "source": [
        "df[\"age\"] = df.age.replace(\"-\", np.nan)\n",
        "df.age"
      ]
    },
    {
      "cell_type": "markdown",
      "metadata": {
        "id": "hhLCqXrxrpQ2"
      },
      "source": [
        "**str.replace() vs .replace()**\n",
        "\n",
        "- **Purpose:** Use **str.replace** for substring replacements on a single string column, and **replace** for any general replacement on one or more columns.\n",
        "\n",
        "- **Usage:** **str.replace** can replace one thing at a time. **replace** lets you perform multiple independent replacements, i.e., replace many things at once.\n",
        "\n",
        "- **Default behavior:** **str.replace** enables regex replacement by default. **replace** only performs a full match unless the regex=True switch is used."
      ]
    },
    {
      "cell_type": "code",
      "execution_count": null,
      "metadata": {
        "id": "QtO0WucHrpQ2",
        "outputId": "0fe03927-0f44-4b76-dab8-e2fc01f38fc2"
      },
      "outputs": [
        {
          "data": {
            "text/plain": [
              "0         Tom BLUE\n",
              "1       JOHN BLACK\n",
              "2    Micheal Brown\n",
              "3     jason walker\n",
              "4       Alex Green\n",
              "5      OSCAR SMİTH\n",
              "6      Adrian STAR\n",
              "7     Albert simon\n",
              "Name: staff, dtype: object"
            ]
          },
          "execution_count": 47,
          "metadata": {},
          "output_type": "execute_result"
        }
      ],
      "source": [
        "df.staff"
      ]
    },
    {
      "cell_type": "code",
      "execution_count": null,
      "metadata": {
        "id": "A5TH0hU4rpQ2",
        "outputId": "d76dbb19-256e-4841-bb39-b5b4204adb49"
      },
      "outputs": [
        {
          "data": {
            "text/plain": [
              "0         [Tom, Blue]\n",
              "1       [John, Black]\n",
              "2    [Micheal, Brown]\n",
              "3     [Jason, Walker]\n",
              "4       [Alex, Green]\n",
              "5     [Oscar, Smi̇th]\n",
              "6      [Adrian, Star]\n",
              "7     [Albert, Simon]\n",
              "Name: staff, dtype: object"
            ]
          },
          "execution_count": 48,
          "metadata": {},
          "output_type": "execute_result"
        }
      ],
      "source": [
        "df.staff.str.title().str.split()"
      ]
    },
    {
      "cell_type": "code",
      "execution_count": null,
      "metadata": {
        "id": "gHedEdLqrpQ2",
        "outputId": "dbb44c56-27a7-4035-ce43-fc9562a9379e"
      },
      "outputs": [
        {
          "data": {
            "text/plain": [
              "0        Tom\n",
              "1       John\n",
              "2    Micheal\n",
              "3      Jason\n",
              "4       Alex\n",
              "5      Oscar\n",
              "6     Adrian\n",
              "7     Albert\n",
              "Name: staff, dtype: object"
            ]
          },
          "execution_count": 49,
          "metadata": {},
          "output_type": "execute_result"
        }
      ],
      "source": [
        "df.staff.str.title().str.split().str[0]"
      ]
    },
    {
      "cell_type": "code",
      "execution_count": null,
      "metadata": {
        "id": "Smfv2u8jrpQ3"
      },
      "outputs": [],
      "source": [
        "df[\"name\"] = df.staff.str.title().str.split().str[0]\n",
        "df[\"last_name\"] = df.staff.str.title().str.split().str[1]\n",
        "df.drop(\"staff\", axis=1, inplace=True)"
      ]
    },
    {
      "cell_type": "code",
      "execution_count": null,
      "metadata": {
        "id": "T4MVI2lvrpQ3",
        "outputId": "2d870bb8-dc06-46d2-928d-ce33d308f310"
      },
      "outputs": [
        {
          "data": {
            "text/html": [
              "<div>\n",
              "<style scoped>\n",
              "    .dataframe tbody tr th:only-of-type {\n",
              "        vertical-align: middle;\n",
              "    }\n",
              "\n",
              "    .dataframe tbody tr th {\n",
              "        vertical-align: top;\n",
              "    }\n",
              "\n",
              "    .dataframe thead th {\n",
              "        text-align: right;\n",
              "    }\n",
              "</style>\n",
              "<table border=\"1\" class=\"dataframe\">\n",
              "  <thead>\n",
              "    <tr style=\"text-align: right;\">\n",
              "      <th></th>\n",
              "      <th>id</th>\n",
              "      <th>department</th>\n",
              "      <th>job</th>\n",
              "      <th>salary</th>\n",
              "      <th>age</th>\n",
              "      <th>name</th>\n",
              "      <th>last_name</th>\n",
              "    </tr>\n",
              "  </thead>\n",
              "  <tbody>\n",
              "    <tr>\n",
              "      <th>0</th>\n",
              "      <td>M0001</td>\n",
              "      <td>HR</td>\n",
              "      <td>manager</td>\n",
              "      <td>150000.0</td>\n",
              "      <td>52.0</td>\n",
              "      <td>Tom</td>\n",
              "      <td>Blue</td>\n",
              "    </tr>\n",
              "    <tr>\n",
              "      <th>1</th>\n",
              "      <td>M0002</td>\n",
              "      <td>IT</td>\n",
              "      <td>manager</td>\n",
              "      <td>180000.0</td>\n",
              "      <td>48.0</td>\n",
              "      <td>John</td>\n",
              "      <td>Black</td>\n",
              "    </tr>\n",
              "    <tr>\n",
              "      <th>2</th>\n",
              "      <td>E0001</td>\n",
              "      <td>IT</td>\n",
              "      <td>data scientist</td>\n",
              "      <td>150000.0</td>\n",
              "      <td>35.0</td>\n",
              "      <td>Micheal</td>\n",
              "      <td>Brown</td>\n",
              "    </tr>\n",
              "    <tr>\n",
              "      <th>3</th>\n",
              "      <td>E0002</td>\n",
              "      <td>HR</td>\n",
              "      <td>recruiter</td>\n",
              "      <td>130000.0</td>\n",
              "      <td>38.0</td>\n",
              "      <td>Jason</td>\n",
              "      <td>Walker</td>\n",
              "    </tr>\n",
              "    <tr>\n",
              "      <th>4</th>\n",
              "      <td>E0003</td>\n",
              "      <td>IT</td>\n",
              "      <td>backend developer</td>\n",
              "      <td>110000.0</td>\n",
              "      <td>NaN</td>\n",
              "      <td>Alex</td>\n",
              "      <td>Green</td>\n",
              "    </tr>\n",
              "    <tr>\n",
              "      <th>5</th>\n",
              "      <td>E0004</td>\n",
              "      <td>IT</td>\n",
              "      <td>frontend developer</td>\n",
              "      <td>120000.0</td>\n",
              "      <td>32.0</td>\n",
              "      <td>Oscar</td>\n",
              "      <td>Smi̇th</td>\n",
              "    </tr>\n",
              "    <tr>\n",
              "      <th>6</th>\n",
              "      <td>E0005</td>\n",
              "      <td>IT</td>\n",
              "      <td>data scientist</td>\n",
              "      <td>135000.0</td>\n",
              "      <td>40.0</td>\n",
              "      <td>Adrian</td>\n",
              "      <td>Star</td>\n",
              "    </tr>\n",
              "    <tr>\n",
              "      <th>7</th>\n",
              "      <td>E0006</td>\n",
              "      <td>IT</td>\n",
              "      <td>data scientist</td>\n",
              "      <td>125000.0</td>\n",
              "      <td>35.0</td>\n",
              "      <td>Albert</td>\n",
              "      <td>Simon</td>\n",
              "    </tr>\n",
              "  </tbody>\n",
              "</table>\n",
              "</div>"
            ],
            "text/plain": [
              "      id department                 job    salary   age     name last_name\n",
              "0  M0001         HR             manager  150000.0  52.0      Tom      Blue\n",
              "1  M0002         IT             manager  180000.0  48.0     John     Black\n",
              "2  E0001         IT      data scientist  150000.0  35.0  Micheal     Brown\n",
              "3  E0002         HR           recruiter  130000.0  38.0    Jason    Walker\n",
              "4  E0003         IT   backend developer  110000.0   NaN     Alex     Green\n",
              "5  E0004         IT  frontend developer  120000.0  32.0    Oscar    Smi̇th\n",
              "6  E0005         IT      data scientist  135000.0  40.0   Adrian      Star\n",
              "7  E0006         IT      data scientist  125000.0  35.0   Albert     Simon"
            ]
          },
          "execution_count": 51,
          "metadata": {},
          "output_type": "execute_result"
        }
      ],
      "source": [
        "df"
      ]
    },
    {
      "cell_type": "code",
      "execution_count": null,
      "metadata": {
        "id": "xy1dn6IrrpQ3",
        "outputId": "599158b0-d9a8-4bc0-a71e-d3f6b7feff5d"
      },
      "outputs": [
        {
          "data": {
            "text/plain": [
              "0               manager\n",
              "1               manager\n",
              "2        data scientist\n",
              "3             recruiter\n",
              "4     backend developer\n",
              "5    frontend developer\n",
              "6        data scientist\n",
              "7        data scientist\n",
              "Name: job, dtype: object"
            ]
          },
          "execution_count": 52,
          "metadata": {},
          "output_type": "execute_result"
        }
      ],
      "source": [
        "df.job"
      ]
    },
    {
      "cell_type": "code",
      "execution_count": null,
      "metadata": {
        "id": "-OSf9macrpQ3",
        "outputId": "088cb0d4-d496-4724-f5fb-730dde8f6699"
      },
      "outputs": [
        {
          "data": {
            "text/plain": [
              "0   -1\n",
              "1   -1\n",
              "2    5\n",
              "3   -1\n",
              "4   -1\n",
              "5   -1\n",
              "6    5\n",
              "7    5\n",
              "Name: job, dtype: int64"
            ]
          },
          "execution_count": 53,
          "metadata": {},
          "output_type": "execute_result"
        }
      ],
      "source": [
        "df.job.str.find(\"s\")"
      ]
    },
    {
      "cell_type": "code",
      "execution_count": null,
      "metadata": {
        "id": "_v2PpGLBrpQ3",
        "outputId": "0d10c9ed-913f-40c5-aad2-f179e82bda5e"
      },
      "outputs": [
        {
          "data": {
            "text/plain": [
              "0        []\n",
              "1        []\n",
              "2    [s, s]\n",
              "3        []\n",
              "4        []\n",
              "5        []\n",
              "6    [s, s]\n",
              "7    [s, s]\n",
              "Name: job, dtype: object"
            ]
          },
          "execution_count": 56,
          "metadata": {},
          "output_type": "execute_result"
        }
      ],
      "source": [
        "df.job.str.findall(\"s\")"
      ]
    },
    {
      "cell_type": "code",
      "execution_count": null,
      "metadata": {
        "id": "lHp998RWrpQ4",
        "outputId": "4c0ece64-9ddb-4a8c-da72-92a335f054ef"
      },
      "outputs": [
        {
          "data": {
            "text/plain": [
              "0    0\n",
              "1    0\n",
              "2    2\n",
              "3    0\n",
              "4    0\n",
              "5    0\n",
              "6    2\n",
              "7    2\n",
              "Name: job, dtype: int64"
            ]
          },
          "execution_count": 59,
          "metadata": {},
          "output_type": "execute_result"
        }
      ],
      "source": [
        "df.job.str.findall(\"s\").apply(len)"
      ]
    },
    {
      "cell_type": "code",
      "execution_count": null,
      "metadata": {
        "id": "ruZWkd0VrpQ4",
        "outputId": "a90f3c47-18f0-4879-efaf-ca986f62d247"
      },
      "outputs": [
        {
          "data": {
            "text/html": [
              "<div>\n",
              "<style scoped>\n",
              "    .dataframe tbody tr th:only-of-type {\n",
              "        vertical-align: middle;\n",
              "    }\n",
              "\n",
              "    .dataframe tbody tr th {\n",
              "        vertical-align: top;\n",
              "    }\n",
              "\n",
              "    .dataframe thead th {\n",
              "        text-align: right;\n",
              "    }\n",
              "</style>\n",
              "<table border=\"1\" class=\"dataframe\">\n",
              "  <thead>\n",
              "    <tr style=\"text-align: right;\">\n",
              "      <th></th>\n",
              "      <th>id</th>\n",
              "      <th>department</th>\n",
              "      <th>job</th>\n",
              "      <th>salary</th>\n",
              "      <th>age</th>\n",
              "      <th>name</th>\n",
              "      <th>last_name</th>\n",
              "      <th>skills</th>\n",
              "      <th>Skills</th>\n",
              "    </tr>\n",
              "  </thead>\n",
              "  <tbody>\n",
              "    <tr>\n",
              "      <th>0</th>\n",
              "      <td>M0001</td>\n",
              "      <td>HR</td>\n",
              "      <td>manager</td>\n",
              "      <td>150000.0</td>\n",
              "      <td>52.0</td>\n",
              "      <td>Tom</td>\n",
              "      <td>Blue</td>\n",
              "      <td>[]</td>\n",
              "      <td>[]</td>\n",
              "    </tr>\n",
              "    <tr>\n",
              "      <th>1</th>\n",
              "      <td>M0002</td>\n",
              "      <td>IT</td>\n",
              "      <td>manager</td>\n",
              "      <td>180000.0</td>\n",
              "      <td>48.0</td>\n",
              "      <td>John</td>\n",
              "      <td>Black</td>\n",
              "      <td>[Java, C++]</td>\n",
              "      <td>Java,C++</td>\n",
              "    </tr>\n",
              "    <tr>\n",
              "      <th>2</th>\n",
              "      <td>E0001</td>\n",
              "      <td>IT</td>\n",
              "      <td>data scientist</td>\n",
              "      <td>150000.0</td>\n",
              "      <td>35.0</td>\n",
              "      <td>Micheal</td>\n",
              "      <td>Brown</td>\n",
              "      <td>[Python, Tableau, SQL]</td>\n",
              "      <td>[Python, Tableau, SQL]</td>\n",
              "    </tr>\n",
              "    <tr>\n",
              "      <th>3</th>\n",
              "      <td>E0002</td>\n",
              "      <td>HR</td>\n",
              "      <td>recruiter</td>\n",
              "      <td>130000.0</td>\n",
              "      <td>38.0</td>\n",
              "      <td>Jason</td>\n",
              "      <td>Walker</td>\n",
              "      <td>[]</td>\n",
              "      <td>[]</td>\n",
              "    </tr>\n",
              "    <tr>\n",
              "      <th>4</th>\n",
              "      <td>E0003</td>\n",
              "      <td>IT</td>\n",
              "      <td>backend developer</td>\n",
              "      <td>110000.0</td>\n",
              "      <td>NaN</td>\n",
              "      <td>Alex</td>\n",
              "      <td>Green</td>\n",
              "      <td>[React, Django]</td>\n",
              "      <td>[React, Django]</td>\n",
              "    </tr>\n",
              "    <tr>\n",
              "      <th>5</th>\n",
              "      <td>E0004</td>\n",
              "      <td>IT</td>\n",
              "      <td>frontend developer</td>\n",
              "      <td>120000.0</td>\n",
              "      <td>32.0</td>\n",
              "      <td>Oscar</td>\n",
              "      <td>Smi̇th</td>\n",
              "      <td>[JavaScript, Python]</td>\n",
              "      <td>[JavaScript, Python]</td>\n",
              "    </tr>\n",
              "    <tr>\n",
              "      <th>6</th>\n",
              "      <td>E0005</td>\n",
              "      <td>IT</td>\n",
              "      <td>data scientist</td>\n",
              "      <td>135000.0</td>\n",
              "      <td>40.0</td>\n",
              "      <td>Adrian</td>\n",
              "      <td>Star</td>\n",
              "      <td>[R, SQL]</td>\n",
              "      <td>[R, SQL]</td>\n",
              "    </tr>\n",
              "    <tr>\n",
              "      <th>7</th>\n",
              "      <td>E0006</td>\n",
              "      <td>IT</td>\n",
              "      <td>data scientist</td>\n",
              "      <td>125000.0</td>\n",
              "      <td>35.0</td>\n",
              "      <td>Albert</td>\n",
              "      <td>Simon</td>\n",
              "      <td>[SQL, Python]</td>\n",
              "      <td>[SQL, Python]</td>\n",
              "    </tr>\n",
              "  </tbody>\n",
              "</table>\n",
              "</div>"
            ],
            "text/plain": [
              "      id department                 job    salary   age     name last_name  \\\n",
              "0  M0001         HR             manager  150000.0  52.0      Tom      Blue   \n",
              "1  M0002         IT             manager  180000.0  48.0     John     Black   \n",
              "2  E0001         IT      data scientist  150000.0  35.0  Micheal     Brown   \n",
              "3  E0002         HR           recruiter  130000.0  38.0    Jason    Walker   \n",
              "4  E0003         IT   backend developer  110000.0   NaN     Alex     Green   \n",
              "5  E0004         IT  frontend developer  120000.0  32.0    Oscar    Smi̇th   \n",
              "6  E0005         IT      data scientist  135000.0  40.0   Adrian      Star   \n",
              "7  E0006         IT      data scientist  125000.0  35.0   Albert     Simon   \n",
              "\n",
              "                   skills                  Skills  \n",
              "0                      []                      []  \n",
              "1             [Java, C++]                Java,C++  \n",
              "2  [Python, Tableau, SQL]  [Python, Tableau, SQL]  \n",
              "3                      []                      []  \n",
              "4         [React, Django]         [React, Django]  \n",
              "5    [JavaScript, Python]    [JavaScript, Python]  \n",
              "6                [R, SQL]                [R, SQL]  \n",
              "7           [SQL, Python]           [SQL, Python]  "
            ]
          },
          "execution_count": 60,
          "metadata": {},
          "output_type": "execute_result"
        }
      ],
      "source": [
        "df[\"skills\"] = [[],[\"Java\",\"C++\"],[\"Python\",\"Tableau\",\"SQL\"],[],[\"React\",\"Django\"],[\"JavaScript\",\"Python\"],[\"R\",\"SQL\"],[\"SQL\",\"Python\"]]\n",
        "df[\"Skills\"] = [[],[],[\"Python\",\"Tableau\",\"SQL\"],[],[\"React\",\"Django\"],[\"JavaScript\",\"Python\"],[\"R\",\"SQL\"],[\"SQL\",\"Python\"]]\n",
        "df.loc[1, \"Skills\"] = \"Java,C++\"\n",
        "df"
      ]
    },
    {
      "cell_type": "code",
      "execution_count": null,
      "metadata": {
        "id": "XtHpfnrXrpQ4",
        "outputId": "11bb3b6d-6557-4fed-85d3-2196470407e6"
      },
      "outputs": [
        {
          "data": {
            "text/plain": [
              "0                      \n",
              "1              Java,C++\n",
              "2    Python,Tableau,SQL\n",
              "3                      \n",
              "4          React,Django\n",
              "5     JavaScript,Python\n",
              "6                 R,SQL\n",
              "7            SQL,Python\n",
              "Name: skills, dtype: object"
            ]
          },
          "execution_count": 61,
          "metadata": {},
          "output_type": "execute_result"
        }
      ],
      "source": [
        "df.skills.str.join(\",\")"
      ]
    },
    {
      "cell_type": "code",
      "execution_count": null,
      "metadata": {
        "id": "9UPfxxiirpQ4",
        "outputId": "078dea59-1407-4a00-e1c8-d165724e1498"
      },
      "outputs": [
        {
          "data": {
            "text/plain": [
              "0                      \n",
              "1       J,a,v,a,,,C,+,+\n",
              "2    Python,Tableau,SQL\n",
              "3                      \n",
              "4          React,Django\n",
              "5     JavaScript,Python\n",
              "6                 R,SQL\n",
              "7            SQL,Python\n",
              "Name: Skills, dtype: object"
            ]
          },
          "execution_count": 62,
          "metadata": {},
          "output_type": "execute_result"
        }
      ],
      "source": [
        "df.Skills.str.join(\",\")"
      ]
    },
    {
      "cell_type": "code",
      "execution_count": null,
      "metadata": {
        "id": "vUaXq3TArpQ4",
        "outputId": "981509a8-8ab8-41ea-ca78-f34b3fc8a867"
      },
      "outputs": [
        {
          "data": {
            "text/plain": [
              "0                      \n",
              "1              Java,C++\n",
              "2    Python,Tableau,SQL\n",
              "3                      \n",
              "4          React,Django\n",
              "5     JavaScript,Python\n",
              "6                 R,SQL\n",
              "7            SQL,Python\n",
              "Name: Skills, dtype: object"
            ]
          },
          "execution_count": 64,
          "metadata": {},
          "output_type": "execute_result"
        }
      ],
      "source": [
        "df.Skills.apply(lambda x: \",\".join(x) if type(x) == list else x)"
      ]
    },
    {
      "cell_type": "code",
      "execution_count": null,
      "metadata": {
        "id": "0LZHN3_MrpQ4",
        "outputId": "13c4c217-a28d-4b2f-e920-afd872f2471c"
      },
      "outputs": [
        {
          "data": {
            "text/plain": [
              "['',\n",
              " 'Java,C++',\n",
              " 'Python,Tableau,SQL',\n",
              " '',\n",
              " 'React,Django',\n",
              " 'JavaScript,Python',\n",
              " 'R,SQL',\n",
              " 'SQL,Python']"
            ]
          },
          "execution_count": 65,
          "metadata": {},
          "output_type": "execute_result"
        }
      ],
      "source": [
        "[\",\".join(x) if type(x) == list else x for x in df.Skills]"
      ]
    },
    {
      "cell_type": "code",
      "execution_count": null,
      "metadata": {
        "id": "KRTzWVtlrpQ4",
        "outputId": "9387817e-ad7c-4ac8-92f5-b4e05d87f477"
      },
      "outputs": [
        {
          "data": {
            "text/plain": [
              "0                      \n",
              "1              Java,C++\n",
              "2    Python,Tableau,SQL\n",
              "3                      \n",
              "4          React,Django\n",
              "5     JavaScript,Python\n",
              "6                 R,SQL\n",
              "7            SQL,Python\n",
              "Name: Skills, dtype: object"
            ]
          },
          "execution_count": 66,
          "metadata": {},
          "output_type": "execute_result"
        }
      ],
      "source": [
        "df[\"Skills\"] = [\",\".join(x) if type(x) == list else x for x in df.Skills]\n",
        "df.Skills"
      ]
    },
    {
      "cell_type": "code",
      "execution_count": null,
      "metadata": {
        "id": "HWWBTCPOrpQ5",
        "outputId": "1f28c81a-6e13-4f05-d731-b634ce4b2bf8"
      },
      "outputs": [
        {
          "data": {
            "text/html": [
              "<div>\n",
              "<style scoped>\n",
              "    .dataframe tbody tr th:only-of-type {\n",
              "        vertical-align: middle;\n",
              "    }\n",
              "\n",
              "    .dataframe tbody tr th {\n",
              "        vertical-align: top;\n",
              "    }\n",
              "\n",
              "    .dataframe thead th {\n",
              "        text-align: right;\n",
              "    }\n",
              "</style>\n",
              "<table border=\"1\" class=\"dataframe\">\n",
              "  <thead>\n",
              "    <tr style=\"text-align: right;\">\n",
              "      <th></th>\n",
              "      <th>id</th>\n",
              "      <th>department</th>\n",
              "      <th>job</th>\n",
              "      <th>salary</th>\n",
              "      <th>age</th>\n",
              "      <th>name</th>\n",
              "      <th>last_name</th>\n",
              "      <th>skills</th>\n",
              "      <th>Skills</th>\n",
              "    </tr>\n",
              "  </thead>\n",
              "  <tbody>\n",
              "    <tr>\n",
              "      <th>0</th>\n",
              "      <td>M0001</td>\n",
              "      <td>HR</td>\n",
              "      <td>manager</td>\n",
              "      <td>150000.0</td>\n",
              "      <td>52.0</td>\n",
              "      <td>Tom</td>\n",
              "      <td>Blue</td>\n",
              "      <td>[]</td>\n",
              "      <td></td>\n",
              "    </tr>\n",
              "    <tr>\n",
              "      <th>1</th>\n",
              "      <td>M0002</td>\n",
              "      <td>IT</td>\n",
              "      <td>manager</td>\n",
              "      <td>180000.0</td>\n",
              "      <td>48.0</td>\n",
              "      <td>John</td>\n",
              "      <td>Black</td>\n",
              "      <td>[Java, C++]</td>\n",
              "      <td>Java,C++</td>\n",
              "    </tr>\n",
              "    <tr>\n",
              "      <th>2</th>\n",
              "      <td>E0001</td>\n",
              "      <td>IT</td>\n",
              "      <td>data scientist</td>\n",
              "      <td>150000.0</td>\n",
              "      <td>35.0</td>\n",
              "      <td>Micheal</td>\n",
              "      <td>Brown</td>\n",
              "      <td>[Python, Tableau, SQL]</td>\n",
              "      <td>Python,Tableau,SQL</td>\n",
              "    </tr>\n",
              "    <tr>\n",
              "      <th>3</th>\n",
              "      <td>E0002</td>\n",
              "      <td>HR</td>\n",
              "      <td>recruiter</td>\n",
              "      <td>130000.0</td>\n",
              "      <td>38.0</td>\n",
              "      <td>Jason</td>\n",
              "      <td>Walker</td>\n",
              "      <td>[]</td>\n",
              "      <td></td>\n",
              "    </tr>\n",
              "    <tr>\n",
              "      <th>4</th>\n",
              "      <td>E0003</td>\n",
              "      <td>IT</td>\n",
              "      <td>backend developer</td>\n",
              "      <td>110000.0</td>\n",
              "      <td>NaN</td>\n",
              "      <td>Alex</td>\n",
              "      <td>Green</td>\n",
              "      <td>[React, Django]</td>\n",
              "      <td>React,Django</td>\n",
              "    </tr>\n",
              "    <tr>\n",
              "      <th>5</th>\n",
              "      <td>E0004</td>\n",
              "      <td>IT</td>\n",
              "      <td>frontend developer</td>\n",
              "      <td>120000.0</td>\n",
              "      <td>32.0</td>\n",
              "      <td>Oscar</td>\n",
              "      <td>Smi̇th</td>\n",
              "      <td>[JavaScript, Python]</td>\n",
              "      <td>JavaScript,Python</td>\n",
              "    </tr>\n",
              "    <tr>\n",
              "      <th>6</th>\n",
              "      <td>E0005</td>\n",
              "      <td>IT</td>\n",
              "      <td>data scientist</td>\n",
              "      <td>135000.0</td>\n",
              "      <td>40.0</td>\n",
              "      <td>Adrian</td>\n",
              "      <td>Star</td>\n",
              "      <td>[R, SQL]</td>\n",
              "      <td>R,SQL</td>\n",
              "    </tr>\n",
              "    <tr>\n",
              "      <th>7</th>\n",
              "      <td>E0006</td>\n",
              "      <td>IT</td>\n",
              "      <td>data scientist</td>\n",
              "      <td>125000.0</td>\n",
              "      <td>35.0</td>\n",
              "      <td>Albert</td>\n",
              "      <td>Simon</td>\n",
              "      <td>[SQL, Python]</td>\n",
              "      <td>SQL,Python</td>\n",
              "    </tr>\n",
              "  </tbody>\n",
              "</table>\n",
              "</div>"
            ],
            "text/plain": [
              "      id department                 job    salary   age     name last_name  \\\n",
              "0  M0001         HR             manager  150000.0  52.0      Tom      Blue   \n",
              "1  M0002         IT             manager  180000.0  48.0     John     Black   \n",
              "2  E0001         IT      data scientist  150000.0  35.0  Micheal     Brown   \n",
              "3  E0002         HR           recruiter  130000.0  38.0    Jason    Walker   \n",
              "4  E0003         IT   backend developer  110000.0   NaN     Alex     Green   \n",
              "5  E0004         IT  frontend developer  120000.0  32.0    Oscar    Smi̇th   \n",
              "6  E0005         IT      data scientist  135000.0  40.0   Adrian      Star   \n",
              "7  E0006         IT      data scientist  125000.0  35.0   Albert     Simon   \n",
              "\n",
              "                   skills              Skills  \n",
              "0                      []                      \n",
              "1             [Java, C++]            Java,C++  \n",
              "2  [Python, Tableau, SQL]  Python,Tableau,SQL  \n",
              "3                      []                      \n",
              "4         [React, Django]        React,Django  \n",
              "5    [JavaScript, Python]   JavaScript,Python  \n",
              "6                [R, SQL]               R,SQL  \n",
              "7           [SQL, Python]          SQL,Python  "
            ]
          },
          "execution_count": 67,
          "metadata": {},
          "output_type": "execute_result"
        }
      ],
      "source": [
        "df"
      ]
    },
    {
      "cell_type": "markdown",
      "metadata": {
        "id": "f2g2Oah4rpQ5"
      },
      "source": [
        "## Dummy Operation"
      ]
    },
    {
      "cell_type": "markdown",
      "metadata": {
        "id": "Wzesc-qKrpQ5"
      },
      "source": [
        "### get_dummies()\n",
        "\n",
        "\n",
        "1. pd.get_dummies(df/df[\"col_name\"])\n",
        "\n",
        "\n",
        "2. df[\"col_name\"].get_dummies(sep = \",\")"
      ]
    },
    {
      "cell_type": "code",
      "execution_count": null,
      "metadata": {
        "id": "BtC2OmTcrpQ5",
        "outputId": "564d29b0-6c72-4f03-f64f-335bc3a18986"
      },
      "outputs": [
        {
          "data": {
            "text/plain": [
              "0    HR\n",
              "1    IT\n",
              "2    IT\n",
              "3    HR\n",
              "4    IT\n",
              "5    IT\n",
              "6    IT\n",
              "7    IT\n",
              "Name: department, dtype: object"
            ]
          },
          "execution_count": 68,
          "metadata": {},
          "output_type": "execute_result"
        }
      ],
      "source": [
        "df.department"
      ]
    },
    {
      "cell_type": "code",
      "execution_count": null,
      "metadata": {
        "id": "1tfoMHy7rpQ5",
        "outputId": "28991c21-667a-42d9-d7c5-b8692f163ea3"
      },
      "outputs": [
        {
          "data": {
            "text/html": [
              "<div>\n",
              "<style scoped>\n",
              "    .dataframe tbody tr th:only-of-type {\n",
              "        vertical-align: middle;\n",
              "    }\n",
              "\n",
              "    .dataframe tbody tr th {\n",
              "        vertical-align: top;\n",
              "    }\n",
              "\n",
              "    .dataframe thead th {\n",
              "        text-align: right;\n",
              "    }\n",
              "</style>\n",
              "<table border=\"1\" class=\"dataframe\">\n",
              "  <thead>\n",
              "    <tr style=\"text-align: right;\">\n",
              "      <th></th>\n",
              "      <th>HR</th>\n",
              "      <th>IT</th>\n",
              "    </tr>\n",
              "  </thead>\n",
              "  <tbody>\n",
              "    <tr>\n",
              "      <th>0</th>\n",
              "      <td>1</td>\n",
              "      <td>0</td>\n",
              "    </tr>\n",
              "    <tr>\n",
              "      <th>1</th>\n",
              "      <td>0</td>\n",
              "      <td>1</td>\n",
              "    </tr>\n",
              "    <tr>\n",
              "      <th>2</th>\n",
              "      <td>0</td>\n",
              "      <td>1</td>\n",
              "    </tr>\n",
              "    <tr>\n",
              "      <th>3</th>\n",
              "      <td>1</td>\n",
              "      <td>0</td>\n",
              "    </tr>\n",
              "    <tr>\n",
              "      <th>4</th>\n",
              "      <td>0</td>\n",
              "      <td>1</td>\n",
              "    </tr>\n",
              "    <tr>\n",
              "      <th>5</th>\n",
              "      <td>0</td>\n",
              "      <td>1</td>\n",
              "    </tr>\n",
              "    <tr>\n",
              "      <th>6</th>\n",
              "      <td>0</td>\n",
              "      <td>1</td>\n",
              "    </tr>\n",
              "    <tr>\n",
              "      <th>7</th>\n",
              "      <td>0</td>\n",
              "      <td>1</td>\n",
              "    </tr>\n",
              "  </tbody>\n",
              "</table>\n",
              "</div>"
            ],
            "text/plain": [
              "   HR  IT\n",
              "0   1   0\n",
              "1   0   1\n",
              "2   0   1\n",
              "3   1   0\n",
              "4   0   1\n",
              "5   0   1\n",
              "6   0   1\n",
              "7   0   1"
            ]
          },
          "execution_count": 70,
          "metadata": {},
          "output_type": "execute_result"
        }
      ],
      "source": [
        "pd.get_dummies(df.department)"
      ]
    },
    {
      "cell_type": "code",
      "execution_count": null,
      "metadata": {
        "id": "d6eC8VgWrpQ5",
        "outputId": "fbdba5c3-2349-4956-e07f-354fe30ea0a7"
      },
      "outputs": [
        {
          "data": {
            "text/html": [
              "<div>\n",
              "<style scoped>\n",
              "    .dataframe tbody tr th:only-of-type {\n",
              "        vertical-align: middle;\n",
              "    }\n",
              "\n",
              "    .dataframe tbody tr th {\n",
              "        vertical-align: top;\n",
              "    }\n",
              "\n",
              "    .dataframe thead th {\n",
              "        text-align: right;\n",
              "    }\n",
              "</style>\n",
              "<table border=\"1\" class=\"dataframe\">\n",
              "  <thead>\n",
              "    <tr style=\"text-align: right;\">\n",
              "      <th></th>\n",
              "      <th>IT</th>\n",
              "    </tr>\n",
              "  </thead>\n",
              "  <tbody>\n",
              "    <tr>\n",
              "      <th>0</th>\n",
              "      <td>0</td>\n",
              "    </tr>\n",
              "    <tr>\n",
              "      <th>1</th>\n",
              "      <td>1</td>\n",
              "    </tr>\n",
              "    <tr>\n",
              "      <th>2</th>\n",
              "      <td>1</td>\n",
              "    </tr>\n",
              "    <tr>\n",
              "      <th>3</th>\n",
              "      <td>0</td>\n",
              "    </tr>\n",
              "    <tr>\n",
              "      <th>4</th>\n",
              "      <td>1</td>\n",
              "    </tr>\n",
              "    <tr>\n",
              "      <th>5</th>\n",
              "      <td>1</td>\n",
              "    </tr>\n",
              "    <tr>\n",
              "      <th>6</th>\n",
              "      <td>1</td>\n",
              "    </tr>\n",
              "    <tr>\n",
              "      <th>7</th>\n",
              "      <td>1</td>\n",
              "    </tr>\n",
              "  </tbody>\n",
              "</table>\n",
              "</div>"
            ],
            "text/plain": [
              "   IT\n",
              "0   0\n",
              "1   1\n",
              "2   1\n",
              "3   0\n",
              "4   1\n",
              "5   1\n",
              "6   1\n",
              "7   1"
            ]
          },
          "execution_count": 71,
          "metadata": {},
          "output_type": "execute_result"
        }
      ],
      "source": [
        "pd.get_dummies(df.department, drop_first=True)"
      ]
    },
    {
      "cell_type": "code",
      "execution_count": null,
      "metadata": {
        "id": "tRDbcYjkrpQ5",
        "outputId": "9b53eb88-5269-4741-9858-c465520c8287"
      },
      "outputs": [
        {
          "data": {
            "text/plain": [
              "0                      \n",
              "1              Java,C++\n",
              "2    Python,Tableau,SQL\n",
              "3                      \n",
              "4          React,Django\n",
              "5     JavaScript,Python\n",
              "6                 R,SQL\n",
              "7            SQL,Python\n",
              "Name: Skills, dtype: object"
            ]
          },
          "execution_count": 72,
          "metadata": {},
          "output_type": "execute_result"
        }
      ],
      "source": [
        "df.Skills"
      ]
    },
    {
      "cell_type": "code",
      "execution_count": null,
      "metadata": {
        "id": "8bVmGfaTrpQ5",
        "outputId": "f39c4b61-0aae-42e3-8232-cf9d3da9a418"
      },
      "outputs": [
        {
          "data": {
            "text/html": [
              "<div>\n",
              "<style scoped>\n",
              "    .dataframe tbody tr th:only-of-type {\n",
              "        vertical-align: middle;\n",
              "    }\n",
              "\n",
              "    .dataframe tbody tr th {\n",
              "        vertical-align: top;\n",
              "    }\n",
              "\n",
              "    .dataframe thead th {\n",
              "        text-align: right;\n",
              "    }\n",
              "</style>\n",
              "<table border=\"1\" class=\"dataframe\">\n",
              "  <thead>\n",
              "    <tr style=\"text-align: right;\">\n",
              "      <th></th>\n",
              "      <th>C++</th>\n",
              "      <th>Django</th>\n",
              "      <th>Java</th>\n",
              "      <th>JavaScript</th>\n",
              "      <th>Python</th>\n",
              "      <th>R</th>\n",
              "      <th>React</th>\n",
              "      <th>SQL</th>\n",
              "      <th>Tableau</th>\n",
              "    </tr>\n",
              "  </thead>\n",
              "  <tbody>\n",
              "    <tr>\n",
              "      <th>0</th>\n",
              "      <td>0</td>\n",
              "      <td>0</td>\n",
              "      <td>0</td>\n",
              "      <td>0</td>\n",
              "      <td>0</td>\n",
              "      <td>0</td>\n",
              "      <td>0</td>\n",
              "      <td>0</td>\n",
              "      <td>0</td>\n",
              "    </tr>\n",
              "    <tr>\n",
              "      <th>1</th>\n",
              "      <td>1</td>\n",
              "      <td>0</td>\n",
              "      <td>1</td>\n",
              "      <td>0</td>\n",
              "      <td>0</td>\n",
              "      <td>0</td>\n",
              "      <td>0</td>\n",
              "      <td>0</td>\n",
              "      <td>0</td>\n",
              "    </tr>\n",
              "    <tr>\n",
              "      <th>2</th>\n",
              "      <td>0</td>\n",
              "      <td>0</td>\n",
              "      <td>0</td>\n",
              "      <td>0</td>\n",
              "      <td>1</td>\n",
              "      <td>0</td>\n",
              "      <td>0</td>\n",
              "      <td>1</td>\n",
              "      <td>1</td>\n",
              "    </tr>\n",
              "    <tr>\n",
              "      <th>3</th>\n",
              "      <td>0</td>\n",
              "      <td>0</td>\n",
              "      <td>0</td>\n",
              "      <td>0</td>\n",
              "      <td>0</td>\n",
              "      <td>0</td>\n",
              "      <td>0</td>\n",
              "      <td>0</td>\n",
              "      <td>0</td>\n",
              "    </tr>\n",
              "    <tr>\n",
              "      <th>4</th>\n",
              "      <td>0</td>\n",
              "      <td>1</td>\n",
              "      <td>0</td>\n",
              "      <td>0</td>\n",
              "      <td>0</td>\n",
              "      <td>0</td>\n",
              "      <td>1</td>\n",
              "      <td>0</td>\n",
              "      <td>0</td>\n",
              "    </tr>\n",
              "    <tr>\n",
              "      <th>5</th>\n",
              "      <td>0</td>\n",
              "      <td>0</td>\n",
              "      <td>0</td>\n",
              "      <td>1</td>\n",
              "      <td>1</td>\n",
              "      <td>0</td>\n",
              "      <td>0</td>\n",
              "      <td>0</td>\n",
              "      <td>0</td>\n",
              "    </tr>\n",
              "    <tr>\n",
              "      <th>6</th>\n",
              "      <td>0</td>\n",
              "      <td>0</td>\n",
              "      <td>0</td>\n",
              "      <td>0</td>\n",
              "      <td>0</td>\n",
              "      <td>1</td>\n",
              "      <td>0</td>\n",
              "      <td>1</td>\n",
              "      <td>0</td>\n",
              "    </tr>\n",
              "    <tr>\n",
              "      <th>7</th>\n",
              "      <td>0</td>\n",
              "      <td>0</td>\n",
              "      <td>0</td>\n",
              "      <td>0</td>\n",
              "      <td>1</td>\n",
              "      <td>0</td>\n",
              "      <td>0</td>\n",
              "      <td>1</td>\n",
              "      <td>0</td>\n",
              "    </tr>\n",
              "  </tbody>\n",
              "</table>\n",
              "</div>"
            ],
            "text/plain": [
              "   C++  Django  Java  JavaScript  Python  R  React  SQL  Tableau\n",
              "0    0       0     0           0       0  0      0    0        0\n",
              "1    1       0     1           0       0  0      0    0        0\n",
              "2    0       0     0           0       1  0      0    1        1\n",
              "3    0       0     0           0       0  0      0    0        0\n",
              "4    0       1     0           0       0  0      1    0        0\n",
              "5    0       0     0           1       1  0      0    0        0\n",
              "6    0       0     0           0       0  1      0    1        0\n",
              "7    0       0     0           0       1  0      0    1        0"
            ]
          },
          "execution_count": 73,
          "metadata": {},
          "output_type": "execute_result"
        }
      ],
      "source": [
        "df.Skills.str.get_dummies(sep=\",\")"
      ]
    },
    {
      "cell_type": "code",
      "execution_count": null,
      "metadata": {
        "id": "rin8g_AYrpQ6",
        "outputId": "d2d1b39c-759b-4f90-a145-d4534b0405e6"
      },
      "outputs": [
        {
          "data": {
            "text/html": [
              "<div>\n",
              "<style scoped>\n",
              "    .dataframe tbody tr th:only-of-type {\n",
              "        vertical-align: middle;\n",
              "    }\n",
              "\n",
              "    .dataframe tbody tr th {\n",
              "        vertical-align: top;\n",
              "    }\n",
              "\n",
              "    .dataframe thead th {\n",
              "        text-align: right;\n",
              "    }\n",
              "</style>\n",
              "<table border=\"1\" class=\"dataframe\">\n",
              "  <thead>\n",
              "    <tr style=\"text-align: right;\">\n",
              "      <th></th>\n",
              "      <th>skills_C++</th>\n",
              "      <th>skills_Django</th>\n",
              "      <th>skills_Java</th>\n",
              "      <th>skills_JavaScript</th>\n",
              "      <th>skills_Python</th>\n",
              "      <th>skills_R</th>\n",
              "      <th>skills_React</th>\n",
              "      <th>skills_SQL</th>\n",
              "      <th>skills_Tableau</th>\n",
              "    </tr>\n",
              "  </thead>\n",
              "  <tbody>\n",
              "    <tr>\n",
              "      <th>0</th>\n",
              "      <td>0</td>\n",
              "      <td>0</td>\n",
              "      <td>0</td>\n",
              "      <td>0</td>\n",
              "      <td>0</td>\n",
              "      <td>0</td>\n",
              "      <td>0</td>\n",
              "      <td>0</td>\n",
              "      <td>0</td>\n",
              "    </tr>\n",
              "    <tr>\n",
              "      <th>1</th>\n",
              "      <td>1</td>\n",
              "      <td>0</td>\n",
              "      <td>1</td>\n",
              "      <td>0</td>\n",
              "      <td>0</td>\n",
              "      <td>0</td>\n",
              "      <td>0</td>\n",
              "      <td>0</td>\n",
              "      <td>0</td>\n",
              "    </tr>\n",
              "    <tr>\n",
              "      <th>2</th>\n",
              "      <td>0</td>\n",
              "      <td>0</td>\n",
              "      <td>0</td>\n",
              "      <td>0</td>\n",
              "      <td>1</td>\n",
              "      <td>0</td>\n",
              "      <td>0</td>\n",
              "      <td>1</td>\n",
              "      <td>1</td>\n",
              "    </tr>\n",
              "    <tr>\n",
              "      <th>3</th>\n",
              "      <td>0</td>\n",
              "      <td>0</td>\n",
              "      <td>0</td>\n",
              "      <td>0</td>\n",
              "      <td>0</td>\n",
              "      <td>0</td>\n",
              "      <td>0</td>\n",
              "      <td>0</td>\n",
              "      <td>0</td>\n",
              "    </tr>\n",
              "    <tr>\n",
              "      <th>4</th>\n",
              "      <td>0</td>\n",
              "      <td>1</td>\n",
              "      <td>0</td>\n",
              "      <td>0</td>\n",
              "      <td>0</td>\n",
              "      <td>0</td>\n",
              "      <td>1</td>\n",
              "      <td>0</td>\n",
              "      <td>0</td>\n",
              "    </tr>\n",
              "    <tr>\n",
              "      <th>5</th>\n",
              "      <td>0</td>\n",
              "      <td>0</td>\n",
              "      <td>0</td>\n",
              "      <td>1</td>\n",
              "      <td>1</td>\n",
              "      <td>0</td>\n",
              "      <td>0</td>\n",
              "      <td>0</td>\n",
              "      <td>0</td>\n",
              "    </tr>\n",
              "    <tr>\n",
              "      <th>6</th>\n",
              "      <td>0</td>\n",
              "      <td>0</td>\n",
              "      <td>0</td>\n",
              "      <td>0</td>\n",
              "      <td>0</td>\n",
              "      <td>1</td>\n",
              "      <td>0</td>\n",
              "      <td>1</td>\n",
              "      <td>0</td>\n",
              "    </tr>\n",
              "    <tr>\n",
              "      <th>7</th>\n",
              "      <td>0</td>\n",
              "      <td>0</td>\n",
              "      <td>0</td>\n",
              "      <td>0</td>\n",
              "      <td>1</td>\n",
              "      <td>0</td>\n",
              "      <td>0</td>\n",
              "      <td>1</td>\n",
              "      <td>0</td>\n",
              "    </tr>\n",
              "  </tbody>\n",
              "</table>\n",
              "</div>"
            ],
            "text/plain": [
              "   skills_C++  skills_Django  skills_Java  skills_JavaScript  skills_Python  \\\n",
              "0           0              0            0                  0              0   \n",
              "1           1              0            1                  0              0   \n",
              "2           0              0            0                  0              1   \n",
              "3           0              0            0                  0              0   \n",
              "4           0              1            0                  0              0   \n",
              "5           0              0            0                  1              1   \n",
              "6           0              0            0                  0              0   \n",
              "7           0              0            0                  0              1   \n",
              "\n",
              "   skills_R  skills_React  skills_SQL  skills_Tableau  \n",
              "0         0             0           0               0  \n",
              "1         0             0           0               0  \n",
              "2         0             0           1               1  \n",
              "3         0             0           0               0  \n",
              "4         0             1           0               0  \n",
              "5         0             0           0               0  \n",
              "6         1             0           1               0  \n",
              "7         0             0           1               0  "
            ]
          },
          "execution_count": 74,
          "metadata": {},
          "output_type": "execute_result"
        }
      ],
      "source": [
        "df.Skills.str.get_dummies(sep=\",\").add_prefix(\"skills_\")"
      ]
    },
    {
      "cell_type": "code",
      "execution_count": null,
      "metadata": {
        "id": "MuSbSpzwrpQ6"
      },
      "outputs": [],
      "source": [
        "skills_dummy = df.Skills.str.get_dummies(sep=\",\").add_prefix(\"skills_\")"
      ]
    },
    {
      "cell_type": "code",
      "execution_count": null,
      "metadata": {
        "id": "Yye-jWAPrpQ6",
        "outputId": "136eae7d-f89a-48d6-bb48-22d045b22516"
      },
      "outputs": [
        {
          "data": {
            "text/html": [
              "<div>\n",
              "<style scoped>\n",
              "    .dataframe tbody tr th:only-of-type {\n",
              "        vertical-align: middle;\n",
              "    }\n",
              "\n",
              "    .dataframe tbody tr th {\n",
              "        vertical-align: top;\n",
              "    }\n",
              "\n",
              "    .dataframe thead th {\n",
              "        text-align: right;\n",
              "    }\n",
              "</style>\n",
              "<table border=\"1\" class=\"dataframe\">\n",
              "  <thead>\n",
              "    <tr style=\"text-align: right;\">\n",
              "      <th></th>\n",
              "      <th>id</th>\n",
              "      <th>department</th>\n",
              "      <th>job</th>\n",
              "      <th>salary</th>\n",
              "      <th>Skills</th>\n",
              "    </tr>\n",
              "  </thead>\n",
              "  <tbody>\n",
              "    <tr>\n",
              "      <th>0</th>\n",
              "      <td>M0001</td>\n",
              "      <td>HR</td>\n",
              "      <td>manager</td>\n",
              "      <td>150000.0</td>\n",
              "      <td></td>\n",
              "    </tr>\n",
              "    <tr>\n",
              "      <th>1</th>\n",
              "      <td>M0002</td>\n",
              "      <td>IT</td>\n",
              "      <td>manager</td>\n",
              "      <td>180000.0</td>\n",
              "      <td>Java,C++</td>\n",
              "    </tr>\n",
              "    <tr>\n",
              "      <th>2</th>\n",
              "      <td>E0001</td>\n",
              "      <td>IT</td>\n",
              "      <td>data scientist</td>\n",
              "      <td>150000.0</td>\n",
              "      <td>Python,Tableau,SQL</td>\n",
              "    </tr>\n",
              "    <tr>\n",
              "      <th>3</th>\n",
              "      <td>E0002</td>\n",
              "      <td>HR</td>\n",
              "      <td>recruiter</td>\n",
              "      <td>130000.0</td>\n",
              "      <td></td>\n",
              "    </tr>\n",
              "    <tr>\n",
              "      <th>4</th>\n",
              "      <td>E0003</td>\n",
              "      <td>IT</td>\n",
              "      <td>backend developer</td>\n",
              "      <td>110000.0</td>\n",
              "      <td>React,Django</td>\n",
              "    </tr>\n",
              "    <tr>\n",
              "      <th>5</th>\n",
              "      <td>E0004</td>\n",
              "      <td>IT</td>\n",
              "      <td>frontend developer</td>\n",
              "      <td>120000.0</td>\n",
              "      <td>JavaScript,Python</td>\n",
              "    </tr>\n",
              "    <tr>\n",
              "      <th>6</th>\n",
              "      <td>E0005</td>\n",
              "      <td>IT</td>\n",
              "      <td>data scientist</td>\n",
              "      <td>135000.0</td>\n",
              "      <td>R,SQL</td>\n",
              "    </tr>\n",
              "    <tr>\n",
              "      <th>7</th>\n",
              "      <td>E0006</td>\n",
              "      <td>IT</td>\n",
              "      <td>data scientist</td>\n",
              "      <td>125000.0</td>\n",
              "      <td>SQL,Python</td>\n",
              "    </tr>\n",
              "  </tbody>\n",
              "</table>\n",
              "</div>"
            ],
            "text/plain": [
              "      id department                 job    salary              Skills\n",
              "0  M0001         HR             manager  150000.0                    \n",
              "1  M0002         IT             manager  180000.0            Java,C++\n",
              "2  E0001         IT      data scientist  150000.0  Python,Tableau,SQL\n",
              "3  E0002         HR           recruiter  130000.0                    \n",
              "4  E0003         IT   backend developer  110000.0        React,Django\n",
              "5  E0004         IT  frontend developer  120000.0   JavaScript,Python\n",
              "6  E0005         IT      data scientist  135000.0               R,SQL\n",
              "7  E0006         IT      data scientist  125000.0          SQL,Python"
            ]
          },
          "execution_count": 77,
          "metadata": {},
          "output_type": "execute_result"
        }
      ],
      "source": [
        "df_final = df[[\"id\", \"department\", \"job\", \"salary\", \"Skills\"]]\n",
        "df_final"
      ]
    },
    {
      "cell_type": "code",
      "execution_count": null,
      "metadata": {
        "id": "cqw5dcnErpQ6",
        "outputId": "c25732e3-0bf5-4072-ab05-b3297856b7dd"
      },
      "outputs": [
        {
          "data": {
            "text/html": [
              "<div>\n",
              "<style scoped>\n",
              "    .dataframe tbody tr th:only-of-type {\n",
              "        vertical-align: middle;\n",
              "    }\n",
              "\n",
              "    .dataframe tbody tr th {\n",
              "        vertical-align: top;\n",
              "    }\n",
              "\n",
              "    .dataframe thead th {\n",
              "        text-align: right;\n",
              "    }\n",
              "</style>\n",
              "<table border=\"1\" class=\"dataframe\">\n",
              "  <thead>\n",
              "    <tr style=\"text-align: right;\">\n",
              "      <th></th>\n",
              "      <th>id</th>\n",
              "      <th>department</th>\n",
              "      <th>job</th>\n",
              "      <th>salary</th>\n",
              "      <th>Skills</th>\n",
              "      <th>skills_C++</th>\n",
              "      <th>skills_Django</th>\n",
              "      <th>skills_Java</th>\n",
              "      <th>skills_JavaScript</th>\n",
              "      <th>skills_Python</th>\n",
              "      <th>skills_R</th>\n",
              "      <th>skills_React</th>\n",
              "      <th>skills_SQL</th>\n",
              "      <th>skills_Tableau</th>\n",
              "    </tr>\n",
              "  </thead>\n",
              "  <tbody>\n",
              "    <tr>\n",
              "      <th>0</th>\n",
              "      <td>M0001</td>\n",
              "      <td>HR</td>\n",
              "      <td>manager</td>\n",
              "      <td>150000.0</td>\n",
              "      <td></td>\n",
              "      <td>0</td>\n",
              "      <td>0</td>\n",
              "      <td>0</td>\n",
              "      <td>0</td>\n",
              "      <td>0</td>\n",
              "      <td>0</td>\n",
              "      <td>0</td>\n",
              "      <td>0</td>\n",
              "      <td>0</td>\n",
              "    </tr>\n",
              "    <tr>\n",
              "      <th>1</th>\n",
              "      <td>M0002</td>\n",
              "      <td>IT</td>\n",
              "      <td>manager</td>\n",
              "      <td>180000.0</td>\n",
              "      <td>Java,C++</td>\n",
              "      <td>1</td>\n",
              "      <td>0</td>\n",
              "      <td>1</td>\n",
              "      <td>0</td>\n",
              "      <td>0</td>\n",
              "      <td>0</td>\n",
              "      <td>0</td>\n",
              "      <td>0</td>\n",
              "      <td>0</td>\n",
              "    </tr>\n",
              "    <tr>\n",
              "      <th>2</th>\n",
              "      <td>E0001</td>\n",
              "      <td>IT</td>\n",
              "      <td>data scientist</td>\n",
              "      <td>150000.0</td>\n",
              "      <td>Python,Tableau,SQL</td>\n",
              "      <td>0</td>\n",
              "      <td>0</td>\n",
              "      <td>0</td>\n",
              "      <td>0</td>\n",
              "      <td>1</td>\n",
              "      <td>0</td>\n",
              "      <td>0</td>\n",
              "      <td>1</td>\n",
              "      <td>1</td>\n",
              "    </tr>\n",
              "    <tr>\n",
              "      <th>3</th>\n",
              "      <td>E0002</td>\n",
              "      <td>HR</td>\n",
              "      <td>recruiter</td>\n",
              "      <td>130000.0</td>\n",
              "      <td></td>\n",
              "      <td>0</td>\n",
              "      <td>0</td>\n",
              "      <td>0</td>\n",
              "      <td>0</td>\n",
              "      <td>0</td>\n",
              "      <td>0</td>\n",
              "      <td>0</td>\n",
              "      <td>0</td>\n",
              "      <td>0</td>\n",
              "    </tr>\n",
              "    <tr>\n",
              "      <th>4</th>\n",
              "      <td>E0003</td>\n",
              "      <td>IT</td>\n",
              "      <td>backend developer</td>\n",
              "      <td>110000.0</td>\n",
              "      <td>React,Django</td>\n",
              "      <td>0</td>\n",
              "      <td>1</td>\n",
              "      <td>0</td>\n",
              "      <td>0</td>\n",
              "      <td>0</td>\n",
              "      <td>0</td>\n",
              "      <td>1</td>\n",
              "      <td>0</td>\n",
              "      <td>0</td>\n",
              "    </tr>\n",
              "    <tr>\n",
              "      <th>5</th>\n",
              "      <td>E0004</td>\n",
              "      <td>IT</td>\n",
              "      <td>frontend developer</td>\n",
              "      <td>120000.0</td>\n",
              "      <td>JavaScript,Python</td>\n",
              "      <td>0</td>\n",
              "      <td>0</td>\n",
              "      <td>0</td>\n",
              "      <td>1</td>\n",
              "      <td>1</td>\n",
              "      <td>0</td>\n",
              "      <td>0</td>\n",
              "      <td>0</td>\n",
              "      <td>0</td>\n",
              "    </tr>\n",
              "    <tr>\n",
              "      <th>6</th>\n",
              "      <td>E0005</td>\n",
              "      <td>IT</td>\n",
              "      <td>data scientist</td>\n",
              "      <td>135000.0</td>\n",
              "      <td>R,SQL</td>\n",
              "      <td>0</td>\n",
              "      <td>0</td>\n",
              "      <td>0</td>\n",
              "      <td>0</td>\n",
              "      <td>0</td>\n",
              "      <td>1</td>\n",
              "      <td>0</td>\n",
              "      <td>1</td>\n",
              "      <td>0</td>\n",
              "    </tr>\n",
              "    <tr>\n",
              "      <th>7</th>\n",
              "      <td>E0006</td>\n",
              "      <td>IT</td>\n",
              "      <td>data scientist</td>\n",
              "      <td>125000.0</td>\n",
              "      <td>SQL,Python</td>\n",
              "      <td>0</td>\n",
              "      <td>0</td>\n",
              "      <td>0</td>\n",
              "      <td>0</td>\n",
              "      <td>1</td>\n",
              "      <td>0</td>\n",
              "      <td>0</td>\n",
              "      <td>1</td>\n",
              "      <td>0</td>\n",
              "    </tr>\n",
              "  </tbody>\n",
              "</table>\n",
              "</div>"
            ],
            "text/plain": [
              "      id department                 job    salary              Skills  \\\n",
              "0  M0001         HR             manager  150000.0                       \n",
              "1  M0002         IT             manager  180000.0            Java,C++   \n",
              "2  E0001         IT      data scientist  150000.0  Python,Tableau,SQL   \n",
              "3  E0002         HR           recruiter  130000.0                       \n",
              "4  E0003         IT   backend developer  110000.0        React,Django   \n",
              "5  E0004         IT  frontend developer  120000.0   JavaScript,Python   \n",
              "6  E0005         IT      data scientist  135000.0               R,SQL   \n",
              "7  E0006         IT      data scientist  125000.0          SQL,Python   \n",
              "\n",
              "   skills_C++  skills_Django  skills_Java  skills_JavaScript  skills_Python  \\\n",
              "0           0              0            0                  0              0   \n",
              "1           1              0            1                  0              0   \n",
              "2           0              0            0                  0              1   \n",
              "3           0              0            0                  0              0   \n",
              "4           0              1            0                  0              0   \n",
              "5           0              0            0                  1              1   \n",
              "6           0              0            0                  0              0   \n",
              "7           0              0            0                  0              1   \n",
              "\n",
              "   skills_R  skills_React  skills_SQL  skills_Tableau  \n",
              "0         0             0           0               0  \n",
              "1         0             0           0               0  \n",
              "2         0             0           1               1  \n",
              "3         0             0           0               0  \n",
              "4         0             1           0               0  \n",
              "5         0             0           0               0  \n",
              "6         1             0           1               0  \n",
              "7         0             0           1               0  "
            ]
          },
          "execution_count": 78,
          "metadata": {},
          "output_type": "execute_result"
        }
      ],
      "source": [
        "df_final.join(skills_dummy)"
      ]
    },
    {
      "cell_type": "code",
      "execution_count": null,
      "metadata": {
        "id": "aBBEDGlXrpQ7",
        "outputId": "6d2de1da-5fae-4d4d-990f-3799f9b35e6c"
      },
      "outputs": [
        {
          "data": {
            "text/html": [
              "<div>\n",
              "<style scoped>\n",
              "    .dataframe tbody tr th:only-of-type {\n",
              "        vertical-align: middle;\n",
              "    }\n",
              "\n",
              "    .dataframe tbody tr th {\n",
              "        vertical-align: top;\n",
              "    }\n",
              "\n",
              "    .dataframe thead th {\n",
              "        text-align: right;\n",
              "    }\n",
              "</style>\n",
              "<table border=\"1\" class=\"dataframe\">\n",
              "  <thead>\n",
              "    <tr style=\"text-align: right;\">\n",
              "      <th></th>\n",
              "      <th>id</th>\n",
              "      <th>department</th>\n",
              "      <th>job</th>\n",
              "      <th>salary</th>\n",
              "      <th>skills_C++</th>\n",
              "      <th>skills_Django</th>\n",
              "      <th>skills_Java</th>\n",
              "      <th>skills_JavaScript</th>\n",
              "      <th>skills_Python</th>\n",
              "      <th>skills_R</th>\n",
              "      <th>skills_React</th>\n",
              "      <th>skills_SQL</th>\n",
              "      <th>skills_Tableau</th>\n",
              "    </tr>\n",
              "  </thead>\n",
              "  <tbody>\n",
              "    <tr>\n",
              "      <th>0</th>\n",
              "      <td>M0001</td>\n",
              "      <td>HR</td>\n",
              "      <td>manager</td>\n",
              "      <td>150000.0</td>\n",
              "      <td>0</td>\n",
              "      <td>0</td>\n",
              "      <td>0</td>\n",
              "      <td>0</td>\n",
              "      <td>0</td>\n",
              "      <td>0</td>\n",
              "      <td>0</td>\n",
              "      <td>0</td>\n",
              "      <td>0</td>\n",
              "    </tr>\n",
              "    <tr>\n",
              "      <th>1</th>\n",
              "      <td>M0002</td>\n",
              "      <td>IT</td>\n",
              "      <td>manager</td>\n",
              "      <td>180000.0</td>\n",
              "      <td>1</td>\n",
              "      <td>0</td>\n",
              "      <td>1</td>\n",
              "      <td>0</td>\n",
              "      <td>0</td>\n",
              "      <td>0</td>\n",
              "      <td>0</td>\n",
              "      <td>0</td>\n",
              "      <td>0</td>\n",
              "    </tr>\n",
              "    <tr>\n",
              "      <th>2</th>\n",
              "      <td>E0001</td>\n",
              "      <td>IT</td>\n",
              "      <td>data scientist</td>\n",
              "      <td>150000.0</td>\n",
              "      <td>0</td>\n",
              "      <td>0</td>\n",
              "      <td>0</td>\n",
              "      <td>0</td>\n",
              "      <td>1</td>\n",
              "      <td>0</td>\n",
              "      <td>0</td>\n",
              "      <td>1</td>\n",
              "      <td>1</td>\n",
              "    </tr>\n",
              "    <tr>\n",
              "      <th>3</th>\n",
              "      <td>E0002</td>\n",
              "      <td>HR</td>\n",
              "      <td>recruiter</td>\n",
              "      <td>130000.0</td>\n",
              "      <td>0</td>\n",
              "      <td>0</td>\n",
              "      <td>0</td>\n",
              "      <td>0</td>\n",
              "      <td>0</td>\n",
              "      <td>0</td>\n",
              "      <td>0</td>\n",
              "      <td>0</td>\n",
              "      <td>0</td>\n",
              "    </tr>\n",
              "    <tr>\n",
              "      <th>4</th>\n",
              "      <td>E0003</td>\n",
              "      <td>IT</td>\n",
              "      <td>backend developer</td>\n",
              "      <td>110000.0</td>\n",
              "      <td>0</td>\n",
              "      <td>1</td>\n",
              "      <td>0</td>\n",
              "      <td>0</td>\n",
              "      <td>0</td>\n",
              "      <td>0</td>\n",
              "      <td>1</td>\n",
              "      <td>0</td>\n",
              "      <td>0</td>\n",
              "    </tr>\n",
              "    <tr>\n",
              "      <th>5</th>\n",
              "      <td>E0004</td>\n",
              "      <td>IT</td>\n",
              "      <td>frontend developer</td>\n",
              "      <td>120000.0</td>\n",
              "      <td>0</td>\n",
              "      <td>0</td>\n",
              "      <td>0</td>\n",
              "      <td>1</td>\n",
              "      <td>1</td>\n",
              "      <td>0</td>\n",
              "      <td>0</td>\n",
              "      <td>0</td>\n",
              "      <td>0</td>\n",
              "    </tr>\n",
              "    <tr>\n",
              "      <th>6</th>\n",
              "      <td>E0005</td>\n",
              "      <td>IT</td>\n",
              "      <td>data scientist</td>\n",
              "      <td>135000.0</td>\n",
              "      <td>0</td>\n",
              "      <td>0</td>\n",
              "      <td>0</td>\n",
              "      <td>0</td>\n",
              "      <td>0</td>\n",
              "      <td>1</td>\n",
              "      <td>0</td>\n",
              "      <td>1</td>\n",
              "      <td>0</td>\n",
              "    </tr>\n",
              "    <tr>\n",
              "      <th>7</th>\n",
              "      <td>E0006</td>\n",
              "      <td>IT</td>\n",
              "      <td>data scientist</td>\n",
              "      <td>125000.0</td>\n",
              "      <td>0</td>\n",
              "      <td>0</td>\n",
              "      <td>0</td>\n",
              "      <td>0</td>\n",
              "      <td>1</td>\n",
              "      <td>0</td>\n",
              "      <td>0</td>\n",
              "      <td>1</td>\n",
              "      <td>0</td>\n",
              "    </tr>\n",
              "  </tbody>\n",
              "</table>\n",
              "</div>"
            ],
            "text/plain": [
              "      id department                 job    salary  skills_C++  skills_Django  \\\n",
              "0  M0001         HR             manager  150000.0           0              0   \n",
              "1  M0002         IT             manager  180000.0           1              0   \n",
              "2  E0001         IT      data scientist  150000.0           0              0   \n",
              "3  E0002         HR           recruiter  130000.0           0              0   \n",
              "4  E0003         IT   backend developer  110000.0           0              1   \n",
              "5  E0004         IT  frontend developer  120000.0           0              0   \n",
              "6  E0005         IT      data scientist  135000.0           0              0   \n",
              "7  E0006         IT      data scientist  125000.0           0              0   \n",
              "\n",
              "   skills_Java  skills_JavaScript  skills_Python  skills_R  skills_React  \\\n",
              "0            0                  0              0         0             0   \n",
              "1            1                  0              0         0             0   \n",
              "2            0                  0              1         0             0   \n",
              "3            0                  0              0         0             0   \n",
              "4            0                  0              0         0             1   \n",
              "5            0                  1              1         0             0   \n",
              "6            0                  0              0         1             0   \n",
              "7            0                  0              1         0             0   \n",
              "\n",
              "   skills_SQL  skills_Tableau  \n",
              "0           0               0  \n",
              "1           0               0  \n",
              "2           1               1  \n",
              "3           0               0  \n",
              "4           0               0  \n",
              "5           0               0  \n",
              "6           1               0  \n",
              "7           1               0  "
            ]
          },
          "execution_count": 79,
          "metadata": {},
          "output_type": "execute_result"
        }
      ],
      "source": [
        "df_final = df_final.join(skills_dummy)\n",
        "df_final.drop(\"Skills\", axis=1, inplace=True)\n",
        "df_final"
      ]
    },
    {
      "cell_type": "code",
      "execution_count": null,
      "metadata": {
        "id": "jUTVmVsjrpQ7"
      },
      "outputs": [],
      "source": [
        "df_final.drop(\"id\", axis=1, inplace=True)"
      ]
    },
    {
      "cell_type": "code",
      "execution_count": null,
      "metadata": {
        "id": "yUFCB2ujrpQ7",
        "outputId": "9ed32c50-20e7-4ea3-d1b1-54245a241acd"
      },
      "outputs": [
        {
          "data": {
            "text/html": [
              "<div>\n",
              "<style scoped>\n",
              "    .dataframe tbody tr th:only-of-type {\n",
              "        vertical-align: middle;\n",
              "    }\n",
              "\n",
              "    .dataframe tbody tr th {\n",
              "        vertical-align: top;\n",
              "    }\n",
              "\n",
              "    .dataframe thead th {\n",
              "        text-align: right;\n",
              "    }\n",
              "</style>\n",
              "<table border=\"1\" class=\"dataframe\">\n",
              "  <thead>\n",
              "    <tr style=\"text-align: right;\">\n",
              "      <th></th>\n",
              "      <th>salary</th>\n",
              "      <th>skills_C++</th>\n",
              "      <th>skills_Django</th>\n",
              "      <th>skills_Java</th>\n",
              "      <th>skills_JavaScript</th>\n",
              "      <th>skills_Python</th>\n",
              "      <th>skills_R</th>\n",
              "      <th>skills_React</th>\n",
              "      <th>skills_SQL</th>\n",
              "      <th>skills_Tableau</th>\n",
              "      <th>department_IT</th>\n",
              "      <th>job_data scientist</th>\n",
              "      <th>job_frontend developer</th>\n",
              "      <th>job_manager</th>\n",
              "      <th>job_recruiter</th>\n",
              "    </tr>\n",
              "  </thead>\n",
              "  <tbody>\n",
              "    <tr>\n",
              "      <th>0</th>\n",
              "      <td>150000.0</td>\n",
              "      <td>0</td>\n",
              "      <td>0</td>\n",
              "      <td>0</td>\n",
              "      <td>0</td>\n",
              "      <td>0</td>\n",
              "      <td>0</td>\n",
              "      <td>0</td>\n",
              "      <td>0</td>\n",
              "      <td>0</td>\n",
              "      <td>0</td>\n",
              "      <td>0</td>\n",
              "      <td>0</td>\n",
              "      <td>1</td>\n",
              "      <td>0</td>\n",
              "    </tr>\n",
              "    <tr>\n",
              "      <th>1</th>\n",
              "      <td>180000.0</td>\n",
              "      <td>1</td>\n",
              "      <td>0</td>\n",
              "      <td>1</td>\n",
              "      <td>0</td>\n",
              "      <td>0</td>\n",
              "      <td>0</td>\n",
              "      <td>0</td>\n",
              "      <td>0</td>\n",
              "      <td>0</td>\n",
              "      <td>1</td>\n",
              "      <td>0</td>\n",
              "      <td>0</td>\n",
              "      <td>1</td>\n",
              "      <td>0</td>\n",
              "    </tr>\n",
              "    <tr>\n",
              "      <th>2</th>\n",
              "      <td>150000.0</td>\n",
              "      <td>0</td>\n",
              "      <td>0</td>\n",
              "      <td>0</td>\n",
              "      <td>0</td>\n",
              "      <td>1</td>\n",
              "      <td>0</td>\n",
              "      <td>0</td>\n",
              "      <td>1</td>\n",
              "      <td>1</td>\n",
              "      <td>1</td>\n",
              "      <td>1</td>\n",
              "      <td>0</td>\n",
              "      <td>0</td>\n",
              "      <td>0</td>\n",
              "    </tr>\n",
              "    <tr>\n",
              "      <th>3</th>\n",
              "      <td>130000.0</td>\n",
              "      <td>0</td>\n",
              "      <td>0</td>\n",
              "      <td>0</td>\n",
              "      <td>0</td>\n",
              "      <td>0</td>\n",
              "      <td>0</td>\n",
              "      <td>0</td>\n",
              "      <td>0</td>\n",
              "      <td>0</td>\n",
              "      <td>0</td>\n",
              "      <td>0</td>\n",
              "      <td>0</td>\n",
              "      <td>0</td>\n",
              "      <td>1</td>\n",
              "    </tr>\n",
              "    <tr>\n",
              "      <th>4</th>\n",
              "      <td>110000.0</td>\n",
              "      <td>0</td>\n",
              "      <td>1</td>\n",
              "      <td>0</td>\n",
              "      <td>0</td>\n",
              "      <td>0</td>\n",
              "      <td>0</td>\n",
              "      <td>1</td>\n",
              "      <td>0</td>\n",
              "      <td>0</td>\n",
              "      <td>1</td>\n",
              "      <td>0</td>\n",
              "      <td>0</td>\n",
              "      <td>0</td>\n",
              "      <td>0</td>\n",
              "    </tr>\n",
              "    <tr>\n",
              "      <th>5</th>\n",
              "      <td>120000.0</td>\n",
              "      <td>0</td>\n",
              "      <td>0</td>\n",
              "      <td>0</td>\n",
              "      <td>1</td>\n",
              "      <td>1</td>\n",
              "      <td>0</td>\n",
              "      <td>0</td>\n",
              "      <td>0</td>\n",
              "      <td>0</td>\n",
              "      <td>1</td>\n",
              "      <td>0</td>\n",
              "      <td>1</td>\n",
              "      <td>0</td>\n",
              "      <td>0</td>\n",
              "    </tr>\n",
              "    <tr>\n",
              "      <th>6</th>\n",
              "      <td>135000.0</td>\n",
              "      <td>0</td>\n",
              "      <td>0</td>\n",
              "      <td>0</td>\n",
              "      <td>0</td>\n",
              "      <td>0</td>\n",
              "      <td>1</td>\n",
              "      <td>0</td>\n",
              "      <td>1</td>\n",
              "      <td>0</td>\n",
              "      <td>1</td>\n",
              "      <td>1</td>\n",
              "      <td>0</td>\n",
              "      <td>0</td>\n",
              "      <td>0</td>\n",
              "    </tr>\n",
              "    <tr>\n",
              "      <th>7</th>\n",
              "      <td>125000.0</td>\n",
              "      <td>0</td>\n",
              "      <td>0</td>\n",
              "      <td>0</td>\n",
              "      <td>0</td>\n",
              "      <td>1</td>\n",
              "      <td>0</td>\n",
              "      <td>0</td>\n",
              "      <td>1</td>\n",
              "      <td>0</td>\n",
              "      <td>1</td>\n",
              "      <td>1</td>\n",
              "      <td>0</td>\n",
              "      <td>0</td>\n",
              "      <td>0</td>\n",
              "    </tr>\n",
              "  </tbody>\n",
              "</table>\n",
              "</div>"
            ],
            "text/plain": [
              "     salary  skills_C++  skills_Django  skills_Java  skills_JavaScript  \\\n",
              "0  150000.0           0              0            0                  0   \n",
              "1  180000.0           1              0            1                  0   \n",
              "2  150000.0           0              0            0                  0   \n",
              "3  130000.0           0              0            0                  0   \n",
              "4  110000.0           0              1            0                  0   \n",
              "5  120000.0           0              0            0                  1   \n",
              "6  135000.0           0              0            0                  0   \n",
              "7  125000.0           0              0            0                  0   \n",
              "\n",
              "   skills_Python  skills_R  skills_React  skills_SQL  skills_Tableau  \\\n",
              "0              0         0             0           0               0   \n",
              "1              0         0             0           0               0   \n",
              "2              1         0             0           1               1   \n",
              "3              0         0             0           0               0   \n",
              "4              0         0             1           0               0   \n",
              "5              1         0             0           0               0   \n",
              "6              0         1             0           1               0   \n",
              "7              1         0             0           1               0   \n",
              "\n",
              "   department_IT  job_data scientist  job_frontend developer  job_manager  \\\n",
              "0              0                   0                       0            1   \n",
              "1              1                   0                       0            1   \n",
              "2              1                   1                       0            0   \n",
              "3              0                   0                       0            0   \n",
              "4              1                   0                       0            0   \n",
              "5              1                   0                       1            0   \n",
              "6              1                   1                       0            0   \n",
              "7              1                   1                       0            0   \n",
              "\n",
              "   job_recruiter  \n",
              "0              0  \n",
              "1              0  \n",
              "2              0  \n",
              "3              1  \n",
              "4              0  \n",
              "5              0  \n",
              "6              0  \n",
              "7              0  "
            ]
          },
          "execution_count": 83,
          "metadata": {},
          "output_type": "execute_result"
        }
      ],
      "source": [
        "pd.get_dummies(df_final, drop_first=True)"
      ]
    },
    {
      "cell_type": "code",
      "execution_count": null,
      "metadata": {
        "id": "eJznRTqTrpQ7",
        "outputId": "68a78430-f7c5-4a3d-b5d2-083cfbc81831"
      },
      "outputs": [
        {
          "data": {
            "text/html": [
              "<div>\n",
              "<style scoped>\n",
              "    .dataframe tbody tr th:only-of-type {\n",
              "        vertical-align: middle;\n",
              "    }\n",
              "\n",
              "    .dataframe tbody tr th {\n",
              "        vertical-align: top;\n",
              "    }\n",
              "\n",
              "    .dataframe thead th {\n",
              "        text-align: right;\n",
              "    }\n",
              "</style>\n",
              "<table border=\"1\" class=\"dataframe\">\n",
              "  <thead>\n",
              "    <tr style=\"text-align: right;\">\n",
              "      <th></th>\n",
              "      <th>salary</th>\n",
              "      <th>skills_C++</th>\n",
              "      <th>skills_Django</th>\n",
              "      <th>skills_Java</th>\n",
              "      <th>skills_JavaScript</th>\n",
              "      <th>skills_Python</th>\n",
              "      <th>skills_R</th>\n",
              "      <th>skills_React</th>\n",
              "      <th>skills_SQL</th>\n",
              "      <th>skills_Tableau</th>\n",
              "      <th>department_IT</th>\n",
              "      <th>job_data scientist</th>\n",
              "      <th>job_frontend developer</th>\n",
              "      <th>job_manager</th>\n",
              "      <th>job_recruiter</th>\n",
              "    </tr>\n",
              "  </thead>\n",
              "  <tbody>\n",
              "    <tr>\n",
              "      <th>0</th>\n",
              "      <td>150000.0</td>\n",
              "      <td>0</td>\n",
              "      <td>0</td>\n",
              "      <td>0</td>\n",
              "      <td>0</td>\n",
              "      <td>0</td>\n",
              "      <td>0</td>\n",
              "      <td>0</td>\n",
              "      <td>0</td>\n",
              "      <td>0</td>\n",
              "      <td>0</td>\n",
              "      <td>0</td>\n",
              "      <td>0</td>\n",
              "      <td>1</td>\n",
              "      <td>0</td>\n",
              "    </tr>\n",
              "    <tr>\n",
              "      <th>1</th>\n",
              "      <td>180000.0</td>\n",
              "      <td>1</td>\n",
              "      <td>0</td>\n",
              "      <td>1</td>\n",
              "      <td>0</td>\n",
              "      <td>0</td>\n",
              "      <td>0</td>\n",
              "      <td>0</td>\n",
              "      <td>0</td>\n",
              "      <td>0</td>\n",
              "      <td>1</td>\n",
              "      <td>0</td>\n",
              "      <td>0</td>\n",
              "      <td>1</td>\n",
              "      <td>0</td>\n",
              "    </tr>\n",
              "    <tr>\n",
              "      <th>2</th>\n",
              "      <td>150000.0</td>\n",
              "      <td>0</td>\n",
              "      <td>0</td>\n",
              "      <td>0</td>\n",
              "      <td>0</td>\n",
              "      <td>1</td>\n",
              "      <td>0</td>\n",
              "      <td>0</td>\n",
              "      <td>1</td>\n",
              "      <td>1</td>\n",
              "      <td>1</td>\n",
              "      <td>1</td>\n",
              "      <td>0</td>\n",
              "      <td>0</td>\n",
              "      <td>0</td>\n",
              "    </tr>\n",
              "    <tr>\n",
              "      <th>3</th>\n",
              "      <td>130000.0</td>\n",
              "      <td>0</td>\n",
              "      <td>0</td>\n",
              "      <td>0</td>\n",
              "      <td>0</td>\n",
              "      <td>0</td>\n",
              "      <td>0</td>\n",
              "      <td>0</td>\n",
              "      <td>0</td>\n",
              "      <td>0</td>\n",
              "      <td>0</td>\n",
              "      <td>0</td>\n",
              "      <td>0</td>\n",
              "      <td>0</td>\n",
              "      <td>1</td>\n",
              "    </tr>\n",
              "    <tr>\n",
              "      <th>4</th>\n",
              "      <td>110000.0</td>\n",
              "      <td>0</td>\n",
              "      <td>1</td>\n",
              "      <td>0</td>\n",
              "      <td>0</td>\n",
              "      <td>0</td>\n",
              "      <td>0</td>\n",
              "      <td>1</td>\n",
              "      <td>0</td>\n",
              "      <td>0</td>\n",
              "      <td>1</td>\n",
              "      <td>0</td>\n",
              "      <td>0</td>\n",
              "      <td>0</td>\n",
              "      <td>0</td>\n",
              "    </tr>\n",
              "    <tr>\n",
              "      <th>5</th>\n",
              "      <td>120000.0</td>\n",
              "      <td>0</td>\n",
              "      <td>0</td>\n",
              "      <td>0</td>\n",
              "      <td>1</td>\n",
              "      <td>1</td>\n",
              "      <td>0</td>\n",
              "      <td>0</td>\n",
              "      <td>0</td>\n",
              "      <td>0</td>\n",
              "      <td>1</td>\n",
              "      <td>0</td>\n",
              "      <td>1</td>\n",
              "      <td>0</td>\n",
              "      <td>0</td>\n",
              "    </tr>\n",
              "    <tr>\n",
              "      <th>6</th>\n",
              "      <td>135000.0</td>\n",
              "      <td>0</td>\n",
              "      <td>0</td>\n",
              "      <td>0</td>\n",
              "      <td>0</td>\n",
              "      <td>0</td>\n",
              "      <td>1</td>\n",
              "      <td>0</td>\n",
              "      <td>1</td>\n",
              "      <td>0</td>\n",
              "      <td>1</td>\n",
              "      <td>1</td>\n",
              "      <td>0</td>\n",
              "      <td>0</td>\n",
              "      <td>0</td>\n",
              "    </tr>\n",
              "    <tr>\n",
              "      <th>7</th>\n",
              "      <td>125000.0</td>\n",
              "      <td>0</td>\n",
              "      <td>0</td>\n",
              "      <td>0</td>\n",
              "      <td>0</td>\n",
              "      <td>1</td>\n",
              "      <td>0</td>\n",
              "      <td>0</td>\n",
              "      <td>1</td>\n",
              "      <td>0</td>\n",
              "      <td>1</td>\n",
              "      <td>1</td>\n",
              "      <td>0</td>\n",
              "      <td>0</td>\n",
              "      <td>0</td>\n",
              "    </tr>\n",
              "  </tbody>\n",
              "</table>\n",
              "</div>"
            ],
            "text/plain": [
              "     salary  skills_C++  skills_Django  skills_Java  skills_JavaScript  \\\n",
              "0  150000.0           0              0            0                  0   \n",
              "1  180000.0           1              0            1                  0   \n",
              "2  150000.0           0              0            0                  0   \n",
              "3  130000.0           0              0            0                  0   \n",
              "4  110000.0           0              1            0                  0   \n",
              "5  120000.0           0              0            0                  1   \n",
              "6  135000.0           0              0            0                  0   \n",
              "7  125000.0           0              0            0                  0   \n",
              "\n",
              "   skills_Python  skills_R  skills_React  skills_SQL  skills_Tableau  \\\n",
              "0              0         0             0           0               0   \n",
              "1              0         0             0           0               0   \n",
              "2              1         0             0           1               1   \n",
              "3              0         0             0           0               0   \n",
              "4              0         0             1           0               0   \n",
              "5              1         0             0           0               0   \n",
              "6              0         1             0           1               0   \n",
              "7              1         0             0           1               0   \n",
              "\n",
              "   department_IT  job_data scientist  job_frontend developer  job_manager  \\\n",
              "0              0                   0                       0            1   \n",
              "1              1                   0                       0            1   \n",
              "2              1                   1                       0            0   \n",
              "3              0                   0                       0            0   \n",
              "4              1                   0                       0            0   \n",
              "5              1                   0                       1            0   \n",
              "6              1                   1                       0            0   \n",
              "7              1                   1                       0            0   \n",
              "\n",
              "   job_recruiter  \n",
              "0              0  \n",
              "1              0  \n",
              "2              0  \n",
              "3              1  \n",
              "4              0  \n",
              "5              0  \n",
              "6              0  \n",
              "7              0  "
            ]
          },
          "execution_count": 84,
          "metadata": {},
          "output_type": "execute_result"
        }
      ],
      "source": [
        "df_final= pd.get_dummies(df_final, drop_first=True)\n",
        "df_final"
      ]
    },
    {
      "cell_type": "markdown",
      "metadata": {
        "id": "VR-CJgo0rpQ7"
      },
      "source": [
        "# Working with Time Data"
      ]
    },
    {
      "cell_type": "markdown",
      "metadata": {
        "id": "rYZZaotOrpQ7"
      },
      "source": [
        "## pd.to_datetime()\n",
        "https://pandas.pydata.org/docs/reference/api/pandas.to_datetime.html"
      ]
    },
    {
      "cell_type": "code",
      "execution_count": null,
      "metadata": {
        "id": "olqwAeERrpQ7",
        "outputId": "f9da6620-4eac-4a2d-af08-eae59be536e4"
      },
      "outputs": [
        {
          "data": {
            "text/html": [
              "<div>\n",
              "<style scoped>\n",
              "    .dataframe tbody tr th:only-of-type {\n",
              "        vertical-align: middle;\n",
              "    }\n",
              "\n",
              "    .dataframe tbody tr th {\n",
              "        vertical-align: top;\n",
              "    }\n",
              "\n",
              "    .dataframe thead th {\n",
              "        text-align: right;\n",
              "    }\n",
              "</style>\n",
              "<table border=\"1\" class=\"dataframe\">\n",
              "  <thead>\n",
              "    <tr style=\"text-align: right;\">\n",
              "      <th></th>\n",
              "      <th>id_product</th>\n",
              "      <th>order_date</th>\n",
              "      <th>product_quantity</th>\n",
              "      <th>product_price</th>\n",
              "      <th>entry_date</th>\n",
              "    </tr>\n",
              "  </thead>\n",
              "  <tbody>\n",
              "    <tr>\n",
              "      <th>0</th>\n",
              "      <td>401</td>\n",
              "      <td>2021-01-23</td>\n",
              "      <td>1.0</td>\n",
              "      <td>541.487603</td>\n",
              "      <td>2018-12-04</td>\n",
              "    </tr>\n",
              "    <tr>\n",
              "      <th>1</th>\n",
              "      <td>416</td>\n",
              "      <td>2020-04-02</td>\n",
              "      <td>1.0</td>\n",
              "      <td>131.181818</td>\n",
              "      <td>2018-12-04</td>\n",
              "    </tr>\n",
              "    <tr>\n",
              "      <th>2</th>\n",
              "      <td>717</td>\n",
              "      <td>2019-03-10</td>\n",
              "      <td>1.0</td>\n",
              "      <td>2035.488500</td>\n",
              "      <td>2018-12-04</td>\n",
              "    </tr>\n",
              "    <tr>\n",
              "      <th>3</th>\n",
              "      <td>778</td>\n",
              "      <td>2019-12-27</td>\n",
              "      <td>1.0</td>\n",
              "      <td>335.988000</td>\n",
              "      <td>2018-12-04</td>\n",
              "    </tr>\n",
              "    <tr>\n",
              "      <th>4</th>\n",
              "      <td>826</td>\n",
              "      <td>2020-02-19</td>\n",
              "      <td>1.0</td>\n",
              "      <td>342.292302</td>\n",
              "      <td>2018-12-04</td>\n",
              "    </tr>\n",
              "  </tbody>\n",
              "</table>\n",
              "</div>"
            ],
            "text/plain": [
              "   id_product  order_date  product_quantity  product_price  entry_date\n",
              "0         401  2021-01-23               1.0     541.487603  2018-12-04\n",
              "1         416  2020-04-02               1.0     131.181818  2018-12-04\n",
              "2         717  2019-03-10               1.0    2035.488500  2018-12-04\n",
              "3         778  2019-12-27               1.0     335.988000  2018-12-04\n",
              "4         826  2020-02-19               1.0     342.292302  2018-12-04"
            ]
          },
          "execution_count": 85,
          "metadata": {},
          "output_type": "execute_result"
        }
      ],
      "source": [
        "df = pd.read_csv(\"../data&resources/time_exercise.csv\")\n",
        "df.head()"
      ]
    },
    {
      "cell_type": "code",
      "execution_count": null,
      "metadata": {
        "id": "okwZ5cK1rpQ7",
        "outputId": "0b16022a-d3e3-4b58-b0bd-bcfc07feedbe"
      },
      "outputs": [
        {
          "name": "stdout",
          "output_type": "stream",
          "text": [
            "<class 'pandas.core.frame.DataFrame'>\n",
            "RangeIndex: 911 entries, 0 to 910\n",
            "Data columns (total 5 columns):\n",
            " #   Column            Non-Null Count  Dtype  \n",
            "---  ------            --------------  -----  \n",
            " 0   id_product        911 non-null    int64  \n",
            " 1   order_date        911 non-null    object \n",
            " 2   product_quantity  911 non-null    float64\n",
            " 3   product_price     911 non-null    float64\n",
            " 4   entry_date        911 non-null    object \n",
            "dtypes: float64(2), int64(1), object(2)\n",
            "memory usage: 35.7+ KB\n"
          ]
        }
      ],
      "source": [
        "df.info()"
      ]
    },
    {
      "cell_type": "code",
      "execution_count": null,
      "metadata": {
        "id": "uKIyBYderpQ8",
        "outputId": "fca45de9-6dc6-4acd-c748-afc5bb7332be"
      },
      "outputs": [
        {
          "data": {
            "text/plain": [
              "0      2021-01-23\n",
              "1      2020-04-02\n",
              "2      2019-03-10\n",
              "3      2019-12-27\n",
              "4      2020-02-19\n",
              "          ...    \n",
              "906    2020-11-24\n",
              "907    2020-11-24\n",
              "908    2020-11-22\n",
              "909    2021-01-26\n",
              "910    2020-12-06\n",
              "Name: order_date, Length: 911, dtype: object"
            ]
          },
          "execution_count": 87,
          "metadata": {},
          "output_type": "execute_result"
        }
      ],
      "source": [
        "df.order_date"
      ]
    },
    {
      "cell_type": "code",
      "execution_count": null,
      "metadata": {
        "id": "7BMdI-E8rpQ8",
        "outputId": "d2296d3d-da9b-4dea-96bf-2a6106cfdd9c"
      },
      "outputs": [
        {
          "data": {
            "text/plain": [
              "0     2021-01-23\n",
              "1     2020-04-02\n",
              "2     2019-03-10\n",
              "3     2019-12-27\n",
              "4     2020-02-19\n",
              "         ...    \n",
              "906   2020-11-24\n",
              "907   2020-11-24\n",
              "908   2020-11-22\n",
              "909   2021-01-26\n",
              "910   2020-12-06\n",
              "Name: order_date, Length: 911, dtype: datetime64[ns]"
            ]
          },
          "execution_count": 88,
          "metadata": {},
          "output_type": "execute_result"
        }
      ],
      "source": [
        "pd.to_datetime(df.order_date)"
      ]
    },
    {
      "cell_type": "code",
      "execution_count": null,
      "metadata": {
        "id": "c7xtqRUerpQ8"
      },
      "outputs": [],
      "source": [
        "df[\"entry_date\"] = pd.to_datetime(df[\"entry_date\"])\n",
        "df[\"order_date\"] = pd.to_datetime(df[\"order_date\"])"
      ]
    },
    {
      "cell_type": "code",
      "execution_count": null,
      "metadata": {
        "id": "7BnsbsxdrpQ8",
        "outputId": "ec1d54d1-cf04-46c2-ddaf-2b16ac6a0f2a"
      },
      "outputs": [
        {
          "data": {
            "text/html": [
              "<div>\n",
              "<style scoped>\n",
              "    .dataframe tbody tr th:only-of-type {\n",
              "        vertical-align: middle;\n",
              "    }\n",
              "\n",
              "    .dataframe tbody tr th {\n",
              "        vertical-align: top;\n",
              "    }\n",
              "\n",
              "    .dataframe thead th {\n",
              "        text-align: right;\n",
              "    }\n",
              "</style>\n",
              "<table border=\"1\" class=\"dataframe\">\n",
              "  <thead>\n",
              "    <tr style=\"text-align: right;\">\n",
              "      <th></th>\n",
              "      <th>id_product</th>\n",
              "      <th>order_date</th>\n",
              "      <th>product_quantity</th>\n",
              "      <th>product_price</th>\n",
              "      <th>entry_date</th>\n",
              "    </tr>\n",
              "  </thead>\n",
              "  <tbody>\n",
              "    <tr>\n",
              "      <th>0</th>\n",
              "      <td>401</td>\n",
              "      <td>2021-01-23</td>\n",
              "      <td>1.0</td>\n",
              "      <td>541.487603</td>\n",
              "      <td>2018-12-04</td>\n",
              "    </tr>\n",
              "    <tr>\n",
              "      <th>1</th>\n",
              "      <td>416</td>\n",
              "      <td>2020-04-02</td>\n",
              "      <td>1.0</td>\n",
              "      <td>131.181818</td>\n",
              "      <td>2018-12-04</td>\n",
              "    </tr>\n",
              "    <tr>\n",
              "      <th>2</th>\n",
              "      <td>717</td>\n",
              "      <td>2019-03-10</td>\n",
              "      <td>1.0</td>\n",
              "      <td>2035.488500</td>\n",
              "      <td>2018-12-04</td>\n",
              "    </tr>\n",
              "    <tr>\n",
              "      <th>3</th>\n",
              "      <td>778</td>\n",
              "      <td>2019-12-27</td>\n",
              "      <td>1.0</td>\n",
              "      <td>335.988000</td>\n",
              "      <td>2018-12-04</td>\n",
              "    </tr>\n",
              "    <tr>\n",
              "      <th>4</th>\n",
              "      <td>826</td>\n",
              "      <td>2020-02-19</td>\n",
              "      <td>1.0</td>\n",
              "      <td>342.292302</td>\n",
              "      <td>2018-12-04</td>\n",
              "    </tr>\n",
              "  </tbody>\n",
              "</table>\n",
              "</div>"
            ],
            "text/plain": [
              "   id_product order_date  product_quantity  product_price entry_date\n",
              "0         401 2021-01-23               1.0     541.487603 2018-12-04\n",
              "1         416 2020-04-02               1.0     131.181818 2018-12-04\n",
              "2         717 2019-03-10               1.0    2035.488500 2018-12-04\n",
              "3         778 2019-12-27               1.0     335.988000 2018-12-04\n",
              "4         826 2020-02-19               1.0     342.292302 2018-12-04"
            ]
          },
          "execution_count": 90,
          "metadata": {},
          "output_type": "execute_result"
        }
      ],
      "source": [
        "df.head()"
      ]
    },
    {
      "cell_type": "code",
      "execution_count": null,
      "metadata": {
        "id": "XVArtXPTrpQ8",
        "outputId": "ec92d841-eb85-4cf4-db35-f36a30e58d2d"
      },
      "outputs": [
        {
          "name": "stdout",
          "output_type": "stream",
          "text": [
            "<class 'pandas.core.frame.DataFrame'>\n",
            "RangeIndex: 911 entries, 0 to 910\n",
            "Data columns (total 5 columns):\n",
            " #   Column            Non-Null Count  Dtype         \n",
            "---  ------            --------------  -----         \n",
            " 0   id_product        911 non-null    int64         \n",
            " 1   order_date        911 non-null    datetime64[ns]\n",
            " 2   product_quantity  911 non-null    float64       \n",
            " 3   product_price     911 non-null    float64       \n",
            " 4   entry_date        911 non-null    datetime64[ns]\n",
            "dtypes: datetime64[ns](2), float64(2), int64(1)\n",
            "memory usage: 35.7 KB\n"
          ]
        }
      ],
      "source": [
        "df.info()"
      ]
    },
    {
      "cell_type": "code",
      "execution_count": null,
      "metadata": {
        "id": "mOgatQBtrpQ8",
        "outputId": "da2b1c3f-af4d-4531-eaaa-6045c3c80b88"
      },
      "outputs": [
        {
          "data": {
            "text/plain": [
              "Timestamp('2018-12-04 00:00:00')"
            ]
          },
          "execution_count": 93,
          "metadata": {},
          "output_type": "execute_result"
        }
      ],
      "source": [
        "df.entry_date.min()"
      ]
    },
    {
      "cell_type": "code",
      "execution_count": null,
      "metadata": {
        "id": "4hht4jg_rpQ8",
        "outputId": "e1a33d87-e22d-4238-fd3d-6269ccff6e0b"
      },
      "outputs": [
        {
          "data": {
            "text/plain": [
              "Timestamp('2020-11-26 00:00:00')"
            ]
          },
          "execution_count": 94,
          "metadata": {},
          "output_type": "execute_result"
        }
      ],
      "source": [
        "df.entry_date.max()"
      ]
    },
    {
      "cell_type": "code",
      "execution_count": null,
      "metadata": {
        "id": "ZQDeHrZTrpQ8",
        "outputId": "24be7eba-241b-43c0-f307-3552e8723ced"
      },
      "outputs": [
        {
          "data": {
            "text/plain": [
              "0    15-03-2020\n",
              "1    18-05-2019\n",
              "2    24-07-2018\n",
              "dtype: object"
            ]
          },
          "execution_count": 95,
          "metadata": {},
          "output_type": "execute_result"
        }
      ],
      "source": [
        "a = pd.Series([\"15-03-2020\", \"18-05-2019\", \"24-07-2018\"])\n",
        "a"
      ]
    },
    {
      "cell_type": "code",
      "execution_count": null,
      "metadata": {
        "id": "Y2ko7-RPrpQ9",
        "outputId": "c778fc2f-0030-411f-d70f-5208acd1542e"
      },
      "outputs": [
        {
          "data": {
            "text/plain": [
              "'15-03-2020'"
            ]
          },
          "execution_count": 96,
          "metadata": {},
          "output_type": "execute_result"
        }
      ],
      "source": [
        "a.min()"
      ]
    },
    {
      "cell_type": "code",
      "execution_count": null,
      "metadata": {
        "id": "Ksqtenq3rpQ9",
        "outputId": "a5b3cf00-d62a-401a-edfe-42489cfdc732"
      },
      "outputs": [
        {
          "data": {
            "text/plain": [
              "0   2020-03-15\n",
              "1   2019-05-18\n",
              "2   2018-07-24\n",
              "dtype: datetime64[ns]"
            ]
          },
          "execution_count": 97,
          "metadata": {},
          "output_type": "execute_result"
        }
      ],
      "source": [
        "pd.to_datetime(a, format = \"%d-%m-%Y\")"
      ]
    },
    {
      "cell_type": "code",
      "execution_count": null,
      "metadata": {
        "id": "6p48-_aPrpQ9",
        "outputId": "1e5c5c7a-7783-46ae-af7e-0df52bbb7e24"
      },
      "outputs": [
        {
          "data": {
            "text/plain": [
              "Timestamp('2018-07-24 00:00:00')"
            ]
          },
          "execution_count": 98,
          "metadata": {},
          "output_type": "execute_result"
        }
      ],
      "source": [
        "pd.to_datetime(a, format = \"%d-%m-%Y\").min()"
      ]
    },
    {
      "cell_type": "markdown",
      "metadata": {
        "id": "ojRDBtNRrpQ9"
      },
      "source": [
        "## Series.dt()\n",
        "Accessor object for datetimelike properties of the Series values.\n",
        "\n",
        "https://pandas.pydata.org/docs/reference/api/pandas.Series.dt.html"
      ]
    },
    {
      "cell_type": "code",
      "execution_count": null,
      "metadata": {
        "id": "1WiyYBD5rpQ9",
        "outputId": "374df52d-84a6-40be-825b-55bc0ea3e31e"
      },
      "outputs": [
        {
          "data": {
            "text/html": [
              "<div>\n",
              "<style scoped>\n",
              "    .dataframe tbody tr th:only-of-type {\n",
              "        vertical-align: middle;\n",
              "    }\n",
              "\n",
              "    .dataframe tbody tr th {\n",
              "        vertical-align: top;\n",
              "    }\n",
              "\n",
              "    .dataframe thead th {\n",
              "        text-align: right;\n",
              "    }\n",
              "</style>\n",
              "<table border=\"1\" class=\"dataframe\">\n",
              "  <thead>\n",
              "    <tr style=\"text-align: right;\">\n",
              "      <th></th>\n",
              "      <th>id_product</th>\n",
              "      <th>order_date</th>\n",
              "      <th>product_quantity</th>\n",
              "      <th>product_price</th>\n",
              "      <th>entry_date</th>\n",
              "    </tr>\n",
              "  </thead>\n",
              "  <tbody>\n",
              "    <tr>\n",
              "      <th>0</th>\n",
              "      <td>401</td>\n",
              "      <td>2021-01-23</td>\n",
              "      <td>1.0</td>\n",
              "      <td>541.487603</td>\n",
              "      <td>2018-12-04</td>\n",
              "    </tr>\n",
              "    <tr>\n",
              "      <th>1</th>\n",
              "      <td>416</td>\n",
              "      <td>2020-04-02</td>\n",
              "      <td>1.0</td>\n",
              "      <td>131.181818</td>\n",
              "      <td>2018-12-04</td>\n",
              "    </tr>\n",
              "    <tr>\n",
              "      <th>2</th>\n",
              "      <td>717</td>\n",
              "      <td>2019-03-10</td>\n",
              "      <td>1.0</td>\n",
              "      <td>2035.488500</td>\n",
              "      <td>2018-12-04</td>\n",
              "    </tr>\n",
              "    <tr>\n",
              "      <th>3</th>\n",
              "      <td>778</td>\n",
              "      <td>2019-12-27</td>\n",
              "      <td>1.0</td>\n",
              "      <td>335.988000</td>\n",
              "      <td>2018-12-04</td>\n",
              "    </tr>\n",
              "    <tr>\n",
              "      <th>4</th>\n",
              "      <td>826</td>\n",
              "      <td>2020-02-19</td>\n",
              "      <td>1.0</td>\n",
              "      <td>342.292302</td>\n",
              "      <td>2018-12-04</td>\n",
              "    </tr>\n",
              "    <tr>\n",
              "      <th>...</th>\n",
              "      <td>...</td>\n",
              "      <td>...</td>\n",
              "      <td>...</td>\n",
              "      <td>...</td>\n",
              "      <td>...</td>\n",
              "    </tr>\n",
              "    <tr>\n",
              "      <th>906</th>\n",
              "      <td>1536842</td>\n",
              "      <td>2020-11-24</td>\n",
              "      <td>1.0</td>\n",
              "      <td>1186.776860</td>\n",
              "      <td>2020-10-07</td>\n",
              "    </tr>\n",
              "    <tr>\n",
              "      <th>907</th>\n",
              "      <td>1536842</td>\n",
              "      <td>2020-11-24</td>\n",
              "      <td>1.0</td>\n",
              "      <td>1186.776860</td>\n",
              "      <td>2020-10-07</td>\n",
              "    </tr>\n",
              "    <tr>\n",
              "      <th>908</th>\n",
              "      <td>1536887</td>\n",
              "      <td>2020-11-22</td>\n",
              "      <td>1.0</td>\n",
              "      <td>0.000000</td>\n",
              "      <td>2020-11-13</td>\n",
              "    </tr>\n",
              "    <tr>\n",
              "      <th>909</th>\n",
              "      <td>1536952</td>\n",
              "      <td>2021-01-26</td>\n",
              "      <td>1.0</td>\n",
              "      <td>988.429752</td>\n",
              "      <td>2020-11-24</td>\n",
              "    </tr>\n",
              "    <tr>\n",
              "      <th>910</th>\n",
              "      <td>1536974</td>\n",
              "      <td>2020-12-06</td>\n",
              "      <td>1.0</td>\n",
              "      <td>0.000000</td>\n",
              "      <td>2020-11-26</td>\n",
              "    </tr>\n",
              "  </tbody>\n",
              "</table>\n",
              "<p>911 rows × 5 columns</p>\n",
              "</div>"
            ],
            "text/plain": [
              "     id_product order_date  product_quantity  product_price entry_date\n",
              "0           401 2021-01-23               1.0     541.487603 2018-12-04\n",
              "1           416 2020-04-02               1.0     131.181818 2018-12-04\n",
              "2           717 2019-03-10               1.0    2035.488500 2018-12-04\n",
              "3           778 2019-12-27               1.0     335.988000 2018-12-04\n",
              "4           826 2020-02-19               1.0     342.292302 2018-12-04\n",
              "..          ...        ...               ...            ...        ...\n",
              "906     1536842 2020-11-24               1.0    1186.776860 2020-10-07\n",
              "907     1536842 2020-11-24               1.0    1186.776860 2020-10-07\n",
              "908     1536887 2020-11-22               1.0       0.000000 2020-11-13\n",
              "909     1536952 2021-01-26               1.0     988.429752 2020-11-24\n",
              "910     1536974 2020-12-06               1.0       0.000000 2020-11-26\n",
              "\n",
              "[911 rows x 5 columns]"
            ]
          },
          "execution_count": 99,
          "metadata": {},
          "output_type": "execute_result"
        }
      ],
      "source": [
        "df"
      ]
    },
    {
      "cell_type": "code",
      "execution_count": null,
      "metadata": {
        "id": "hPUaWTfTrpQ9",
        "outputId": "668c2c0f-2b9a-4df5-f7c4-2ba078308f08"
      },
      "outputs": [
        {
          "data": {
            "text/plain": [
              "0      12\n",
              "1      12\n",
              "2      12\n",
              "3      12\n",
              "4      12\n",
              "       ..\n",
              "906    10\n",
              "907    10\n",
              "908    11\n",
              "909    11\n",
              "910    11\n",
              "Name: entry_date, Length: 911, dtype: int64"
            ]
          },
          "execution_count": 101,
          "metadata": {},
          "output_type": "execute_result"
        }
      ],
      "source": [
        "# it can be date, year, quarter, month, week, day, weekday, dayofweek, hour, minute, second, microsecond\n",
        "df.entry_date.dt.month"
      ]
    },
    {
      "cell_type": "markdown",
      "metadata": {
        "id": "_lyTfn_WrpQ9"
      },
      "source": [
        "## datetime module\n",
        "The datetime module supplies classes for manipulating dates and times.\n",
        "\n",
        "https://docs.python.org/3/library/datetime.html"
      ]
    },
    {
      "cell_type": "markdown",
      "metadata": {
        "id": "xHu5biGLrpQ9"
      },
      "source": [
        "### class datetime.datetime\n",
        "\n",
        "A combination of a date and a time. Attributes: year, month, day, hour, minute, second, microsecond, and tzinfo."
      ]
    },
    {
      "cell_type": "code",
      "execution_count": null,
      "metadata": {
        "id": "64OhoRZArpQ-"
      },
      "outputs": [],
      "source": [
        "from datetime import datetime"
      ]
    },
    {
      "cell_type": "code",
      "execution_count": null,
      "metadata": {
        "id": "7R6LGSRJrpQ-",
        "outputId": "99b43876-37bd-4b70-f2ad-997276f71869"
      },
      "outputs": [
        {
          "data": {
            "text/plain": [
              "datetime.datetime(2022, 1, 31, 22, 38, 8, 915222)"
            ]
          },
          "execution_count": 103,
          "metadata": {},
          "output_type": "execute_result"
        }
      ],
      "source": [
        "datetime.now()"
      ]
    },
    {
      "cell_type": "code",
      "execution_count": null,
      "metadata": {
        "id": "nKT1wXOkrpQ-",
        "outputId": "ac57f18a-17d7-4da1-e9d8-a84a5053308a"
      },
      "outputs": [
        {
          "name": "stdout",
          "output_type": "stream",
          "text": [
            "2022-01-31 22:38:31.808853\n"
          ]
        }
      ],
      "source": [
        "print(datetime.now())"
      ]
    },
    {
      "cell_type": "code",
      "execution_count": null,
      "metadata": {
        "id": "iBK0o7H1rpQ-",
        "outputId": "fa8b64f8-525d-4b9e-8a1a-76c6ffab849a"
      },
      "outputs": [
        {
          "name": "stdout",
          "output_type": "stream",
          "text": [
            "2022-01-31 22:38:53.445085\n"
          ]
        }
      ],
      "source": [
        "print(datetime.today())"
      ]
    },
    {
      "cell_type": "code",
      "execution_count": null,
      "metadata": {
        "id": "D7ppRiIjrpQ-"
      },
      "outputs": [],
      "source": [
        "current_datetime = datetime.today()"
      ]
    },
    {
      "cell_type": "code",
      "execution_count": null,
      "metadata": {
        "id": "NfRO4k4ErpQ-",
        "outputId": "01d1b7c8-4746-4352-aab5-2e84dc8653e9"
      },
      "outputs": [
        {
          "data": {
            "text/plain": [
              "datetime.date(2022, 1, 31)"
            ]
          },
          "execution_count": 107,
          "metadata": {},
          "output_type": "execute_result"
        }
      ],
      "source": [
        "# it can be date, year, month, day, weekday, isoweekday, hour, minute, second, microsecond, tzinfo \n",
        "current_datetime.date()"
      ]
    },
    {
      "cell_type": "code",
      "execution_count": null,
      "metadata": {
        "id": "upkQlULFrpQ-",
        "outputId": "3cbd9741-0ee0-4f75-f474-2d7f449a6cc6"
      },
      "outputs": [
        {
          "data": {
            "text/plain": [
              "2022"
            ]
          },
          "execution_count": 108,
          "metadata": {},
          "output_type": "execute_result"
        }
      ],
      "source": [
        "current_datetime.year"
      ]
    },
    {
      "cell_type": "code",
      "execution_count": null,
      "metadata": {
        "id": "-AM2ILTArpQ_",
        "outputId": "5aad69d9-d8c2-4c6d-b3bd-1dc98a386678"
      },
      "outputs": [
        {
          "data": {
            "text/plain": [
              "0"
            ]
          },
          "execution_count": 109,
          "metadata": {},
          "output_type": "execute_result"
        }
      ],
      "source": [
        "current_datetime.weekday()"
      ]
    },
    {
      "cell_type": "code",
      "execution_count": null,
      "metadata": {
        "id": "85ZRSxi7rpQ_",
        "outputId": "e931bb4e-2759-41fd-c6c3-e13be105d96e"
      },
      "outputs": [
        {
          "data": {
            "text/plain": [
              "1"
            ]
          },
          "execution_count": 110,
          "metadata": {},
          "output_type": "execute_result"
        }
      ],
      "source": [
        "current_datetime.isoweekday()"
      ]
    },
    {
      "cell_type": "markdown",
      "metadata": {
        "id": "kfGyQ6KErpQ_"
      },
      "source": [
        "### class datetime.timedelta\n",
        "\n",
        "A duration expressing the difference between two date, time, or datetime instances to microsecond resolution."
      ]
    },
    {
      "cell_type": "code",
      "execution_count": null,
      "metadata": {
        "id": "xnfDhHR8rpQ_"
      },
      "outputs": [],
      "source": [
        "from datetime import timedelta"
      ]
    },
    {
      "cell_type": "code",
      "execution_count": null,
      "metadata": {
        "id": "9biOFFLxrpQ_",
        "outputId": "bfa2b4b1-06f0-4553-af1e-972ed1bea22d"
      },
      "outputs": [
        {
          "data": {
            "text/plain": [
              "datetime.timedelta(days=2)"
            ]
          },
          "execution_count": 112,
          "metadata": {},
          "output_type": "execute_result"
        }
      ],
      "source": [
        "timedelta(days=2)"
      ]
    },
    {
      "cell_type": "code",
      "execution_count": null,
      "metadata": {
        "id": "UbPUeaIWrpQ_",
        "outputId": "8fcb2622-8775-46d7-c7b3-97ce3fef0248"
      },
      "outputs": [
        {
          "name": "stdout",
          "output_type": "stream",
          "text": [
            "2 days, 0:00:00\n"
          ]
        }
      ],
      "source": [
        "print(timedelta(days=2))"
      ]
    },
    {
      "cell_type": "code",
      "execution_count": null,
      "metadata": {
        "id": "c1XYbq9zrpQ_",
        "outputId": "eb6cf10f-86f2-4957-f502-1a9b54106889"
      },
      "outputs": [
        {
          "name": "stdout",
          "output_type": "stream",
          "text": [
            "2022-01-31 22:39:29.633170\n"
          ]
        }
      ],
      "source": [
        "print(current_datetime)"
      ]
    },
    {
      "cell_type": "code",
      "execution_count": null,
      "metadata": {
        "id": "ydGQnMUYrpQ_",
        "outputId": "234d7cd1-fbcd-4cd9-c2d5-f41845280782"
      },
      "outputs": [
        {
          "data": {
            "text/plain": [
              "datetime.datetime(2022, 1, 29, 22, 39, 29, 633170)"
            ]
          },
          "execution_count": 115,
          "metadata": {},
          "output_type": "execute_result"
        }
      ],
      "source": [
        "two_days_before = current_datetime-timedelta(days=2)\n",
        "two_days_before"
      ]
    },
    {
      "cell_type": "code",
      "execution_count": null,
      "metadata": {
        "id": "W40rbUz1rpQ_",
        "outputId": "0fba7365-af58-4584-9263-8eac5539c7cd"
      },
      "outputs": [
        {
          "data": {
            "text/plain": [
              "datetime.datetime(2022, 2, 18, 2, 49, 29, 633170)"
            ]
          },
          "execution_count": 116,
          "metadata": {},
          "output_type": "execute_result"
        }
      ],
      "source": [
        "current_datetime + timedelta(weeks=2, days=3, hours=4, minutes=10)"
      ]
    },
    {
      "cell_type": "code",
      "execution_count": null,
      "metadata": {
        "id": "yeAQE9xyrpRA",
        "outputId": "9c58643c-5d25-4230-9196-e42b4d28bde9"
      },
      "outputs": [
        {
          "name": "stdout",
          "output_type": "stream",
          "text": [
            "current_date    2022-01-31 22:39:29.633170\n",
            "plus            14 days, 4:10:00\n",
            "total           2022-02-18 02:49:29.633170\n"
          ]
        }
      ],
      "source": [
        "print(f\"{'current_date': <15}\", current_datetime)\n",
        "print(f\"{'plus': <15}\", timedelta(weeks=2, hours=4, minutes=10))\n",
        "print(f\"{'total': <15}\", current_datetime+timedelta(weeks=2, days=3, hours=4, minutes=10))"
      ]
    },
    {
      "cell_type": "markdown",
      "metadata": {
        "id": "6xaLnBE3rpRA"
      },
      "source": [
        "### strftime()\n",
        "\n",
        "Converting from date/datetime/timedelta object to string type\n",
        "\n",
        "https://strftime.org/"
      ]
    },
    {
      "cell_type": "code",
      "execution_count": null,
      "metadata": {
        "id": "ygJjcOlqrpRA",
        "outputId": "353f565e-7db4-4cdc-84af-2c61eea5e4d3"
      },
      "outputs": [
        {
          "name": "stdout",
          "output_type": "stream",
          "text": [
            "2022-01-31 22:39:29.633170\n"
          ]
        }
      ],
      "source": [
        "print(current_datetime)"
      ]
    },
    {
      "cell_type": "code",
      "execution_count": null,
      "metadata": {
        "id": "bXE88haIrpRA",
        "outputId": "0c71a1cc-3bf0-4681-c509-eb9540cba672"
      },
      "outputs": [
        {
          "data": {
            "text/plain": [
              "'2022'"
            ]
          },
          "execution_count": 119,
          "metadata": {},
          "output_type": "execute_result"
        }
      ],
      "source": [
        "current_datetime.strftime(\"%Y\")"
      ]
    },
    {
      "cell_type": "code",
      "execution_count": null,
      "metadata": {
        "id": "MOxuc2xnrpRA",
        "outputId": "ac5c2552-dd81-44f0-f436-862997f946ce"
      },
      "outputs": [
        {
          "name": "stdout",
          "output_type": "stream",
          "text": [
            "year: 2022\n",
            "month: 01\n",
            "day: 31\n",
            "time: 22-39-29\n",
            "date and time: 01/31/2022, 22:39:29\n"
          ]
        }
      ],
      "source": [
        "year = current_datetime.strftime(\"%Y\")\n",
        "print(\"year:\", year)\n",
        "\n",
        "month = current_datetime.strftime(\"%m\")\n",
        "print(\"month:\", month)\n",
        "\n",
        "day = current_datetime.strftime(\"%d\")\n",
        "print(\"day:\", day)\n",
        "\n",
        "time = current_datetime.strftime(\"%H-%M-%S\")\n",
        "print(\"time:\", time)\n",
        "\n",
        "date_time = current_datetime.strftime(\"%m/%d/%Y, %H:%M:%S\")\n",
        "print(\"date and time:\",date_time)"
      ]
    },
    {
      "cell_type": "markdown",
      "metadata": {
        "id": "Tsqqj6HyrpRA"
      },
      "source": [
        "### strptime()\n",
        "\n",
        "Converting from string type to datetime object"
      ]
    },
    {
      "cell_type": "code",
      "execution_count": null,
      "metadata": {
        "id": "sfYigP-YrpRA",
        "outputId": "b41f137a-df1f-4fab-f4da-0ec21043f662"
      },
      "outputs": [
        {
          "data": {
            "text/plain": [
              "'21 June, 2018'"
            ]
          },
          "execution_count": 122,
          "metadata": {},
          "output_type": "execute_result"
        }
      ],
      "source": [
        "date_string = \"21 June, 2018\"\n",
        "date_string"
      ]
    },
    {
      "cell_type": "code",
      "execution_count": null,
      "metadata": {
        "id": "rkzRoNyhrpRB",
        "outputId": "c59bb99e-b2bf-4d0e-b128-ef9acf566ec0"
      },
      "outputs": [
        {
          "data": {
            "text/plain": [
              "datetime.datetime(2018, 6, 21, 0, 0)"
            ]
          },
          "execution_count": 124,
          "metadata": {},
          "output_type": "execute_result"
        }
      ],
      "source": [
        "datetime.strptime(date_string, \"%d %B, %Y\")"
      ]
    },
    {
      "cell_type": "code",
      "execution_count": null,
      "metadata": {
        "id": "0tj88ZrTrpRB",
        "outputId": "79748e4b-c0ae-45d5-bb5f-168254ad3529"
      },
      "outputs": [
        {
          "data": {
            "text/plain": [
              "Timestamp('2018-06-21 00:00:00')"
            ]
          },
          "execution_count": 125,
          "metadata": {},
          "output_type": "execute_result"
        }
      ],
      "source": [
        "pd.to_datetime(date_string)"
      ]
    },
    {
      "cell_type": "code",
      "execution_count": null,
      "metadata": {
        "id": "N_8nB29ZrpRB",
        "outputId": "b809dd45-c088-4730-bdd8-9712b33a6a11"
      },
      "outputs": [
        {
          "data": {
            "text/plain": [
              "datetime.datetime(2018, 6, 21, 0, 0)"
            ]
          },
          "execution_count": 126,
          "metadata": {},
          "output_type": "execute_result"
        }
      ],
      "source": [
        "datetime_object = datetime.strptime(date_string, \"%d %B, %Y\")\n",
        "datetime_object"
      ]
    },
    {
      "cell_type": "code",
      "execution_count": null,
      "metadata": {
        "id": "nmeKOFQprpRB",
        "outputId": "e519b6b7-f32c-4829-c74f-1e6b8ee01a5e"
      },
      "outputs": [
        {
          "data": {
            "text/plain": [
              "2018"
            ]
          },
          "execution_count": 128,
          "metadata": {},
          "output_type": "execute_result"
        }
      ],
      "source": [
        "datetime_object.year"
      ]
    },
    {
      "cell_type": "markdown",
      "metadata": {
        "id": "tew1JPQYrpRB"
      },
      "source": [
        "### Operation with datetime object"
      ]
    },
    {
      "cell_type": "markdown",
      "metadata": {
        "id": "op1x2UMwrpRB"
      },
      "source": [
        "**lets detect the time between first order date and entry date for each product**"
      ]
    },
    {
      "cell_type": "code",
      "execution_count": null,
      "metadata": {
        "id": "PKKN6JUqrpRB",
        "outputId": "08c58607-9fc5-46af-aea5-3d9c9f649231"
      },
      "outputs": [
        {
          "data": {
            "text/html": [
              "<div>\n",
              "<style scoped>\n",
              "    .dataframe tbody tr th:only-of-type {\n",
              "        vertical-align: middle;\n",
              "    }\n",
              "\n",
              "    .dataframe tbody tr th {\n",
              "        vertical-align: top;\n",
              "    }\n",
              "\n",
              "    .dataframe thead th {\n",
              "        text-align: right;\n",
              "    }\n",
              "</style>\n",
              "<table border=\"1\" class=\"dataframe\">\n",
              "  <thead>\n",
              "    <tr style=\"text-align: right;\">\n",
              "      <th></th>\n",
              "      <th>id_product</th>\n",
              "      <th>order_date</th>\n",
              "      <th>product_quantity</th>\n",
              "      <th>product_price</th>\n",
              "      <th>entry_date</th>\n",
              "    </tr>\n",
              "  </thead>\n",
              "  <tbody>\n",
              "    <tr>\n",
              "      <th>0</th>\n",
              "      <td>401</td>\n",
              "      <td>2021-01-23</td>\n",
              "      <td>1.0</td>\n",
              "      <td>541.487603</td>\n",
              "      <td>2018-12-04</td>\n",
              "    </tr>\n",
              "    <tr>\n",
              "      <th>1</th>\n",
              "      <td>416</td>\n",
              "      <td>2020-04-02</td>\n",
              "      <td>1.0</td>\n",
              "      <td>131.181818</td>\n",
              "      <td>2018-12-04</td>\n",
              "    </tr>\n",
              "    <tr>\n",
              "      <th>2</th>\n",
              "      <td>717</td>\n",
              "      <td>2019-03-10</td>\n",
              "      <td>1.0</td>\n",
              "      <td>2035.488500</td>\n",
              "      <td>2018-12-04</td>\n",
              "    </tr>\n",
              "    <tr>\n",
              "      <th>3</th>\n",
              "      <td>778</td>\n",
              "      <td>2019-12-27</td>\n",
              "      <td>1.0</td>\n",
              "      <td>335.988000</td>\n",
              "      <td>2018-12-04</td>\n",
              "    </tr>\n",
              "    <tr>\n",
              "      <th>4</th>\n",
              "      <td>826</td>\n",
              "      <td>2020-02-19</td>\n",
              "      <td>1.0</td>\n",
              "      <td>342.292302</td>\n",
              "      <td>2018-12-04</td>\n",
              "    </tr>\n",
              "    <tr>\n",
              "      <th>...</th>\n",
              "      <td>...</td>\n",
              "      <td>...</td>\n",
              "      <td>...</td>\n",
              "      <td>...</td>\n",
              "      <td>...</td>\n",
              "    </tr>\n",
              "    <tr>\n",
              "      <th>906</th>\n",
              "      <td>1536842</td>\n",
              "      <td>2020-11-24</td>\n",
              "      <td>1.0</td>\n",
              "      <td>1186.776860</td>\n",
              "      <td>2020-10-07</td>\n",
              "    </tr>\n",
              "    <tr>\n",
              "      <th>907</th>\n",
              "      <td>1536842</td>\n",
              "      <td>2020-11-24</td>\n",
              "      <td>1.0</td>\n",
              "      <td>1186.776860</td>\n",
              "      <td>2020-10-07</td>\n",
              "    </tr>\n",
              "    <tr>\n",
              "      <th>908</th>\n",
              "      <td>1536887</td>\n",
              "      <td>2020-11-22</td>\n",
              "      <td>1.0</td>\n",
              "      <td>0.000000</td>\n",
              "      <td>2020-11-13</td>\n",
              "    </tr>\n",
              "    <tr>\n",
              "      <th>909</th>\n",
              "      <td>1536952</td>\n",
              "      <td>2021-01-26</td>\n",
              "      <td>1.0</td>\n",
              "      <td>988.429752</td>\n",
              "      <td>2020-11-24</td>\n",
              "    </tr>\n",
              "    <tr>\n",
              "      <th>910</th>\n",
              "      <td>1536974</td>\n",
              "      <td>2020-12-06</td>\n",
              "      <td>1.0</td>\n",
              "      <td>0.000000</td>\n",
              "      <td>2020-11-26</td>\n",
              "    </tr>\n",
              "  </tbody>\n",
              "</table>\n",
              "<p>911 rows × 5 columns</p>\n",
              "</div>"
            ],
            "text/plain": [
              "     id_product order_date  product_quantity  product_price entry_date\n",
              "0           401 2021-01-23               1.0     541.487603 2018-12-04\n",
              "1           416 2020-04-02               1.0     131.181818 2018-12-04\n",
              "2           717 2019-03-10               1.0    2035.488500 2018-12-04\n",
              "3           778 2019-12-27               1.0     335.988000 2018-12-04\n",
              "4           826 2020-02-19               1.0     342.292302 2018-12-04\n",
              "..          ...        ...               ...            ...        ...\n",
              "906     1536842 2020-11-24               1.0    1186.776860 2020-10-07\n",
              "907     1536842 2020-11-24               1.0    1186.776860 2020-10-07\n",
              "908     1536887 2020-11-22               1.0       0.000000 2020-11-13\n",
              "909     1536952 2021-01-26               1.0     988.429752 2020-11-24\n",
              "910     1536974 2020-12-06               1.0       0.000000 2020-11-26\n",
              "\n",
              "[911 rows x 5 columns]"
            ]
          },
          "execution_count": 129,
          "metadata": {},
          "output_type": "execute_result"
        }
      ],
      "source": [
        "df"
      ]
    },
    {
      "cell_type": "code",
      "execution_count": null,
      "metadata": {
        "id": "ENRq0vnUrpRB",
        "outputId": "181c7451-6f60-4917-a6f7-289f1e941dc5"
      },
      "outputs": [
        {
          "data": {
            "text/plain": [
              "0     781 days\n",
              "1     485 days\n",
              "2      96 days\n",
              "3     388 days\n",
              "4     442 days\n",
              "        ...   \n",
              "906    48 days\n",
              "907    48 days\n",
              "908     9 days\n",
              "909    63 days\n",
              "910    10 days\n",
              "Length: 911, dtype: timedelta64[ns]"
            ]
          },
          "execution_count": 130,
          "metadata": {},
          "output_type": "execute_result"
        }
      ],
      "source": [
        "df.order_date-df.entry_date"
      ]
    },
    {
      "cell_type": "code",
      "execution_count": null,
      "metadata": {
        "id": "ULTti4BTrpRC"
      },
      "outputs": [],
      "source": [
        "df[\"passing_time_to_firstsale\"] = df[\"order_date\"] - df[\"entry_date\"]"
      ]
    },
    {
      "cell_type": "code",
      "execution_count": null,
      "metadata": {
        "id": "TYv0tuUHrpRC",
        "outputId": "f108e3a1-5d53-402b-9ee6-7e8dd438b970"
      },
      "outputs": [
        {
          "data": {
            "text/plain": [
              "0      781\n",
              "1      485\n",
              "2       96\n",
              "3      388\n",
              "4      442\n",
              "      ... \n",
              "906     48\n",
              "907     48\n",
              "908      9\n",
              "909     63\n",
              "910     10\n",
              "Name: passing_time_to_firstsale, Length: 911, dtype: int32"
            ]
          },
          "execution_count": 132,
          "metadata": {},
          "output_type": "execute_result"
        }
      ],
      "source": [
        "df[\"passing_time_to_firstsale\"].astype(\"str\").str.split(\" \").str[0].astype(int)"
      ]
    },
    {
      "cell_type": "code",
      "execution_count": null,
      "metadata": {
        "id": "2ASMeUELrpRC"
      },
      "outputs": [],
      "source": [
        "df[\"passing_time_to_firstsale\"] = df[\"passing_time_to_firstsale\"].astype(\"str\").str.split(\" \").str[0].astype(int)"
      ]
    },
    {
      "cell_type": "code",
      "execution_count": null,
      "metadata": {
        "id": "GslK3RKJrpRC",
        "outputId": "e47e74da-ea37-482e-fb2f-2834069a49fb"
      },
      "outputs": [
        {
          "data": {
            "text/html": [
              "<div>\n",
              "<style scoped>\n",
              "    .dataframe tbody tr th:only-of-type {\n",
              "        vertical-align: middle;\n",
              "    }\n",
              "\n",
              "    .dataframe tbody tr th {\n",
              "        vertical-align: top;\n",
              "    }\n",
              "\n",
              "    .dataframe thead th {\n",
              "        text-align: right;\n",
              "    }\n",
              "</style>\n",
              "<table border=\"1\" class=\"dataframe\">\n",
              "  <thead>\n",
              "    <tr style=\"text-align: right;\">\n",
              "      <th></th>\n",
              "      <th>passing_time_to_firstsale</th>\n",
              "    </tr>\n",
              "    <tr>\n",
              "      <th>id_product</th>\n",
              "      <th></th>\n",
              "    </tr>\n",
              "  </thead>\n",
              "  <tbody>\n",
              "    <tr>\n",
              "      <th>401</th>\n",
              "      <td>781</td>\n",
              "    </tr>\n",
              "    <tr>\n",
              "      <th>416</th>\n",
              "      <td>485</td>\n",
              "    </tr>\n",
              "    <tr>\n",
              "      <th>717</th>\n",
              "      <td>96</td>\n",
              "    </tr>\n",
              "    <tr>\n",
              "      <th>778</th>\n",
              "      <td>388</td>\n",
              "    </tr>\n",
              "    <tr>\n",
              "      <th>826</th>\n",
              "      <td>442</td>\n",
              "    </tr>\n",
              "    <tr>\n",
              "      <th>...</th>\n",
              "      <td>...</td>\n",
              "    </tr>\n",
              "    <tr>\n",
              "      <th>1536841</th>\n",
              "      <td>38</td>\n",
              "    </tr>\n",
              "    <tr>\n",
              "      <th>1536842</th>\n",
              "      <td>48</td>\n",
              "    </tr>\n",
              "    <tr>\n",
              "      <th>1536887</th>\n",
              "      <td>9</td>\n",
              "    </tr>\n",
              "    <tr>\n",
              "      <th>1536952</th>\n",
              "      <td>63</td>\n",
              "    </tr>\n",
              "    <tr>\n",
              "      <th>1536974</th>\n",
              "      <td>10</td>\n",
              "    </tr>\n",
              "  </tbody>\n",
              "</table>\n",
              "<p>498 rows × 1 columns</p>\n",
              "</div>"
            ],
            "text/plain": [
              "            passing_time_to_firstsale\n",
              "id_product                           \n",
              "401                               781\n",
              "416                               485\n",
              "717                                96\n",
              "778                               388\n",
              "826                               442\n",
              "...                               ...\n",
              "1536841                            38\n",
              "1536842                            48\n",
              "1536887                             9\n",
              "1536952                            63\n",
              "1536974                            10\n",
              "\n",
              "[498 rows x 1 columns]"
            ]
          },
          "execution_count": 135,
          "metadata": {},
          "output_type": "execute_result"
        }
      ],
      "source": [
        "df.groupby(\"id_product\")[[\"passing_time_to_firstsale\"]].min()"
      ]
    },
    {
      "cell_type": "code",
      "execution_count": null,
      "metadata": {
        "id": "GE5YhXtTrpRC",
        "outputId": "46618001-6a79-475d-caed-b70aa7cf8339"
      },
      "outputs": [
        {
          "data": {
            "text/plain": [
              "0      781\n",
              "1      485\n",
              "2       96\n",
              "3      388\n",
              "4      442\n",
              "      ... \n",
              "906     48\n",
              "907     48\n",
              "908      9\n",
              "909     63\n",
              "910     10\n",
              "Name: passing_time_to_firstsale, Length: 911, dtype: int32"
            ]
          },
          "execution_count": 136,
          "metadata": {},
          "output_type": "execute_result"
        }
      ],
      "source": [
        "df.groupby(\"id_product\")[\"passing_time_to_firstsale\"].transform(min)"
      ]
    },
    {
      "cell_type": "code",
      "execution_count": null,
      "metadata": {
        "scrolled": true,
        "id": "LGtk6DysrpRC",
        "outputId": "3c23d968-9229-448b-e418-9cd55ac02847"
      },
      "outputs": [
        {
          "data": {
            "text/html": [
              "<div>\n",
              "<style scoped>\n",
              "    .dataframe tbody tr th:only-of-type {\n",
              "        vertical-align: middle;\n",
              "    }\n",
              "\n",
              "    .dataframe tbody tr th {\n",
              "        vertical-align: top;\n",
              "    }\n",
              "\n",
              "    .dataframe thead th {\n",
              "        text-align: right;\n",
              "    }\n",
              "</style>\n",
              "<table border=\"1\" class=\"dataframe\">\n",
              "  <thead>\n",
              "    <tr style=\"text-align: right;\">\n",
              "      <th></th>\n",
              "      <th>id_product</th>\n",
              "      <th>order_date</th>\n",
              "      <th>product_quantity</th>\n",
              "      <th>product_price</th>\n",
              "      <th>entry_date</th>\n",
              "      <th>passing_time_to_firstsale</th>\n",
              "    </tr>\n",
              "  </thead>\n",
              "  <tbody>\n",
              "    <tr>\n",
              "      <th>0</th>\n",
              "      <td>401</td>\n",
              "      <td>2021-01-23</td>\n",
              "      <td>1.0</td>\n",
              "      <td>541.487603</td>\n",
              "      <td>2018-12-04</td>\n",
              "      <td>781</td>\n",
              "    </tr>\n",
              "    <tr>\n",
              "      <th>1</th>\n",
              "      <td>416</td>\n",
              "      <td>2020-04-02</td>\n",
              "      <td>1.0</td>\n",
              "      <td>131.181818</td>\n",
              "      <td>2018-12-04</td>\n",
              "      <td>485</td>\n",
              "    </tr>\n",
              "    <tr>\n",
              "      <th>2</th>\n",
              "      <td>717</td>\n",
              "      <td>2019-03-10</td>\n",
              "      <td>1.0</td>\n",
              "      <td>2035.488500</td>\n",
              "      <td>2018-12-04</td>\n",
              "      <td>96</td>\n",
              "    </tr>\n",
              "    <tr>\n",
              "      <th>3</th>\n",
              "      <td>778</td>\n",
              "      <td>2019-12-27</td>\n",
              "      <td>1.0</td>\n",
              "      <td>335.988000</td>\n",
              "      <td>2018-12-04</td>\n",
              "      <td>388</td>\n",
              "    </tr>\n",
              "    <tr>\n",
              "      <th>4</th>\n",
              "      <td>826</td>\n",
              "      <td>2020-02-19</td>\n",
              "      <td>1.0</td>\n",
              "      <td>342.292302</td>\n",
              "      <td>2018-12-04</td>\n",
              "      <td>442</td>\n",
              "    </tr>\n",
              "    <tr>\n",
              "      <th>...</th>\n",
              "      <td>...</td>\n",
              "      <td>...</td>\n",
              "      <td>...</td>\n",
              "      <td>...</td>\n",
              "      <td>...</td>\n",
              "      <td>...</td>\n",
              "    </tr>\n",
              "    <tr>\n",
              "      <th>906</th>\n",
              "      <td>1536842</td>\n",
              "      <td>2020-11-24</td>\n",
              "      <td>1.0</td>\n",
              "      <td>1186.776860</td>\n",
              "      <td>2020-10-07</td>\n",
              "      <td>48</td>\n",
              "    </tr>\n",
              "    <tr>\n",
              "      <th>907</th>\n",
              "      <td>1536842</td>\n",
              "      <td>2020-11-24</td>\n",
              "      <td>1.0</td>\n",
              "      <td>1186.776860</td>\n",
              "      <td>2020-10-07</td>\n",
              "      <td>48</td>\n",
              "    </tr>\n",
              "    <tr>\n",
              "      <th>908</th>\n",
              "      <td>1536887</td>\n",
              "      <td>2020-11-22</td>\n",
              "      <td>1.0</td>\n",
              "      <td>0.000000</td>\n",
              "      <td>2020-11-13</td>\n",
              "      <td>9</td>\n",
              "    </tr>\n",
              "    <tr>\n",
              "      <th>909</th>\n",
              "      <td>1536952</td>\n",
              "      <td>2021-01-26</td>\n",
              "      <td>1.0</td>\n",
              "      <td>988.429752</td>\n",
              "      <td>2020-11-24</td>\n",
              "      <td>63</td>\n",
              "    </tr>\n",
              "    <tr>\n",
              "      <th>910</th>\n",
              "      <td>1536974</td>\n",
              "      <td>2020-12-06</td>\n",
              "      <td>1.0</td>\n",
              "      <td>0.000000</td>\n",
              "      <td>2020-11-26</td>\n",
              "      <td>10</td>\n",
              "    </tr>\n",
              "  </tbody>\n",
              "</table>\n",
              "<p>911 rows × 6 columns</p>\n",
              "</div>"
            ],
            "text/plain": [
              "     id_product order_date  product_quantity  product_price entry_date  \\\n",
              "0           401 2021-01-23               1.0     541.487603 2018-12-04   \n",
              "1           416 2020-04-02               1.0     131.181818 2018-12-04   \n",
              "2           717 2019-03-10               1.0    2035.488500 2018-12-04   \n",
              "3           778 2019-12-27               1.0     335.988000 2018-12-04   \n",
              "4           826 2020-02-19               1.0     342.292302 2018-12-04   \n",
              "..          ...        ...               ...            ...        ...   \n",
              "906     1536842 2020-11-24               1.0    1186.776860 2020-10-07   \n",
              "907     1536842 2020-11-24               1.0    1186.776860 2020-10-07   \n",
              "908     1536887 2020-11-22               1.0       0.000000 2020-11-13   \n",
              "909     1536952 2021-01-26               1.0     988.429752 2020-11-24   \n",
              "910     1536974 2020-12-06               1.0       0.000000 2020-11-26   \n",
              "\n",
              "     passing_time_to_firstsale  \n",
              "0                          781  \n",
              "1                          485  \n",
              "2                           96  \n",
              "3                          388  \n",
              "4                          442  \n",
              "..                         ...  \n",
              "906                         48  \n",
              "907                         48  \n",
              "908                          9  \n",
              "909                         63  \n",
              "910                         10  \n",
              "\n",
              "[911 rows x 6 columns]"
            ]
          },
          "execution_count": 137,
          "metadata": {},
          "output_type": "execute_result"
        }
      ],
      "source": [
        "df[\"passing_time_to_firstsale\"]=df.groupby(\"id_product\")[\"passing_time_to_firstsale\"].transform(min)\n",
        "df"
      ]
    },
    {
      "cell_type": "markdown",
      "metadata": {
        "id": "n1KSWxpWrpRC"
      },
      "source": [
        "**lets detect the time between last order date and today for each product**"
      ]
    },
    {
      "cell_type": "code",
      "execution_count": null,
      "metadata": {
        "id": "WpHFMOVjrpRC",
        "outputId": "260a5e18-a0f3-4668-c0e6-596a8ccfd3c0"
      },
      "outputs": [
        {
          "data": {
            "text/plain": [
              "id_product\n",
              "401       2021-01-23\n",
              "416       2020-04-02\n",
              "717       2019-03-10\n",
              "778       2019-12-27\n",
              "826       2020-02-19\n",
              "             ...    \n",
              "1536841   2020-11-22\n",
              "1536842   2020-11-24\n",
              "1536887   2020-11-22\n",
              "1536952   2021-01-26\n",
              "1536974   2020-12-06\n",
              "Name: order_date, Length: 498, dtype: datetime64[ns]"
            ]
          },
          "execution_count": 138,
          "metadata": {},
          "output_type": "execute_result"
        }
      ],
      "source": [
        "df.groupby(\"id_product\").order_date.max()"
      ]
    },
    {
      "cell_type": "code",
      "execution_count": null,
      "metadata": {
        "id": "r5O965BZrpRD",
        "outputId": "05931745-e4ca-43ce-de21-b3f6dc939e19"
      },
      "outputs": [
        {
          "data": {
            "text/plain": [
              "0      2021-01-23\n",
              "1      2020-04-02\n",
              "2      2019-03-10\n",
              "3      2019-12-27\n",
              "4      2020-02-19\n",
              "          ...    \n",
              "906    2020-11-24\n",
              "907    2020-11-24\n",
              "908    2020-11-22\n",
              "909    2021-01-26\n",
              "910    2020-12-06\n",
              "Name: order_date, Length: 911, dtype: object"
            ]
          },
          "execution_count": 139,
          "metadata": {},
          "output_type": "execute_result"
        }
      ],
      "source": [
        "df.groupby(\"id_product\").order_date.transform(max).dt.date"
      ]
    },
    {
      "cell_type": "code",
      "execution_count": null,
      "metadata": {
        "id": "8Isf5xcurpRD"
      },
      "outputs": [],
      "source": [
        "last_order_date = df.groupby(\"id_product\").order_date.transform(max).dt.date"
      ]
    },
    {
      "cell_type": "code",
      "execution_count": null,
      "metadata": {
        "id": "LVdJrFICrpRD",
        "outputId": "f7f057b9-2041-4cdd-ece8-86c597668c15"
      },
      "outputs": [
        {
          "name": "stdout",
          "output_type": "stream",
          "text": [
            "2021-02-01\n"
          ]
        }
      ],
      "source": [
        "today = pd.to_datetime(\"01-02-2021\", format='%d-%m-%Y').date()\n",
        "print(today)"
      ]
    },
    {
      "cell_type": "code",
      "execution_count": null,
      "metadata": {
        "id": "xpjaxduurpRD",
        "outputId": "bcc4e0bc-3236-4e98-f24a-e9377eb48ef2"
      },
      "outputs": [
        {
          "data": {
            "text/plain": [
              "0       9 days\n",
              "1     305 days\n",
              "2     694 days\n",
              "3     402 days\n",
              "4     348 days\n",
              "        ...   \n",
              "906    69 days\n",
              "907    69 days\n",
              "908    71 days\n",
              "909     6 days\n",
              "910    57 days\n",
              "Name: order_date, Length: 911, dtype: timedelta64[ns]"
            ]
          },
          "execution_count": 142,
          "metadata": {},
          "output_type": "execute_result"
        }
      ],
      "source": [
        "today - last_order_date"
      ]
    },
    {
      "cell_type": "code",
      "execution_count": null,
      "metadata": {
        "id": "inHoWa_OrpRD"
      },
      "outputs": [],
      "source": [
        "df[\"passing_time_from_lastsale\"] = today - last_order_date"
      ]
    },
    {
      "cell_type": "code",
      "execution_count": null,
      "metadata": {
        "id": "6f1Eh5z-rpRD",
        "outputId": "a6c81293-3491-4bd5-a53c-10840504d29e"
      },
      "outputs": [
        {
          "data": {
            "text/html": [
              "<div>\n",
              "<style scoped>\n",
              "    .dataframe tbody tr th:only-of-type {\n",
              "        vertical-align: middle;\n",
              "    }\n",
              "\n",
              "    .dataframe tbody tr th {\n",
              "        vertical-align: top;\n",
              "    }\n",
              "\n",
              "    .dataframe thead th {\n",
              "        text-align: right;\n",
              "    }\n",
              "</style>\n",
              "<table border=\"1\" class=\"dataframe\">\n",
              "  <thead>\n",
              "    <tr style=\"text-align: right;\">\n",
              "      <th></th>\n",
              "      <th>id_product</th>\n",
              "      <th>order_date</th>\n",
              "      <th>product_quantity</th>\n",
              "      <th>product_price</th>\n",
              "      <th>entry_date</th>\n",
              "      <th>passing_time_to_firstsale</th>\n",
              "      <th>passing_time_from_lastsale</th>\n",
              "    </tr>\n",
              "  </thead>\n",
              "  <tbody>\n",
              "    <tr>\n",
              "      <th>0</th>\n",
              "      <td>401</td>\n",
              "      <td>2021-01-23</td>\n",
              "      <td>1.0</td>\n",
              "      <td>541.487603</td>\n",
              "      <td>2018-12-04</td>\n",
              "      <td>781</td>\n",
              "      <td>9</td>\n",
              "    </tr>\n",
              "    <tr>\n",
              "      <th>1</th>\n",
              "      <td>416</td>\n",
              "      <td>2020-04-02</td>\n",
              "      <td>1.0</td>\n",
              "      <td>131.181818</td>\n",
              "      <td>2018-12-04</td>\n",
              "      <td>485</td>\n",
              "      <td>305</td>\n",
              "    </tr>\n",
              "    <tr>\n",
              "      <th>2</th>\n",
              "      <td>717</td>\n",
              "      <td>2019-03-10</td>\n",
              "      <td>1.0</td>\n",
              "      <td>2035.488500</td>\n",
              "      <td>2018-12-04</td>\n",
              "      <td>96</td>\n",
              "      <td>694</td>\n",
              "    </tr>\n",
              "    <tr>\n",
              "      <th>3</th>\n",
              "      <td>778</td>\n",
              "      <td>2019-12-27</td>\n",
              "      <td>1.0</td>\n",
              "      <td>335.988000</td>\n",
              "      <td>2018-12-04</td>\n",
              "      <td>388</td>\n",
              "      <td>402</td>\n",
              "    </tr>\n",
              "    <tr>\n",
              "      <th>4</th>\n",
              "      <td>826</td>\n",
              "      <td>2020-02-19</td>\n",
              "      <td>1.0</td>\n",
              "      <td>342.292302</td>\n",
              "      <td>2018-12-04</td>\n",
              "      <td>442</td>\n",
              "      <td>348</td>\n",
              "    </tr>\n",
              "    <tr>\n",
              "      <th>...</th>\n",
              "      <td>...</td>\n",
              "      <td>...</td>\n",
              "      <td>...</td>\n",
              "      <td>...</td>\n",
              "      <td>...</td>\n",
              "      <td>...</td>\n",
              "      <td>...</td>\n",
              "    </tr>\n",
              "    <tr>\n",
              "      <th>906</th>\n",
              "      <td>1536842</td>\n",
              "      <td>2020-11-24</td>\n",
              "      <td>1.0</td>\n",
              "      <td>1186.776860</td>\n",
              "      <td>2020-10-07</td>\n",
              "      <td>48</td>\n",
              "      <td>69</td>\n",
              "    </tr>\n",
              "    <tr>\n",
              "      <th>907</th>\n",
              "      <td>1536842</td>\n",
              "      <td>2020-11-24</td>\n",
              "      <td>1.0</td>\n",
              "      <td>1186.776860</td>\n",
              "      <td>2020-10-07</td>\n",
              "      <td>48</td>\n",
              "      <td>69</td>\n",
              "    </tr>\n",
              "    <tr>\n",
              "      <th>908</th>\n",
              "      <td>1536887</td>\n",
              "      <td>2020-11-22</td>\n",
              "      <td>1.0</td>\n",
              "      <td>0.000000</td>\n",
              "      <td>2020-11-13</td>\n",
              "      <td>9</td>\n",
              "      <td>71</td>\n",
              "    </tr>\n",
              "    <tr>\n",
              "      <th>909</th>\n",
              "      <td>1536952</td>\n",
              "      <td>2021-01-26</td>\n",
              "      <td>1.0</td>\n",
              "      <td>988.429752</td>\n",
              "      <td>2020-11-24</td>\n",
              "      <td>63</td>\n",
              "      <td>6</td>\n",
              "    </tr>\n",
              "    <tr>\n",
              "      <th>910</th>\n",
              "      <td>1536974</td>\n",
              "      <td>2020-12-06</td>\n",
              "      <td>1.0</td>\n",
              "      <td>0.000000</td>\n",
              "      <td>2020-11-26</td>\n",
              "      <td>10</td>\n",
              "      <td>57</td>\n",
              "    </tr>\n",
              "  </tbody>\n",
              "</table>\n",
              "<p>911 rows × 7 columns</p>\n",
              "</div>"
            ],
            "text/plain": [
              "     id_product order_date  product_quantity  product_price entry_date  \\\n",
              "0           401 2021-01-23               1.0     541.487603 2018-12-04   \n",
              "1           416 2020-04-02               1.0     131.181818 2018-12-04   \n",
              "2           717 2019-03-10               1.0    2035.488500 2018-12-04   \n",
              "3           778 2019-12-27               1.0     335.988000 2018-12-04   \n",
              "4           826 2020-02-19               1.0     342.292302 2018-12-04   \n",
              "..          ...        ...               ...            ...        ...   \n",
              "906     1536842 2020-11-24               1.0    1186.776860 2020-10-07   \n",
              "907     1536842 2020-11-24               1.0    1186.776860 2020-10-07   \n",
              "908     1536887 2020-11-22               1.0       0.000000 2020-11-13   \n",
              "909     1536952 2021-01-26               1.0     988.429752 2020-11-24   \n",
              "910     1536974 2020-12-06               1.0       0.000000 2020-11-26   \n",
              "\n",
              "     passing_time_to_firstsale  passing_time_from_lastsale  \n",
              "0                          781                           9  \n",
              "1                          485                         305  \n",
              "2                           96                         694  \n",
              "3                          388                         402  \n",
              "4                          442                         348  \n",
              "..                         ...                         ...  \n",
              "906                         48                          69  \n",
              "907                         48                          69  \n",
              "908                          9                          71  \n",
              "909                         63                           6  \n",
              "910                         10                          57  \n",
              "\n",
              "[911 rows x 7 columns]"
            ]
          },
          "execution_count": 144,
          "metadata": {},
          "output_type": "execute_result"
        }
      ],
      "source": [
        "df[\"passing_time_from_lastsale\"] = df[\"passing_time_from_lastsale\"].astype(\"str\").str.split(\" \").str[0].astype(int)\n",
        "df"
      ]
    },
    {
      "cell_type": "code",
      "execution_count": null,
      "metadata": {
        "id": "PD7phc2arpRD"
      },
      "outputs": [],
      "source": [
        ""
      ]
    },
    {
      "cell_type": "code",
      "execution_count": null,
      "metadata": {
        "id": "RTUnfLtYrpRE"
      },
      "outputs": [],
      "source": [
        ""
      ]
    },
    {
      "cell_type": "markdown",
      "metadata": {
        "id": "O47dMJLmrpRE"
      },
      "source": [
        "# End of The Session"
      ]
    },
    {
      "cell_type": "code",
      "execution_count": null,
      "metadata": {
        "id": "3l3M8ZqIrpRE"
      },
      "outputs": [],
      "source": [
        ""
      ]
    }
  ],
  "metadata": {
    "kernelspec": {
      "display_name": "Python 3",
      "language": "python",
      "name": "python3"
    },
    "language_info": {
      "codemirror_mode": {
        "name": "ipython",
        "version": 3
      },
      "file_extension": ".py",
      "mimetype": "text/x-python",
      "name": "python",
      "nbconvert_exporter": "python",
      "pygments_lexer": "ipython3",
      "version": "3.7.6"
    },
    "colab": {
      "name": "DAwPy-S10-Part-1 (Text-Time Methods)-empty (1).ipynb",
      "provenance": [],
      "include_colab_link": true
    }
  },
  "nbformat": 4,
  "nbformat_minor": 0
}