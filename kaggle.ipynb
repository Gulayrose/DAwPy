{
  "nbformat": 4,
  "nbformat_minor": 0,
  "metadata": {
    "colab": {
      "name": "kaggle",
      "provenance": [],
      "authorship_tag": "ABX9TyNQCM0SaCoEpjEV7KOU/K8+",
      "include_colab_link": true
    },
    "kernelspec": {
      "name": "python3",
      "display_name": "Python 3"
    },
    "language_info": {
      "name": "python"
    }
  },
  "cells": [
    {
      "cell_type": "markdown",
      "metadata": {
        "id": "view-in-github",
        "colab_type": "text"
      },
      "source": [
        "<a href=\"https://colab.research.google.com/github/Gulayrose/DAwPy/blob/main/kaggle.ipynb\" target=\"_parent\"><img src=\"https://colab.research.google.com/assets/colab-badge.svg\" alt=\"Open In Colab\"/></a>"
      ]
    },
    {
      "cell_type": "code",
      "execution_count": 1,
      "metadata": {
        "colab": {
          "base_uri": "https://localhost:8080/"
        },
        "id": "sYXrBnKV62Vz",
        "outputId": "3225d8e6-a610-45bc-deea-cc388a179b7f"
      },
      "outputs": [
        {
          "output_type": "stream",
          "name": "stdout",
          "text": [
            "Takip etmediğiniz takipçileriniz\n",
            "\n",
            "-----*****-----\n",
            "Geri takip yapmayanlar!!!\n",
            "\n",
            "profoz //// https://www.kaggle.com/profoz\n",
            "suayipkbasol //// https://www.kaggle.com/suayipkbasol\n",
            "ayhanyaman //// https://www.kaggle.com/ayhanyaman\n",
            "leventtoman //// https://www.kaggle.com/leventtoman\n",
            "kadirduran //// https://www.kaggle.com/kadirduran\n",
            "metinkara //// https://www.kaggle.com/metinkara\n",
            "oguzhanyuksel //// https://www.kaggle.com/oguzhanyuksel\n",
            "abdullahguler //// https://www.kaggle.com/abdullahguler\n",
            "abdullahkayhan //// https://www.kaggle.com/abdullahkayhan\n",
            "mustafazengin60 //// https://www.kaggle.com/mustafazengin60\n",
            "busraaozdemir //// https://www.kaggle.com/busraaozdemir\n",
            "iremben //// https://www.kaggle.com/iremben\n",
            "kaanboke //// https://www.kaggle.com/kaanboke\n",
            "farukkose //// https://www.kaggle.com/farukkose\n",
            "aknbedk //// https://www.kaggle.com/aknbedk\n"
          ]
        }
      ],
      "source": [
        "#!pip install requests\n",
        "#!pip install bs4\n",
        "\n",
        "import requests\n",
        "from bs4 import BeautifulSoup\n",
        "import ast\n",
        "\n",
        "username = 'gulaykayapinar'\n",
        "\n",
        "\n",
        "followers = requests.get('https://www.kaggle.com/'+username+'/followers')\n",
        "followings = requests.get('https://www.kaggle.com/'+username+'/followers')\n",
        "\n",
        "followers = BeautifulSoup(followers.text, 'html.parser')\n",
        "following = BeautifulSoup(followings.text, 'html.parser')\n",
        "\n",
        "followers = followers.find_all('script', {'class': \"kaggle-component\"})[1].text[77:-103].replace('true',\n",
        "                                                                                                 'True').replace(\n",
        "    'false', 'False')\n",
        "following = following.find_all('script', {'class': \"kaggle-component\"})[1].text[77:-103].replace('true',\n",
        "                                                                                                 'True').replace(\n",
        "    'false', 'False')\n",
        "\n",
        "\n",
        "followers = ast.literal_eval(followers)['followers']\n",
        "following = ast.literal_eval(following)['following']\n",
        "\n",
        "follower_list = list()\n",
        "following_list = list()\n",
        "\n",
        "for i in range(followers['count']):\n",
        "    follower_list.append(followers['list'][i]['userName'])\n",
        "\n",
        "for i in range(following['count']):\n",
        "    following_list.append(following['list'][i]['userName'])\n",
        "\n",
        "print('Takip etmediğiniz takipçileriniz', end='\\n\\n')\n",
        "for user in set(follower_list).difference(following_list):\n",
        "    print(f'{user} //// https://www.kaggle.com/{user}')\n",
        "\n",
        "print('-----*****-----', 'Geri takip yapmayanlar!!!', sep='\\n', end='\\n\\n')\n",
        "for user in set(following_list).difference(follower_list):\n",
        "    print(f'{user} //// https://www.kaggle.com/{user}')"
      ]
    }
  ]
}