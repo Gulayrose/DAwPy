{
  "nbformat": 4,
  "nbformat_minor": 0,
  "metadata": {
    "colab": {
      "name": "np_mentorluk exam",
      "provenance": [],
      "authorship_tag": "ABX9TyPFYlBS1HDjP/uqywHOCBBQ",
      "include_colab_link": true
    },
    "kernelspec": {
      "name": "python3",
      "display_name": "Python 3"
    },
    "language_info": {
      "name": "python"
    }
  },
  "cells": [
    {
      "cell_type": "markdown",
      "metadata": {
        "id": "view-in-github",
        "colab_type": "text"
      },
      "source": [
        "<a href=\"https://colab.research.google.com/github/Gulayrose/DAwPy/blob/main/np_mentorluk_exam.ipynb\" target=\"_parent\"><img src=\"https://colab.research.google.com/assets/colab-badge.svg\" alt=\"Open In Colab\"/></a>"
      ]
    },
    {
      "cell_type": "code",
      "execution_count": 3,
      "metadata": {
        "id": "V0cB6t4k0m2p"
      },
      "outputs": [],
      "source": [
        "import numpy as np\n"
      ]
    },
    {
      "cell_type": "code",
      "source": [
        "np.zeros(10)"
      ],
      "metadata": {
        "colab": {
          "base_uri": "https://localhost:8080/"
        },
        "id": "AKuKVSJo1FSD",
        "outputId": "16736d6d-eb56-4024-b973-896f60809242"
      },
      "execution_count": 6,
      "outputs": [
        {
          "output_type": "execute_result",
          "data": {
            "text/plain": [
              "array([0., 0., 0., 0., 0., 0., 0., 0., 0., 0.])"
            ]
          },
          "metadata": {},
          "execution_count": 6
        }
      ]
    },
    {
      "cell_type": "code",
      "source": [
        "np.ones(10)"
      ],
      "metadata": {
        "colab": {
          "base_uri": "https://localhost:8080/"
        },
        "id": "XRPezVZH1FVa",
        "outputId": "1d280bbf-3b19-4519-b508-5ad79b2bcf84"
      },
      "execution_count": 7,
      "outputs": [
        {
          "output_type": "execute_result",
          "data": {
            "text/plain": [
              "array([1., 1., 1., 1., 1., 1., 1., 1., 1., 1.])"
            ]
          },
          "metadata": {},
          "execution_count": 7
        }
      ]
    },
    {
      "cell_type": "code",
      "source": [
        "np.ones(10)*5"
      ],
      "metadata": {
        "colab": {
          "base_uri": "https://localhost:8080/"
        },
        "id": "DWL0qX_u1FYB",
        "outputId": "1032a161-501d-4638-b71c-591302bcd15f"
      },
      "execution_count": 8,
      "outputs": [
        {
          "output_type": "execute_result",
          "data": {
            "text/plain": [
              "array([5., 5., 5., 5., 5., 5., 5., 5., 5., 5.])"
            ]
          },
          "metadata": {},
          "execution_count": 8
        }
      ]
    },
    {
      "cell_type": "code",
      "source": [
        "np.arange(10,50)"
      ],
      "metadata": {
        "colab": {
          "base_uri": "https://localhost:8080/"
        },
        "id": "15M_qzHK1Fan",
        "outputId": "52d5c1f1-fc3e-45ca-bbf3-fd6eead29d91"
      },
      "execution_count": 9,
      "outputs": [
        {
          "output_type": "execute_result",
          "data": {
            "text/plain": [
              "array([10, 11, 12, 13, 14, 15, 16, 17, 18, 19, 20, 21, 22, 23, 24, 25, 26,\n",
              "       27, 28, 29, 30, 31, 32, 33, 34, 35, 36, 37, 38, 39, 40, 41, 42, 43,\n",
              "       44, 45, 46, 47, 48, 49])"
            ]
          },
          "metadata": {},
          "execution_count": 9
        }
      ]
    },
    {
      "cell_type": "code",
      "source": [
        "np.arange(0,9).reshape(3,3)"
      ],
      "metadata": {
        "colab": {
          "base_uri": "https://localhost:8080/"
        },
        "id": "Fjx4et1h1FdN",
        "outputId": "dbdc256c-90d4-48fb-9ef8-479770a933d5"
      },
      "execution_count": 14,
      "outputs": [
        {
          "output_type": "execute_result",
          "data": {
            "text/plain": [
              "array([[0, 1, 2],\n",
              "       [3, 4, 5],\n",
              "       [6, 7, 8]])"
            ]
          },
          "metadata": {},
          "execution_count": 14
        }
      ]
    },
    {
      "cell_type": "code",
      "source": [
        "np.eye(3)"
      ],
      "metadata": {
        "colab": {
          "base_uri": "https://localhost:8080/"
        },
        "id": "zeHOOKgf1Ffj",
        "outputId": "e8d2d80e-9156-49fb-8168-732e3826f2f1"
      },
      "execution_count": 18,
      "outputs": [
        {
          "output_type": "execute_result",
          "data": {
            "text/plain": [
              "array([[1., 0., 0.],\n",
              "       [0., 1., 0.],\n",
              "       [0., 0., 1.]])"
            ]
          },
          "metadata": {},
          "execution_count": 18
        }
      ]
    },
    {
      "cell_type": "code",
      "source": [
        "np.random.rand(1)"
      ],
      "metadata": {
        "colab": {
          "base_uri": "https://localhost:8080/"
        },
        "id": "QU3bl5cj1Fhr",
        "outputId": "6345ed29-b95f-492a-8712-fa267a339c35"
      },
      "execution_count": 25,
      "outputs": [
        {
          "output_type": "execute_result",
          "data": {
            "text/plain": [
              "array([0.33441334])"
            ]
          },
          "metadata": {},
          "execution_count": 25
        }
      ]
    },
    {
      "cell_type": "code",
      "source": [
        "np.random.randn(25) # standart normal distribution"
      ],
      "metadata": {
        "colab": {
          "base_uri": "https://localhost:8080/"
        },
        "id": "9ECgH4191FkR",
        "outputId": "4779e1e8-4424-4158-f390-e78310e5356e"
      },
      "execution_count": 26,
      "outputs": [
        {
          "output_type": "execute_result",
          "data": {
            "text/plain": [
              "array([-0.65023141, -1.13906802, -1.86222989, -0.28029276,  1.39868029,\n",
              "       -0.62289592, -0.70743645, -0.68525973, -0.35094125,  0.36177587,\n",
              "        0.48577109,  0.05722994, -0.71353736, -0.45109356,  0.12071611,\n",
              "       -0.69268295,  0.19424826, -0.65825009, -0.55636764, -1.12876763,\n",
              "       -0.05122062, -0.21685219, -0.72043142,  0.60125456, -1.06168368])"
            ]
          },
          "metadata": {},
          "execution_count": 26
        }
      ]
    },
    {
      "cell_type": "code",
      "source": [
        "np.random.randn(10,10).round(2) # virgulden sonra 2 basaamkli "
      ],
      "metadata": {
        "colab": {
          "base_uri": "https://localhost:8080/"
        },
        "id": "rG2DTdUs1FmY",
        "outputId": "8e722861-f36d-408a-dbce-e9fd76eb2d80"
      },
      "execution_count": 30,
      "outputs": [
        {
          "output_type": "execute_result",
          "data": {
            "text/plain": [
              "array([[-0.4 , -0.29,  0.6 ,  1.26,  1.26, -1.03,  0.24,  0.95, -0.04,\n",
              "        -1.29],\n",
              "       [-0.31,  1.19, -0.84, -0.51,  0.11, -1.51,  0.21, -0.6 ,  0.16,\n",
              "        -0.12],\n",
              "       [ 0.6 , -0.31,  0.87, -0.72,  0.54, -0.33,  0.56,  0.2 ,  0.02,\n",
              "        -1.32],\n",
              "       [-0.6 , -0.42, -0.26,  2.56,  0.04, -0.24, -1.67, -0.96, -0.45,\n",
              "        -0.38],\n",
              "       [-1.65,  0.25, -0.05, -0.4 , -0.08, -2.23,  1.65,  0.6 ,  1.24,\n",
              "         0.94],\n",
              "       [ 1.65,  1.84,  1.29,  2.34, -0.94,  0.48, -1.44, -1.11, -1.45,\n",
              "         0.41],\n",
              "       [ 2.  ,  0.57,  0.55, -0.85, -0.52, -0.18,  1.37,  0.58, -0.75,\n",
              "         1.49],\n",
              "       [ 0.6 ,  0.63,  1.32, -0.4 , -0.08, -0.32,  0.16, -1.22, -0.9 ,\n",
              "        -0.42],\n",
              "       [-0.7 , -1.49,  0.28,  0.69,  0.11,  0.45, -0.12, -1.07, -0.66,\n",
              "        -0.64],\n",
              "       [-0.37,  0.77, -0.11, -0.47, -0.22,  2.62, -0.56,  1.02, -0.92,\n",
              "        -1.92]])"
            ]
          },
          "metadata": {},
          "execution_count": 30
        }
      ]
    },
    {
      "cell_type": "code",
      "source": [
        "np.random.randn(4,5) # pozitif donmesi icin ne gerekiyordu??"
      ],
      "metadata": {
        "colab": {
          "base_uri": "https://localhost:8080/"
        },
        "id": "cqZyh4D61Fot",
        "outputId": "b2329dab-4c53-429f-da76-27b2a67870d8"
      },
      "execution_count": 31,
      "outputs": [
        {
          "output_type": "execute_result",
          "data": {
            "text/plain": [
              "array([[ 0.47808916,  0.61783832, -0.66801194, -0.64140401, -2.15029208],\n",
              "       [ 0.93672565, -0.18486285, -0.34676015, -0.19571438,  0.30783842],\n",
              "       [-0.71960204, -1.32749347, -2.24914067,  0.8024258 ,  0.62335354],\n",
              "       [ 0.20762715, -1.28021944, -0.36420601,  0.33812192,  0.43706222]])"
            ]
          },
          "metadata": {},
          "execution_count": 31
        }
      ]
    },
    {
      "cell_type": "code",
      "source": [
        "mat = np.arange(1,26).reshape(5,5)\n",
        "mat"
      ],
      "metadata": {
        "colab": {
          "base_uri": "https://localhost:8080/"
        },
        "id": "9_9GRZ0-1Fta",
        "outputId": "2965a8ab-fd89-4f28-f0ed-c421444cd270"
      },
      "execution_count": 32,
      "outputs": [
        {
          "output_type": "execute_result",
          "data": {
            "text/plain": [
              "array([[ 1,  2,  3,  4,  5],\n",
              "       [ 6,  7,  8,  9, 10],\n",
              "       [11, 12, 13, 14, 15],\n",
              "       [16, 17, 18, 19, 20],\n",
              "       [21, 22, 23, 24, 25]])"
            ]
          },
          "metadata": {},
          "execution_count": 32
        }
      ]
    },
    {
      "cell_type": "code",
      "source": [
        "mat[2:,1:]"
      ],
      "metadata": {
        "colab": {
          "base_uri": "https://localhost:8080/"
        },
        "id": "99HlKSZW-VcN",
        "outputId": "718cf349-4fd4-4989-9ffc-019b8d31af67"
      },
      "execution_count": 33,
      "outputs": [
        {
          "output_type": "execute_result",
          "data": {
            "text/plain": [
              "array([[12, 13, 14, 15],\n",
              "       [17, 18, 19, 20],\n",
              "       [22, 23, 24, 25]])"
            ]
          },
          "metadata": {},
          "execution_count": 33
        }
      ]
    },
    {
      "cell_type": "code",
      "source": [
        "mat[3,4]"
      ],
      "metadata": {
        "colab": {
          "base_uri": "https://localhost:8080/"
        },
        "id": "xlvC4zwA-VZ7",
        "outputId": "5d246972-87f5-4c54-9e71-3d6b3f452369"
      },
      "execution_count": 34,
      "outputs": [
        {
          "output_type": "execute_result",
          "data": {
            "text/plain": [
              "20"
            ]
          },
          "metadata": {},
          "execution_count": 34
        }
      ]
    },
    {
      "cell_type": "code",
      "source": [
        "mat[[0,1,2],[1,1,1]]"
      ],
      "metadata": {
        "colab": {
          "base_uri": "https://localhost:8080/"
        },
        "id": "IKhOAgTH-VXS",
        "outputId": "30c01aba-9c4b-46de-8695-7e7e20df8ae5"
      },
      "execution_count": 35,
      "outputs": [
        {
          "output_type": "execute_result",
          "data": {
            "text/plain": [
              "array([ 2,  7, 12])"
            ]
          },
          "metadata": {},
          "execution_count": 35
        }
      ]
    },
    {
      "cell_type": "code",
      "source": [
        "mat[[0,1,2],1] # [[2],[7],[12]] olmasi gerek ti nasil olacak ?"
      ],
      "metadata": {
        "colab": {
          "base_uri": "https://localhost:8080/"
        },
        "id": "3ymvHdQwDsep",
        "outputId": "97c9bea5-27b9-46e3-dd1f-7476a7d02c95"
      },
      "execution_count": 41,
      "outputs": [
        {
          "output_type": "execute_result",
          "data": {
            "text/plain": [
              "array([ 2,  7, 12])"
            ]
          },
          "metadata": {},
          "execution_count": 41
        }
      ]
    },
    {
      "cell_type": "code",
      "source": [
        "mat[4]"
      ],
      "metadata": {
        "colab": {
          "base_uri": "https://localhost:8080/"
        },
        "id": "A79rWuCMEIwd",
        "outputId": "a4798b67-4c34-4d3f-9175-c4c30ac82dad"
      },
      "execution_count": 43,
      "outputs": [
        {
          "output_type": "execute_result",
          "data": {
            "text/plain": [
              "array([21, 22, 23, 24, 25])"
            ]
          },
          "metadata": {},
          "execution_count": 43
        }
      ]
    },
    {
      "cell_type": "code",
      "source": [
        "mat[3:]"
      ],
      "metadata": {
        "colab": {
          "base_uri": "https://localhost:8080/"
        },
        "id": "AgrRG4GDEIuH",
        "outputId": "1bfbeefb-f07e-4bf8-d2d3-5a714ca62337"
      },
      "execution_count": 44,
      "outputs": [
        {
          "output_type": "execute_result",
          "data": {
            "text/plain": [
              "array([[16, 17, 18, 19, 20],\n",
              "       [21, 22, 23, 24, 25]])"
            ]
          },
          "metadata": {},
          "execution_count": 44
        }
      ]
    },
    {
      "cell_type": "code",
      "source": [
        "mat[:,:].sum() # sum of whole values"
      ],
      "metadata": {
        "colab": {
          "base_uri": "https://localhost:8080/"
        },
        "id": "9HqTpd34EIrP",
        "outputId": "b7d9c266-bc11-408d-c901-4ddd62bc4250"
      },
      "execution_count": 45,
      "outputs": [
        {
          "output_type": "execute_result",
          "data": {
            "text/plain": [
              "325"
            ]
          },
          "metadata": {},
          "execution_count": 45
        }
      ]
    },
    {
      "cell_type": "code",
      "source": [
        "mat[:,:].std()# std of whole values"
      ],
      "metadata": {
        "colab": {
          "base_uri": "https://localhost:8080/"
        },
        "id": "RGvJl8e7EhTP",
        "outputId": "24f01066-0503-4f74-aa32-6ddc330dc845"
      },
      "execution_count": 46,
      "outputs": [
        {
          "output_type": "execute_result",
          "data": {
            "text/plain": [
              "7.211102550927978"
            ]
          },
          "metadata": {},
          "execution_count": 46
        }
      ]
    },
    {
      "cell_type": "code",
      "source": [
        "#sadece coloumn larin toplami?? [55,60,65,70,75]"
      ],
      "metadata": {
        "id": "h-IPVg2nFfkJ"
      },
      "execution_count": null,
      "outputs": []
    }
  ]
}