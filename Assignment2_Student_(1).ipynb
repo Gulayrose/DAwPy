{
  "cells": [
    {
      "cell_type": "markdown",
      "metadata": {
        "id": "view-in-github",
        "colab_type": "text"
      },
      "source": [
        "<a href=\"https://colab.research.google.com/github/Gulayrose/DAwPy/blob/main/Assignment2_Student_(1).ipynb\" target=\"_parent\"><img src=\"https://colab.research.google.com/assets/colab-badge.svg\" alt=\"Open In Colab\"/></a>"
      ]
    },
    {
      "cell_type": "markdown",
      "metadata": {
        "id": "j41f_mE4wmaC"
      },
      "source": [
        "___\n",
        "\n",
        "<p style=\"text-align: center;\"><img src=\"https://docs.google.com/uc?id=1lY0Uj5R04yMY3-ZppPWxqCr5pvBLYPnV\" class=\"img-fluid\" alt=\"Rossum\"></p>\n",
        "\n",
        "\n",
        "____\n"
      ]
    },
    {
      "cell_type": "code",
      "execution_count": null,
      "metadata": {
        "id": "jwiWsb_FwmaD"
      },
      "outputs": [],
      "source": [
        "import pandas as pd\n",
        "import numpy as np"
      ]
    },
    {
      "cell_type": "code",
      "execution_count": null,
      "metadata": {
        "id": "am0zj7yywmaD"
      },
      "outputs": [],
      "source": [
        "ecom = pd.read_csv('data.csv',encoding= 'unicode_escape')"
      ]
    },
    {
      "cell_type": "markdown",
      "metadata": {
        "id": "krGr_UNjwmaE"
      },
      "source": [
        "**Check the head of the DataFrame.**"
      ]
    },
    {
      "cell_type": "code",
      "execution_count": null,
      "metadata": {
        "id": "G39bgQn7wmaE",
        "outputId": "1efcf970-4ab6-4517-ff94-ce98b4613315"
      },
      "outputs": [
        {
          "data": {
            "text/html": [
              "<div>\n",
              "<style scoped>\n",
              "    .dataframe tbody tr th:only-of-type {\n",
              "        vertical-align: middle;\n",
              "    }\n",
              "\n",
              "    .dataframe tbody tr th {\n",
              "        vertical-align: top;\n",
              "    }\n",
              "\n",
              "    .dataframe thead th {\n",
              "        text-align: right;\n",
              "    }\n",
              "</style>\n",
              "<table border=\"1\" class=\"dataframe\">\n",
              "  <thead>\n",
              "    <tr style=\"text-align: right;\">\n",
              "      <th></th>\n",
              "      <th>InvoiceNo</th>\n",
              "      <th>StockCode</th>\n",
              "      <th>Description</th>\n",
              "      <th>Quantity</th>\n",
              "      <th>InvoiceDate</th>\n",
              "      <th>UnitPrice</th>\n",
              "      <th>CustomerID</th>\n",
              "      <th>Country</th>\n",
              "    </tr>\n",
              "  </thead>\n",
              "  <tbody>\n",
              "    <tr>\n",
              "      <th>0</th>\n",
              "      <td>536365</td>\n",
              "      <td>85123A</td>\n",
              "      <td>WHITE HANGING HEART T-LIGHT HOLDER</td>\n",
              "      <td>6</td>\n",
              "      <td>12/1/2010 8:26</td>\n",
              "      <td>2.55</td>\n",
              "      <td>17850.0</td>\n",
              "      <td>United Kingdom</td>\n",
              "    </tr>\n",
              "    <tr>\n",
              "      <th>1</th>\n",
              "      <td>536365</td>\n",
              "      <td>71053</td>\n",
              "      <td>WHITE METAL LANTERN</td>\n",
              "      <td>6</td>\n",
              "      <td>12/1/2010 8:26</td>\n",
              "      <td>3.39</td>\n",
              "      <td>17850.0</td>\n",
              "      <td>United Kingdom</td>\n",
              "    </tr>\n",
              "    <tr>\n",
              "      <th>2</th>\n",
              "      <td>536365</td>\n",
              "      <td>84406B</td>\n",
              "      <td>CREAM CUPID HEARTS COAT HANGER</td>\n",
              "      <td>8</td>\n",
              "      <td>12/1/2010 8:26</td>\n",
              "      <td>2.75</td>\n",
              "      <td>17850.0</td>\n",
              "      <td>United Kingdom</td>\n",
              "    </tr>\n",
              "    <tr>\n",
              "      <th>3</th>\n",
              "      <td>536365</td>\n",
              "      <td>84029G</td>\n",
              "      <td>KNITTED UNION FLAG HOT WATER BOTTLE</td>\n",
              "      <td>6</td>\n",
              "      <td>12/1/2010 8:26</td>\n",
              "      <td>3.39</td>\n",
              "      <td>17850.0</td>\n",
              "      <td>United Kingdom</td>\n",
              "    </tr>\n",
              "    <tr>\n",
              "      <th>4</th>\n",
              "      <td>536365</td>\n",
              "      <td>84029E</td>\n",
              "      <td>RED WOOLLY HOTTIE WHITE HEART.</td>\n",
              "      <td>6</td>\n",
              "      <td>12/1/2010 8:26</td>\n",
              "      <td>3.39</td>\n",
              "      <td>17850.0</td>\n",
              "      <td>United Kingdom</td>\n",
              "    </tr>\n",
              "  </tbody>\n",
              "</table>\n",
              "</div>"
            ],
            "text/plain": [
              "  InvoiceNo StockCode                          Description  Quantity  \\\n",
              "0    536365    85123A   WHITE HANGING HEART T-LIGHT HOLDER         6   \n",
              "1    536365     71053                  WHITE METAL LANTERN         6   \n",
              "2    536365    84406B       CREAM CUPID HEARTS COAT HANGER         8   \n",
              "3    536365    84029G  KNITTED UNION FLAG HOT WATER BOTTLE         6   \n",
              "4    536365    84029E       RED WOOLLY HOTTIE WHITE HEART.         6   \n",
              "\n",
              "      InvoiceDate  UnitPrice  CustomerID         Country  \n",
              "0  12/1/2010 8:26       2.55     17850.0  United Kingdom  \n",
              "1  12/1/2010 8:26       3.39     17850.0  United Kingdom  \n",
              "2  12/1/2010 8:26       2.75     17850.0  United Kingdom  \n",
              "3  12/1/2010 8:26       3.39     17850.0  United Kingdom  \n",
              "4  12/1/2010 8:26       3.39     17850.0  United Kingdom  "
            ]
          },
          "execution_count": 3,
          "metadata": {},
          "output_type": "execute_result"
        }
      ],
      "source": [
        "ecom.head()"
      ]
    },
    {
      "cell_type": "markdown",
      "metadata": {
        "id": "y7UpkcdkwmaE"
      },
      "source": [
        "** How many rows and columns are there? **"
      ]
    },
    {
      "cell_type": "code",
      "execution_count": null,
      "metadata": {
        "id": "FBbONY-IwmaF",
        "outputId": "6d54f76f-1bca-4591-cdc0-8c8e80b9df6e"
      },
      "outputs": [
        {
          "name": "stdout",
          "output_type": "stream",
          "text": [
            "<class 'pandas.core.frame.DataFrame'>\n",
            "RangeIndex: 541909 entries, 0 to 541908\n",
            "Data columns (total 8 columns):\n",
            " #   Column       Non-Null Count   Dtype  \n",
            "---  ------       --------------   -----  \n",
            " 0   InvoiceNo    541909 non-null  object \n",
            " 1   StockCode    541909 non-null  object \n",
            " 2   Description  540455 non-null  object \n",
            " 3   Quantity     541909 non-null  int64  \n",
            " 4   InvoiceDate  541909 non-null  object \n",
            " 5   UnitPrice    541909 non-null  float64\n",
            " 6   CustomerID   406829 non-null  float64\n",
            " 7   Country      541909 non-null  object \n",
            "dtypes: float64(2), int64(1), object(5)\n",
            "memory usage: 33.1+ MB\n"
          ]
        }
      ],
      "source": [
        "ecom.info()"
      ]
    },
    {
      "cell_type": "markdown",
      "metadata": {
        "id": "dnjk6seAwmaF"
      },
      "source": [
        "** Show the statistical measurements of ecom dataset **"
      ]
    },
    {
      "cell_type": "code",
      "execution_count": null,
      "metadata": {
        "id": "4Q1UeeQcwmaF",
        "outputId": "489662be-d83c-44dd-c0ea-696bb800b7ad"
      },
      "outputs": [
        {
          "data": {
            "text/html": [
              "<div>\n",
              "<style scoped>\n",
              "    .dataframe tbody tr th:only-of-type {\n",
              "        vertical-align: middle;\n",
              "    }\n",
              "\n",
              "    .dataframe tbody tr th {\n",
              "        vertical-align: top;\n",
              "    }\n",
              "\n",
              "    .dataframe thead th {\n",
              "        text-align: right;\n",
              "    }\n",
              "</style>\n",
              "<table border=\"1\" class=\"dataframe\">\n",
              "  <thead>\n",
              "    <tr style=\"text-align: right;\">\n",
              "      <th></th>\n",
              "      <th>count</th>\n",
              "      <th>mean</th>\n",
              "      <th>std</th>\n",
              "      <th>min</th>\n",
              "      <th>25%</th>\n",
              "      <th>50%</th>\n",
              "      <th>75%</th>\n",
              "      <th>max</th>\n",
              "    </tr>\n",
              "  </thead>\n",
              "  <tbody>\n",
              "    <tr>\n",
              "      <th>Quantity</th>\n",
              "      <td>541909.0</td>\n",
              "      <td>9.552250</td>\n",
              "      <td>218.081158</td>\n",
              "      <td>-80995.00</td>\n",
              "      <td>1.00</td>\n",
              "      <td>3.00</td>\n",
              "      <td>10.00</td>\n",
              "      <td>80995.0</td>\n",
              "    </tr>\n",
              "    <tr>\n",
              "      <th>UnitPrice</th>\n",
              "      <td>541909.0</td>\n",
              "      <td>4.611114</td>\n",
              "      <td>96.759853</td>\n",
              "      <td>-11062.06</td>\n",
              "      <td>1.25</td>\n",
              "      <td>2.08</td>\n",
              "      <td>4.13</td>\n",
              "      <td>38970.0</td>\n",
              "    </tr>\n",
              "    <tr>\n",
              "      <th>CustomerID</th>\n",
              "      <td>406829.0</td>\n",
              "      <td>15287.690570</td>\n",
              "      <td>1713.600303</td>\n",
              "      <td>12346.00</td>\n",
              "      <td>13953.00</td>\n",
              "      <td>15152.00</td>\n",
              "      <td>16791.00</td>\n",
              "      <td>18287.0</td>\n",
              "    </tr>\n",
              "  </tbody>\n",
              "</table>\n",
              "</div>"
            ],
            "text/plain": [
              "               count          mean          std       min       25%       50%  \\\n",
              "Quantity    541909.0      9.552250   218.081158 -80995.00      1.00      3.00   \n",
              "UnitPrice   541909.0      4.611114    96.759853 -11062.06      1.25      2.08   \n",
              "CustomerID  406829.0  15287.690570  1713.600303  12346.00  13953.00  15152.00   \n",
              "\n",
              "                 75%      max  \n",
              "Quantity       10.00  80995.0  \n",
              "UnitPrice       4.13  38970.0  \n",
              "CustomerID  16791.00  18287.0  "
            ]
          },
          "execution_count": 6,
          "metadata": {},
          "output_type": "execute_result"
        }
      ],
      "source": [
        "ecom.describe().T"
      ]
    },
    {
      "cell_type": "markdown",
      "metadata": {
        "id": "YKo2MFU8wmaF"
      },
      "source": [
        "** What is the average Purchase Price? **"
      ]
    },
    {
      "cell_type": "code",
      "execution_count": null,
      "metadata": {
        "id": "6IKKR6jJwmaG",
        "outputId": "233637ba-4c37-4375-bd93-6819c1f66ca2"
      },
      "outputs": [
        {
          "data": {
            "text/plain": [
              "4.611113626083471"
            ]
          },
          "execution_count": 7,
          "metadata": {},
          "output_type": "execute_result"
        }
      ],
      "source": [
        "ecom.UnitPrice.mean()"
      ]
    },
    {
      "cell_type": "markdown",
      "metadata": {
        "id": "m5Olr4iGwmaG"
      },
      "source": [
        "** What were the highest and lowest purchase prices? **\n"
      ]
    },
    {
      "cell_type": "code",
      "execution_count": null,
      "metadata": {
        "id": "XFWxKl7rwmaG",
        "outputId": "f65964f0-07b3-48a2-976f-32effc76ddc4"
      },
      "outputs": [
        {
          "data": {
            "text/plain": [
              "38970.0"
            ]
          },
          "execution_count": 8,
          "metadata": {},
          "output_type": "execute_result"
        }
      ],
      "source": [
        "ecom.UnitPrice.max()"
      ]
    },
    {
      "cell_type": "code",
      "execution_count": null,
      "metadata": {
        "id": "85918wy7wmaG",
        "outputId": "ef948901-8a28-4db4-ea7d-1216eb04b9cd"
      },
      "outputs": [
        {
          "data": {
            "text/plain": [
              "-11062.06"
            ]
          },
          "execution_count": 9,
          "metadata": {},
          "output_type": "execute_result"
        }
      ],
      "source": [
        "ecom.UnitPrice.min()"
      ]
    },
    {
      "cell_type": "markdown",
      "metadata": {
        "id": "qsuMRrV7wmaH"
      },
      "source": [
        "** List the country names and number of records belongs to each country **\n"
      ]
    },
    {
      "cell_type": "code",
      "execution_count": null,
      "metadata": {
        "id": "NrcXhtlMwmaH",
        "outputId": "06e0850d-d7f0-498b-92b2-77d784811b9c"
      },
      "outputs": [
        {
          "data": {
            "text/plain": [
              "United Kingdom          495478\n",
              "Germany                   9495\n",
              "France                    8557\n",
              "EIRE                      8196\n",
              "Spain                     2533\n",
              "Netherlands               2371\n",
              "Belgium                   2069\n",
              "Switzerland               2002\n",
              "Portugal                  1519\n",
              "Australia                 1259\n",
              "Norway                    1086\n",
              "Italy                      803\n",
              "Channel Islands            758\n",
              "Finland                    695\n",
              "Cyprus                     622\n",
              "Sweden                     462\n",
              "Unspecified                446\n",
              "Austria                    401\n",
              "Denmark                    389\n",
              "Japan                      358\n",
              "Poland                     341\n",
              "Israel                     297\n",
              "USA                        291\n",
              "Hong Kong                  288\n",
              "Singapore                  229\n",
              "Iceland                    182\n",
              "Canada                     151\n",
              "Greece                     146\n",
              "Malta                      127\n",
              "United Arab Emirates        68\n",
              "European Community          61\n",
              "RSA                         58\n",
              "Lebanon                     45\n",
              "Lithuania                   35\n",
              "Brazil                      32\n",
              "Czech Republic              30\n",
              "Bahrain                     19\n",
              "Saudi Arabia                10\n",
              "Name: Country, dtype: int64"
            ]
          },
          "execution_count": 10,
          "metadata": {},
          "output_type": "execute_result"
        }
      ],
      "source": [
        "ecom[\"Country\"].value_counts()"
      ]
    },
    {
      "cell_type": "markdown",
      "metadata": {
        "id": "9yKdicvlwmaH"
      },
      "source": [
        "** How many records are as Country United Kingdom? ** "
      ]
    },
    {
      "cell_type": "code",
      "execution_count": null,
      "metadata": {
        "id": "hsV5cB6bwmaH",
        "outputId": "9f0d0afc-f9c7-4121-e689-e7c1793fb770"
      },
      "outputs": [
        {
          "data": {
            "text/plain": [
              "InvoiceNo      495478\n",
              "StockCode      495478\n",
              "Description    494024\n",
              "Quantity       495478\n",
              "InvoiceDate    495478\n",
              "UnitPrice      495478\n",
              "CustomerID     361878\n",
              "Country        495478\n",
              "dtype: int64"
            ]
          },
          "execution_count": 11,
          "metadata": {},
          "output_type": "execute_result"
        }
      ],
      "source": [
        "ecom[ecom[\"Country\"] == \"United Kingdom\"].count()"
      ]
    },
    {
      "cell_type": "markdown",
      "metadata": {
        "id": "xgakOmKpwmaH"
      },
      "source": [
        "** Create a column named Total which shows the total amount of spend using UnitPrice and Quantity ? **\n"
      ]
    },
    {
      "cell_type": "code",
      "execution_count": null,
      "metadata": {
        "id": "Ohd59glXwmaI",
        "outputId": "e98ad4b3-80c7-43f7-b227-624e872f0590"
      },
      "outputs": [
        {
          "data": {
            "text/plain": [
              "0         15.30\n",
              "1         20.34\n",
              "2         22.00\n",
              "3         20.34\n",
              "4         20.34\n",
              "          ...  \n",
              "541904    10.20\n",
              "541905    12.60\n",
              "541906    16.60\n",
              "541907    16.60\n",
              "541908    14.85\n",
              "Name: Total, Length: 541909, dtype: float64"
            ]
          },
          "execution_count": 12,
          "metadata": {},
          "output_type": "execute_result"
        }
      ],
      "source": [
        "ecom[\"Total\"] = ecom[\"UnitPrice\"]*ecom[\"Quantity\"]\n",
        "ecom[\"Total\"]"
      ]
    },
    {
      "cell_type": "markdown",
      "metadata": {
        "id": "SznNImbWwmaI"
      },
      "source": [
        "** Show total spending amount according to the Countries **\n"
      ]
    },
    {
      "cell_type": "code",
      "execution_count": null,
      "metadata": {
        "scrolled": true,
        "id": "h198igMEwmaI",
        "outputId": "14d281ba-d15d-48ac-891b-a8abb2edc4f1"
      },
      "outputs": [
        {
          "data": {
            "text/plain": [
              "Country\n",
              "Australia                137077.270\n",
              "Austria                   10154.320\n",
              "Bahrain                     548.400\n",
              "Belgium                   40910.960\n",
              "Brazil                     1143.600\n",
              "Canada                     3666.380\n",
              "Channel Islands           20086.290\n",
              "Cyprus                    12946.290\n",
              "Czech Republic              707.720\n",
              "Denmark                   18768.140\n",
              "EIRE                     263276.820\n",
              "European Community         1291.750\n",
              "Finland                   22326.740\n",
              "France                   197403.900\n",
              "Germany                  221698.210\n",
              "Greece                     4710.520\n",
              "Hong Kong                 10117.040\n",
              "Iceland                    4310.000\n",
              "Israel                     7907.820\n",
              "Italy                     16890.510\n",
              "Japan                     35340.620\n",
              "Lebanon                    1693.880\n",
              "Lithuania                  1661.060\n",
              "Malta                      2505.470\n",
              "Netherlands              284661.540\n",
              "Norway                    35163.460\n",
              "Poland                     7213.140\n",
              "Portugal                  29367.020\n",
              "RSA                        1002.310\n",
              "Saudi Arabia                131.170\n",
              "Singapore                  9120.390\n",
              "Spain                     54774.580\n",
              "Sweden                    36595.910\n",
              "Switzerland               56385.350\n",
              "USA                        1730.920\n",
              "United Arab Emirates       1902.280\n",
              "United Kingdom          8187806.364\n",
              "Unspecified                4749.790\n",
              "Name: Total, dtype: float64"
            ]
          },
          "execution_count": 14,
          "metadata": {},
          "output_type": "execute_result"
        }
      ],
      "source": [
        "ecom.groupby(\"Country\")[\"Total\"].sum()\n",
        "# sonuç ile eşleşsin diye 1000'e mi bölelin"
      ]
    },
    {
      "cell_type": "markdown",
      "metadata": {
        "id": "ZubfQfb9wmaI"
      },
      "source": [
        "** Which Country spend least? ** "
      ]
    },
    {
      "cell_type": "code",
      "execution_count": null,
      "metadata": {
        "id": "R46M6JDvwmaJ",
        "outputId": "4ea5200d-e324-45d7-bc6c-856df53270b9"
      },
      "outputs": [
        {
          "data": {
            "text/plain": [
              "Country\n",
              "Saudi Arabia                131.170\n",
              "Bahrain                     548.400\n",
              "Czech Republic              707.720\n",
              "RSA                        1002.310\n",
              "Brazil                     1143.600\n",
              "European Community         1291.750\n",
              "Lithuania                  1661.060\n",
              "Lebanon                    1693.880\n",
              "USA                        1730.920\n",
              "United Arab Emirates       1902.280\n",
              "Malta                      2505.470\n",
              "Canada                     3666.380\n",
              "Iceland                    4310.000\n",
              "Greece                     4710.520\n",
              "Unspecified                4749.790\n",
              "Poland                     7213.140\n",
              "Israel                     7907.820\n",
              "Singapore                  9120.390\n",
              "Hong Kong                 10117.040\n",
              "Austria                   10154.320\n",
              "Cyprus                    12946.290\n",
              "Italy                     16890.510\n",
              "Denmark                   18768.140\n",
              "Channel Islands           20086.290\n",
              "Finland                   22326.740\n",
              "Portugal                  29367.020\n",
              "Norway                    35163.460\n",
              "Japan                     35340.620\n",
              "Sweden                    36595.910\n",
              "Belgium                   40910.960\n",
              "Spain                     54774.580\n",
              "Switzerland               56385.350\n",
              "Australia                137077.270\n",
              "France                   197403.900\n",
              "Germany                  221698.210\n",
              "EIRE                     263276.820\n",
              "Netherlands              284661.540\n",
              "United Kingdom          8187806.364\n",
              "Name: Total, dtype: float64"
            ]
          },
          "execution_count": 15,
          "metadata": {},
          "output_type": "execute_result"
        }
      ],
      "source": [
        "ecom.groupby(\"Country\")[\"Total\"].sum().sort_values()"
      ]
    },
    {
      "cell_type": "code",
      "execution_count": null,
      "metadata": {
        "id": "IMCJTtQqwmaJ",
        "outputId": "2953c40c-1897-4efd-a592-c624d363417b"
      },
      "outputs": [
        {
          "data": {
            "text/plain": [
              "Country\n",
              "Saudi Arabia    131.17\n",
              "Name: Total, dtype: float64"
            ]
          },
          "execution_count": 24,
          "metadata": {},
          "output_type": "execute_result"
        }
      ],
      "source": [
        "# ecom.groupby(\"Country\")[\"Total\"].sum().sort_values()[:1]\n",
        "total_list = ecom.groupby(\"Country\")['Total'].sum() # 2'nci yöntem\n",
        "total_list.iloc[[total_list.argmin()]]"
      ]
    },
    {
      "cell_type": "markdown",
      "metadata": {
        "id": "c2DW1-GawmaJ"
      },
      "source": [
        "** Calculate average of spending according to country with apply function? **\n"
      ]
    },
    {
      "cell_type": "code",
      "execution_count": null,
      "metadata": {
        "id": "R1gunKtOwmaJ",
        "outputId": "3121888d-8652-44ec-f247-3458e6198c62"
      },
      "outputs": [
        {
          "data": {
            "text/plain": [
              "Country\n",
              "Australia               108.877895\n",
              "Austria                  25.322494\n",
              "Bahrain                  28.863158\n",
              "Belgium                  19.773301\n",
              "Brazil                   35.737500\n",
              "Canada                   24.280662\n",
              "Channel Islands          26.499063\n",
              "Cyprus                   20.813971\n",
              "Czech Republic           23.590667\n",
              "Denmark                  48.247147\n",
              "EIRE                     32.122599\n",
              "European Community       21.176230\n",
              "Finland                  32.124806\n",
              "France                   23.069288\n",
              "Germany                  23.348943\n",
              "Greece                   32.263836\n",
              "Hong Kong                35.128611\n",
              "Iceland                  23.681319\n",
              "Israel                   26.625657\n",
              "Italy                    21.034259\n",
              "Japan                    98.716816\n",
              "Lebanon                  37.641778\n",
              "Lithuania                47.458857\n",
              "Malta                    19.728110\n",
              "Netherlands             120.059696\n",
              "Norway                   32.378877\n",
              "Poland                   21.152903\n",
              "Portugal                 19.333127\n",
              "RSA                      17.281207\n",
              "Saudi Arabia             13.117000\n",
              "Singapore                39.827031\n",
              "Spain                    21.624390\n",
              "Sweden                   79.211926\n",
              "Switzerland              28.164510\n",
              "USA                       5.948179\n",
              "United Arab Emirates     27.974706\n",
              "United Kingdom           16.525065\n",
              "Unspecified              10.649753\n",
              "Name: Total, dtype: float64"
            ]
          },
          "execution_count": 31,
          "metadata": {},
          "output_type": "execute_result"
        }
      ],
      "source": [
        "ecom.groupby(\"Country\")[\"Total\"].apply(np.mean)\n",
        "# ecom.groupby('Country')['Total'].apply(lambda x : x.mean())"
      ]
    },
    {
      "cell_type": "markdown",
      "metadata": {
        "id": "Eads3J2lwmaJ"
      },
      "source": [
        "** Calculate average,min,max of spending according to country with agg function? **\n"
      ]
    },
    {
      "cell_type": "code",
      "execution_count": null,
      "metadata": {
        "id": "Iuv-YUaIwmaK",
        "outputId": "769f41f5-37e6-4acc-8f55-bfe72cd5b418"
      },
      "outputs": [
        {
          "data": {
            "text/html": [
              "<div>\n",
              "<style scoped>\n",
              "    .dataframe tbody tr th:only-of-type {\n",
              "        vertical-align: middle;\n",
              "    }\n",
              "\n",
              "    .dataframe tbody tr th {\n",
              "        vertical-align: top;\n",
              "    }\n",
              "\n",
              "    .dataframe thead th {\n",
              "        text-align: right;\n",
              "    }\n",
              "</style>\n",
              "<table border=\"1\" class=\"dataframe\">\n",
              "  <thead>\n",
              "    <tr style=\"text-align: right;\">\n",
              "      <th></th>\n",
              "      <th>mean</th>\n",
              "      <th>min</th>\n",
              "      <th>max</th>\n",
              "    </tr>\n",
              "    <tr>\n",
              "      <th>Country</th>\n",
              "      <th></th>\n",
              "      <th></th>\n",
              "      <th></th>\n",
              "    </tr>\n",
              "  </thead>\n",
              "  <tbody>\n",
              "    <tr>\n",
              "      <th>Australia</th>\n",
              "      <td>108.877895</td>\n",
              "      <td>-425.00</td>\n",
              "      <td>1718.40</td>\n",
              "    </tr>\n",
              "    <tr>\n",
              "      <th>Austria</th>\n",
              "      <td>25.322494</td>\n",
              "      <td>-21.25</td>\n",
              "      <td>360.00</td>\n",
              "    </tr>\n",
              "    <tr>\n",
              "      <th>Bahrain</th>\n",
              "      <td>28.863158</td>\n",
              "      <td>-205.74</td>\n",
              "      <td>205.74</td>\n",
              "    </tr>\n",
              "    <tr>\n",
              "      <th>Belgium</th>\n",
              "      <td>19.773301</td>\n",
              "      <td>-19.95</td>\n",
              "      <td>165.00</td>\n",
              "    </tr>\n",
              "    <tr>\n",
              "      <th>Brazil</th>\n",
              "      <td>35.737500</td>\n",
              "      <td>15.00</td>\n",
              "      <td>175.20</td>\n",
              "    </tr>\n",
              "    <tr>\n",
              "      <th>Canada</th>\n",
              "      <td>24.280662</td>\n",
              "      <td>2.50</td>\n",
              "      <td>550.94</td>\n",
              "    </tr>\n",
              "    <tr>\n",
              "      <th>Channel Islands</th>\n",
              "      <td>26.499063</td>\n",
              "      <td>-293.00</td>\n",
              "      <td>408.00</td>\n",
              "    </tr>\n",
              "    <tr>\n",
              "      <th>Cyprus</th>\n",
              "      <td>20.813971</td>\n",
              "      <td>-320.69</td>\n",
              "      <td>320.69</td>\n",
              "    </tr>\n",
              "    <tr>\n",
              "      <th>Czech Republic</th>\n",
              "      <td>23.590667</td>\n",
              "      <td>-35.76</td>\n",
              "      <td>70.80</td>\n",
              "    </tr>\n",
              "    <tr>\n",
              "      <th>Denmark</th>\n",
              "      <td>48.247147</td>\n",
              "      <td>-59.80</td>\n",
              "      <td>428.40</td>\n",
              "    </tr>\n",
              "    <tr>\n",
              "      <th>EIRE</th>\n",
              "      <td>32.122599</td>\n",
              "      <td>-1917.00</td>\n",
              "      <td>2365.20</td>\n",
              "    </tr>\n",
              "    <tr>\n",
              "      <th>European Community</th>\n",
              "      <td>21.176230</td>\n",
              "      <td>-8.50</td>\n",
              "      <td>60.00</td>\n",
              "    </tr>\n",
              "    <tr>\n",
              "      <th>Finland</th>\n",
              "      <td>32.124806</td>\n",
              "      <td>-80.00</td>\n",
              "      <td>551.20</td>\n",
              "    </tr>\n",
              "    <tr>\n",
              "      <th>France</th>\n",
              "      <td>23.069288</td>\n",
              "      <td>-8322.12</td>\n",
              "      <td>4161.06</td>\n",
              "    </tr>\n",
              "    <tr>\n",
              "      <th>Germany</th>\n",
              "      <td>23.348943</td>\n",
              "      <td>-599.50</td>\n",
              "      <td>876.00</td>\n",
              "    </tr>\n",
              "    <tr>\n",
              "      <th>Greece</th>\n",
              "      <td>32.263836</td>\n",
              "      <td>-50.00</td>\n",
              "      <td>175.20</td>\n",
              "    </tr>\n",
              "    <tr>\n",
              "      <th>Hong Kong</th>\n",
              "      <td>35.128611</td>\n",
              "      <td>-2653.95</td>\n",
              "      <td>2653.95</td>\n",
              "    </tr>\n",
              "    <tr>\n",
              "      <th>Iceland</th>\n",
              "      <td>23.681319</td>\n",
              "      <td>5.04</td>\n",
              "      <td>249.60</td>\n",
              "    </tr>\n",
              "    <tr>\n",
              "      <th>Israel</th>\n",
              "      <td>26.625657</td>\n",
              "      <td>-136.00</td>\n",
              "      <td>350.40</td>\n",
              "    </tr>\n",
              "    <tr>\n",
              "      <th>Italy</th>\n",
              "      <td>21.034259</td>\n",
              "      <td>-89.55</td>\n",
              "      <td>300.00</td>\n",
              "    </tr>\n",
              "    <tr>\n",
              "      <th>Japan</th>\n",
              "      <td>98.716816</td>\n",
              "      <td>-1591.20</td>\n",
              "      <td>3794.40</td>\n",
              "    </tr>\n",
              "    <tr>\n",
              "      <th>Lebanon</th>\n",
              "      <td>37.641778</td>\n",
              "      <td>10.20</td>\n",
              "      <td>153.00</td>\n",
              "    </tr>\n",
              "    <tr>\n",
              "      <th>Lithuania</th>\n",
              "      <td>47.458857</td>\n",
              "      <td>13.20</td>\n",
              "      <td>122.40</td>\n",
              "    </tr>\n",
              "    <tr>\n",
              "      <th>Malta</th>\n",
              "      <td>19.728110</td>\n",
              "      <td>-130.00</td>\n",
              "      <td>455.00</td>\n",
              "    </tr>\n",
              "    <tr>\n",
              "      <th>Netherlands</th>\n",
              "      <td>120.059696</td>\n",
              "      <td>-266.40</td>\n",
              "      <td>4992.00</td>\n",
              "    </tr>\n",
              "    <tr>\n",
              "      <th>Norway</th>\n",
              "      <td>32.378877</td>\n",
              "      <td>-376.50</td>\n",
              "      <td>700.00</td>\n",
              "    </tr>\n",
              "    <tr>\n",
              "      <th>Poland</th>\n",
              "      <td>21.152903</td>\n",
              "      <td>-39.80</td>\n",
              "      <td>120.00</td>\n",
              "    </tr>\n",
              "    <tr>\n",
              "      <th>Portugal</th>\n",
              "      <td>19.333127</td>\n",
              "      <td>-1241.98</td>\n",
              "      <td>1241.98</td>\n",
              "    </tr>\n",
              "    <tr>\n",
              "      <th>RSA</th>\n",
              "      <td>17.281207</td>\n",
              "      <td>0.00</td>\n",
              "      <td>38.25</td>\n",
              "    </tr>\n",
              "    <tr>\n",
              "      <th>Saudi Arabia</th>\n",
              "      <td>13.117000</td>\n",
              "      <td>-14.75</td>\n",
              "      <td>19.80</td>\n",
              "    </tr>\n",
              "    <tr>\n",
              "      <th>Singapore</th>\n",
              "      <td>39.827031</td>\n",
              "      <td>-3949.32</td>\n",
              "      <td>3949.32</td>\n",
              "    </tr>\n",
              "    <tr>\n",
              "      <th>Spain</th>\n",
              "      <td>21.624390</td>\n",
              "      <td>-1715.85</td>\n",
              "      <td>1350.00</td>\n",
              "    </tr>\n",
              "    <tr>\n",
              "      <th>Sweden</th>\n",
              "      <td>79.211926</td>\n",
              "      <td>-1188.00</td>\n",
              "      <td>1188.00</td>\n",
              "    </tr>\n",
              "    <tr>\n",
              "      <th>Switzerland</th>\n",
              "      <td>28.164510</td>\n",
              "      <td>-179.00</td>\n",
              "      <td>360.00</td>\n",
              "    </tr>\n",
              "    <tr>\n",
              "      <th>USA</th>\n",
              "      <td>5.948179</td>\n",
              "      <td>-74.88</td>\n",
              "      <td>81.36</td>\n",
              "    </tr>\n",
              "    <tr>\n",
              "      <th>United Arab Emirates</th>\n",
              "      <td>27.974706</td>\n",
              "      <td>3.48</td>\n",
              "      <td>153.00</td>\n",
              "    </tr>\n",
              "    <tr>\n",
              "      <th>United Kingdom</th>\n",
              "      <td>16.525065</td>\n",
              "      <td>-168469.60</td>\n",
              "      <td>168469.60</td>\n",
              "    </tr>\n",
              "    <tr>\n",
              "      <th>Unspecified</th>\n",
              "      <td>10.649753</td>\n",
              "      <td>0.19</td>\n",
              "      <td>69.36</td>\n",
              "    </tr>\n",
              "  </tbody>\n",
              "</table>\n",
              "</div>"
            ],
            "text/plain": [
              "                            mean        min        max\n",
              "Country                                               \n",
              "Australia             108.877895    -425.00    1718.40\n",
              "Austria                25.322494     -21.25     360.00\n",
              "Bahrain                28.863158    -205.74     205.74\n",
              "Belgium                19.773301     -19.95     165.00\n",
              "Brazil                 35.737500      15.00     175.20\n",
              "Canada                 24.280662       2.50     550.94\n",
              "Channel Islands        26.499063    -293.00     408.00\n",
              "Cyprus                 20.813971    -320.69     320.69\n",
              "Czech Republic         23.590667     -35.76      70.80\n",
              "Denmark                48.247147     -59.80     428.40\n",
              "EIRE                   32.122599   -1917.00    2365.20\n",
              "European Community     21.176230      -8.50      60.00\n",
              "Finland                32.124806     -80.00     551.20\n",
              "France                 23.069288   -8322.12    4161.06\n",
              "Germany                23.348943    -599.50     876.00\n",
              "Greece                 32.263836     -50.00     175.20\n",
              "Hong Kong              35.128611   -2653.95    2653.95\n",
              "Iceland                23.681319       5.04     249.60\n",
              "Israel                 26.625657    -136.00     350.40\n",
              "Italy                  21.034259     -89.55     300.00\n",
              "Japan                  98.716816   -1591.20    3794.40\n",
              "Lebanon                37.641778      10.20     153.00\n",
              "Lithuania              47.458857      13.20     122.40\n",
              "Malta                  19.728110    -130.00     455.00\n",
              "Netherlands           120.059696    -266.40    4992.00\n",
              "Norway                 32.378877    -376.50     700.00\n",
              "Poland                 21.152903     -39.80     120.00\n",
              "Portugal               19.333127   -1241.98    1241.98\n",
              "RSA                    17.281207       0.00      38.25\n",
              "Saudi Arabia           13.117000     -14.75      19.80\n",
              "Singapore              39.827031   -3949.32    3949.32\n",
              "Spain                  21.624390   -1715.85    1350.00\n",
              "Sweden                 79.211926   -1188.00    1188.00\n",
              "Switzerland            28.164510    -179.00     360.00\n",
              "USA                     5.948179     -74.88      81.36\n",
              "United Arab Emirates   27.974706       3.48     153.00\n",
              "United Kingdom         16.525065 -168469.60  168469.60\n",
              "Unspecified            10.649753       0.19      69.36"
            ]
          },
          "execution_count": 29,
          "metadata": {},
          "output_type": "execute_result"
        }
      ],
      "source": [
        "# ecom.groupby(\"Country\")[\"Total\"].agg({\"mean\", \"min\", \"max\"})\n",
        "ecom.groupby(\"Country\")[\"Total\"].agg([\"mean\", \"min\", \"max\"])"
      ]
    },
    {
      "cell_type": "markdown",
      "metadata": {
        "id": "MYkKEd2LwmaM"
      },
      "source": [
        "** What is the max Total spending in whole dataset and show the records of that spending ?**\n"
      ]
    },
    {
      "cell_type": "code",
      "execution_count": null,
      "metadata": {
        "id": "wS1M9t0NwmaM",
        "outputId": "e2102d2a-300c-4947-d6dc-d2584a880abf"
      },
      "outputs": [
        {
          "data": {
            "text/html": [
              "<div>\n",
              "<style scoped>\n",
              "    .dataframe tbody tr th:only-of-type {\n",
              "        vertical-align: middle;\n",
              "    }\n",
              "\n",
              "    .dataframe tbody tr th {\n",
              "        vertical-align: top;\n",
              "    }\n",
              "\n",
              "    .dataframe thead th {\n",
              "        text-align: right;\n",
              "    }\n",
              "</style>\n",
              "<table border=\"1\" class=\"dataframe\">\n",
              "  <thead>\n",
              "    <tr style=\"text-align: right;\">\n",
              "      <th></th>\n",
              "      <th>InvoiceNo</th>\n",
              "      <th>StockCode</th>\n",
              "      <th>Description</th>\n",
              "      <th>Quantity</th>\n",
              "      <th>InvoiceDate</th>\n",
              "      <th>UnitPrice</th>\n",
              "      <th>CustomerID</th>\n",
              "      <th>Country</th>\n",
              "      <th>Total</th>\n",
              "    </tr>\n",
              "  </thead>\n",
              "  <tbody>\n",
              "    <tr>\n",
              "      <th>540421</th>\n",
              "      <td>581483</td>\n",
              "      <td>23843</td>\n",
              "      <td>PAPER CRAFT , LITTLE BIRDIE</td>\n",
              "      <td>80995</td>\n",
              "      <td>12/9/2011 9:15</td>\n",
              "      <td>2.08</td>\n",
              "      <td>16446.0</td>\n",
              "      <td>United Kingdom</td>\n",
              "      <td>168469.6</td>\n",
              "    </tr>\n",
              "  </tbody>\n",
              "</table>\n",
              "</div>"
            ],
            "text/plain": [
              "       InvoiceNo StockCode                  Description  Quantity  \\\n",
              "540421    581483     23843  PAPER CRAFT , LITTLE BIRDIE     80995   \n",
              "\n",
              "           InvoiceDate  UnitPrice  CustomerID         Country     Total  \n",
              "540421  12/9/2011 9:15       2.08     16446.0  United Kingdom  168469.6  "
            ]
          },
          "execution_count": 41,
          "metadata": {},
          "output_type": "execute_result"
        }
      ],
      "source": [
        "ecom.sort_values(\"Total\",ascending=False).head(1)\n",
        "# ecom.iloc[[ecom.Total.idxmax()]]\n",
        "# ecom[ecom[\"Total\"]==ecom[\"Total\"].max()]\n",
        "# ecom.iloc[ecom.Total.argmax()]"
      ]
    },
    {
      "cell_type": "markdown",
      "metadata": {
        "id": "9L619mmfwmaM"
      },
      "source": [
        "** How many people who live in Spain spend more than average Total ?**\n"
      ]
    },
    {
      "cell_type": "code",
      "execution_count": null,
      "metadata": {
        "scrolled": true,
        "id": "60SXiAVkwmaM",
        "outputId": "f7cd5c7c-ba7a-4532-930a-2362d890dc83"
      },
      "outputs": [
        {
          "data": {
            "text/plain": [
              "InvoiceNo      728\n",
              "StockCode      728\n",
              "Description    728\n",
              "Quantity       728\n",
              "InvoiceDate    728\n",
              "UnitPrice      728\n",
              "CustomerID     728\n",
              "Country        728\n",
              "Total          728\n",
              "dtype: int64"
            ]
          },
          "execution_count": 47,
          "metadata": {},
          "output_type": "execute_result"
        }
      ],
      "source": [
        "ecom[(ecom[\"Total\"] > ecom[\"Total\"].mean()) & (ecom[\"Country\"] == \"Spain\")].count()\n",
        "# ecom[(ecom[\"Country\"]==\"Spain\") & (ecom[\"Total\"] > ecom[\"Total\"].mean())].count()\n",
        "# new_list = ecom.loc[((ecom[\"Country\"]==\"Spain\") & (ecom.Total > ecom.Total.mean()))]\n",
        "# new_list.count()\n",
        "# ecom[ecom[\"Country\"]==\"Spain\"].loc[ecom[\"Total\"]>ecom[\"Total\"].mean()].count()"
      ]
    },
    {
      "cell_type": "markdown",
      "metadata": {
        "id": "LZg3f42OwmaN"
      },
      "source": [
        "** Convert datatype of InvoiceDate to datetime and assign it to new column name InvoiceDate2**\n"
      ]
    },
    {
      "cell_type": "code",
      "execution_count": null,
      "metadata": {
        "id": "Gxq9Dv7NwmaN",
        "outputId": "71f10578-f351-42c7-cfab-48cfc1e3ba16"
      },
      "outputs": [
        {
          "data": {
            "text/plain": [
              "0        2010-12-01 08:26:00\n",
              "1        2010-12-01 08:26:00\n",
              "2        2010-12-01 08:26:00\n",
              "3        2010-12-01 08:26:00\n",
              "4        2010-12-01 08:26:00\n",
              "                 ...        \n",
              "541904   2011-12-09 12:50:00\n",
              "541905   2011-12-09 12:50:00\n",
              "541906   2011-12-09 12:50:00\n",
              "541907   2011-12-09 12:50:00\n",
              "541908   2011-12-09 12:50:00\n",
              "Name: InvoiceDate2, Length: 541909, dtype: datetime64[ns]"
            ]
          },
          "execution_count": 48,
          "metadata": {},
          "output_type": "execute_result"
        }
      ],
      "source": [
        "ecom['InvoiceDate2']=pd.to_datetime(ecom.InvoiceDate)\n",
        "ecom['InvoiceDate2']"
      ]
    },
    {
      "cell_type": "markdown",
      "metadata": {
        "id": "djXWplyMwmaN"
      },
      "source": [
        "** Take only date values (year-month-day) from InvoiceDate2 and assign it to a new column named date **\n"
      ]
    },
    {
      "cell_type": "code",
      "execution_count": null,
      "metadata": {
        "id": "sHJMP-nLwmaN",
        "outputId": "e258fd16-4f73-4718-fb86-7b357728f225"
      },
      "outputs": [
        {
          "data": {
            "text/plain": [
              "0        2010-12-01\n",
              "1        2010-12-01\n",
              "2        2010-12-01\n",
              "3        2010-12-01\n",
              "4        2010-12-01\n",
              "            ...    \n",
              "541904   2011-12-09\n",
              "541905   2011-12-09\n",
              "541906   2011-12-09\n",
              "541907   2011-12-09\n",
              "541908   2011-12-09\n",
              "Name: Date, Length: 541909, dtype: datetime64[ns]"
            ]
          },
          "execution_count": 49,
          "metadata": {},
          "output_type": "execute_result"
        }
      ],
      "source": [
        "ecom[\"Date\"] = pd.to_datetime(ecom.InvoiceDate2.dt.date)\n",
        "ecom[\"Date\"]"
      ]
    },
    {
      "cell_type": "markdown",
      "metadata": {
        "id": "L8dFkgNPwmaN"
      },
      "source": [
        "** drop InvoiceDate2 and InvoiceDate columns permanently **\n"
      ]
    },
    {
      "cell_type": "code",
      "execution_count": null,
      "metadata": {
        "id": "BRvkrYCRwmaO",
        "outputId": "6ebcfb67-2747-4862-8584-43a700b7d69f"
      },
      "outputs": [
        {
          "data": {
            "text/html": [
              "<div>\n",
              "<style scoped>\n",
              "    .dataframe tbody tr th:only-of-type {\n",
              "        vertical-align: middle;\n",
              "    }\n",
              "\n",
              "    .dataframe tbody tr th {\n",
              "        vertical-align: top;\n",
              "    }\n",
              "\n",
              "    .dataframe thead th {\n",
              "        text-align: right;\n",
              "    }\n",
              "</style>\n",
              "<table border=\"1\" class=\"dataframe\">\n",
              "  <thead>\n",
              "    <tr style=\"text-align: right;\">\n",
              "      <th></th>\n",
              "      <th>InvoiceNo</th>\n",
              "      <th>StockCode</th>\n",
              "      <th>Description</th>\n",
              "      <th>Quantity</th>\n",
              "      <th>UnitPrice</th>\n",
              "      <th>CustomerID</th>\n",
              "      <th>Country</th>\n",
              "      <th>Total</th>\n",
              "      <th>Date</th>\n",
              "    </tr>\n",
              "  </thead>\n",
              "  <tbody>\n",
              "    <tr>\n",
              "      <th>0</th>\n",
              "      <td>536365</td>\n",
              "      <td>85123A</td>\n",
              "      <td>WHITE HANGING HEART T-LIGHT HOLDER</td>\n",
              "      <td>6</td>\n",
              "      <td>2.55</td>\n",
              "      <td>17850.0</td>\n",
              "      <td>United Kingdom</td>\n",
              "      <td>15.30</td>\n",
              "      <td>2010-12-01</td>\n",
              "    </tr>\n",
              "    <tr>\n",
              "      <th>1</th>\n",
              "      <td>536365</td>\n",
              "      <td>71053</td>\n",
              "      <td>WHITE METAL LANTERN</td>\n",
              "      <td>6</td>\n",
              "      <td>3.39</td>\n",
              "      <td>17850.0</td>\n",
              "      <td>United Kingdom</td>\n",
              "      <td>20.34</td>\n",
              "      <td>2010-12-01</td>\n",
              "    </tr>\n",
              "    <tr>\n",
              "      <th>2</th>\n",
              "      <td>536365</td>\n",
              "      <td>84406B</td>\n",
              "      <td>CREAM CUPID HEARTS COAT HANGER</td>\n",
              "      <td>8</td>\n",
              "      <td>2.75</td>\n",
              "      <td>17850.0</td>\n",
              "      <td>United Kingdom</td>\n",
              "      <td>22.00</td>\n",
              "      <td>2010-12-01</td>\n",
              "    </tr>\n",
              "    <tr>\n",
              "      <th>3</th>\n",
              "      <td>536365</td>\n",
              "      <td>84029G</td>\n",
              "      <td>KNITTED UNION FLAG HOT WATER BOTTLE</td>\n",
              "      <td>6</td>\n",
              "      <td>3.39</td>\n",
              "      <td>17850.0</td>\n",
              "      <td>United Kingdom</td>\n",
              "      <td>20.34</td>\n",
              "      <td>2010-12-01</td>\n",
              "    </tr>\n",
              "    <tr>\n",
              "      <th>4</th>\n",
              "      <td>536365</td>\n",
              "      <td>84029E</td>\n",
              "      <td>RED WOOLLY HOTTIE WHITE HEART.</td>\n",
              "      <td>6</td>\n",
              "      <td>3.39</td>\n",
              "      <td>17850.0</td>\n",
              "      <td>United Kingdom</td>\n",
              "      <td>20.34</td>\n",
              "      <td>2010-12-01</td>\n",
              "    </tr>\n",
              "  </tbody>\n",
              "</table>\n",
              "</div>"
            ],
            "text/plain": [
              "  InvoiceNo StockCode                          Description  Quantity  \\\n",
              "0    536365    85123A   WHITE HANGING HEART T-LIGHT HOLDER         6   \n",
              "1    536365     71053                  WHITE METAL LANTERN         6   \n",
              "2    536365    84406B       CREAM CUPID HEARTS COAT HANGER         8   \n",
              "3    536365    84029G  KNITTED UNION FLAG HOT WATER BOTTLE         6   \n",
              "4    536365    84029E       RED WOOLLY HOTTIE WHITE HEART.         6   \n",
              "\n",
              "   UnitPrice  CustomerID         Country  Total       Date  \n",
              "0       2.55     17850.0  United Kingdom  15.30 2010-12-01  \n",
              "1       3.39     17850.0  United Kingdom  20.34 2010-12-01  \n",
              "2       2.75     17850.0  United Kingdom  22.00 2010-12-01  \n",
              "3       3.39     17850.0  United Kingdom  20.34 2010-12-01  \n",
              "4       3.39     17850.0  United Kingdom  20.34 2010-12-01  "
            ]
          },
          "execution_count": 50,
          "metadata": {},
          "output_type": "execute_result"
        }
      ],
      "source": [
        "ecom.drop([\"InvoiceDate\",\"InvoiceDate2\"], axis=1, inplace=True)\n",
        "ecom.head()"
      ]
    },
    {
      "cell_type": "markdown",
      "metadata": {
        "id": "GV20hvHDwmaO"
      },
      "source": [
        "** Remove A, B, G and E from StockCode in first 5 rows of ecom dataframe with a string method **\n"
      ]
    },
    {
      "cell_type": "code",
      "execution_count": null,
      "metadata": {
        "id": "k2m2VtuiwmaO",
        "outputId": "faadb989-1df6-4f43-877c-b08f534efc56"
      },
      "outputs": [
        {
          "data": {
            "text/plain": [
              "0    85123\n",
              "1    71053\n",
              "2    84406\n",
              "3    84029\n",
              "4    84029\n",
              "Name: StockCode, dtype: object"
            ]
          },
          "execution_count": 53,
          "metadata": {},
          "output_type": "execute_result"
        }
      ],
      "source": [
        "ecom.StockCode[:5].str.replace('A','').str.replace('B','').str.replace('G','').str.replace('E','')\n",
        "# ecom[\"StockCode\"]=ecom[\"StockCode\"].str.extract('(\\d{0,9})')\n",
        "# ecom[\"StockCode\"].head()"
      ]
    },
    {
      "cell_type": "markdown",
      "metadata": {
        "id": "Cjp_LBHSwmaO"
      },
      "source": [
        "** take only Total and date columns with loc and craete a new df named ecom2 **\n"
      ]
    },
    {
      "cell_type": "code",
      "execution_count": null,
      "metadata": {
        "id": "9rjf5eyvwmaO",
        "outputId": "79c0830c-33c2-4137-90ff-80310421c516"
      },
      "outputs": [
        {
          "data": {
            "text/html": [
              "<div>\n",
              "<style scoped>\n",
              "    .dataframe tbody tr th:only-of-type {\n",
              "        vertical-align: middle;\n",
              "    }\n",
              "\n",
              "    .dataframe tbody tr th {\n",
              "        vertical-align: top;\n",
              "    }\n",
              "\n",
              "    .dataframe thead th {\n",
              "        text-align: right;\n",
              "    }\n",
              "</style>\n",
              "<table border=\"1\" class=\"dataframe\">\n",
              "  <thead>\n",
              "    <tr style=\"text-align: right;\">\n",
              "      <th></th>\n",
              "      <th>Total</th>\n",
              "      <th>Date</th>\n",
              "    </tr>\n",
              "  </thead>\n",
              "  <tbody>\n",
              "    <tr>\n",
              "      <th>0</th>\n",
              "      <td>15.30</td>\n",
              "      <td>2010-12-01</td>\n",
              "    </tr>\n",
              "    <tr>\n",
              "      <th>1</th>\n",
              "      <td>20.34</td>\n",
              "      <td>2010-12-01</td>\n",
              "    </tr>\n",
              "    <tr>\n",
              "      <th>2</th>\n",
              "      <td>22.00</td>\n",
              "      <td>2010-12-01</td>\n",
              "    </tr>\n",
              "    <tr>\n",
              "      <th>3</th>\n",
              "      <td>20.34</td>\n",
              "      <td>2010-12-01</td>\n",
              "    </tr>\n",
              "    <tr>\n",
              "      <th>4</th>\n",
              "      <td>20.34</td>\n",
              "      <td>2010-12-01</td>\n",
              "    </tr>\n",
              "    <tr>\n",
              "      <th>...</th>\n",
              "      <td>...</td>\n",
              "      <td>...</td>\n",
              "    </tr>\n",
              "    <tr>\n",
              "      <th>541904</th>\n",
              "      <td>10.20</td>\n",
              "      <td>2011-12-09</td>\n",
              "    </tr>\n",
              "    <tr>\n",
              "      <th>541905</th>\n",
              "      <td>12.60</td>\n",
              "      <td>2011-12-09</td>\n",
              "    </tr>\n",
              "    <tr>\n",
              "      <th>541906</th>\n",
              "      <td>16.60</td>\n",
              "      <td>2011-12-09</td>\n",
              "    </tr>\n",
              "    <tr>\n",
              "      <th>541907</th>\n",
              "      <td>16.60</td>\n",
              "      <td>2011-12-09</td>\n",
              "    </tr>\n",
              "    <tr>\n",
              "      <th>541908</th>\n",
              "      <td>14.85</td>\n",
              "      <td>2011-12-09</td>\n",
              "    </tr>\n",
              "  </tbody>\n",
              "</table>\n",
              "<p>541909 rows × 2 columns</p>\n",
              "</div>"
            ],
            "text/plain": [
              "        Total       Date\n",
              "0       15.30 2010-12-01\n",
              "1       20.34 2010-12-01\n",
              "2       22.00 2010-12-01\n",
              "3       20.34 2010-12-01\n",
              "4       20.34 2010-12-01\n",
              "...       ...        ...\n",
              "541904  10.20 2011-12-09\n",
              "541905  12.60 2011-12-09\n",
              "541906  16.60 2011-12-09\n",
              "541907  16.60 2011-12-09\n",
              "541908  14.85 2011-12-09\n",
              "\n",
              "[541909 rows x 2 columns]"
            ]
          },
          "execution_count": 54,
          "metadata": {},
          "output_type": "execute_result"
        }
      ],
      "source": [
        "ecom2 = ecom.loc[:,[\"Total\",\"Date\"]]\n",
        "ecom2"
      ]
    },
    {
      "cell_type": "markdown",
      "metadata": {
        "id": "45M0Q0sewmaO"
      },
      "source": [
        "** take only InvoiceNo, CustomerID and Total columns with iloc and craete a new df named ecom3 **\n"
      ]
    },
    {
      "cell_type": "code",
      "execution_count": null,
      "metadata": {
        "id": "DBO5L1PLwmaO",
        "outputId": "203f1337-29c8-4da6-fd5c-16955f30b3c6"
      },
      "outputs": [
        {
          "data": {
            "text/html": [
              "<div>\n",
              "<style scoped>\n",
              "    .dataframe tbody tr th:only-of-type {\n",
              "        vertical-align: middle;\n",
              "    }\n",
              "\n",
              "    .dataframe tbody tr th {\n",
              "        vertical-align: top;\n",
              "    }\n",
              "\n",
              "    .dataframe thead th {\n",
              "        text-align: right;\n",
              "    }\n",
              "</style>\n",
              "<table border=\"1\" class=\"dataframe\">\n",
              "  <thead>\n",
              "    <tr style=\"text-align: right;\">\n",
              "      <th></th>\n",
              "      <th>InvoiceNo</th>\n",
              "      <th>CustomerID</th>\n",
              "      <th>Total</th>\n",
              "    </tr>\n",
              "  </thead>\n",
              "  <tbody>\n",
              "    <tr>\n",
              "      <th>0</th>\n",
              "      <td>536365</td>\n",
              "      <td>17850.0</td>\n",
              "      <td>15.30</td>\n",
              "    </tr>\n",
              "    <tr>\n",
              "      <th>1</th>\n",
              "      <td>536365</td>\n",
              "      <td>17850.0</td>\n",
              "      <td>20.34</td>\n",
              "    </tr>\n",
              "    <tr>\n",
              "      <th>2</th>\n",
              "      <td>536365</td>\n",
              "      <td>17850.0</td>\n",
              "      <td>22.00</td>\n",
              "    </tr>\n",
              "    <tr>\n",
              "      <th>3</th>\n",
              "      <td>536365</td>\n",
              "      <td>17850.0</td>\n",
              "      <td>20.34</td>\n",
              "    </tr>\n",
              "    <tr>\n",
              "      <th>4</th>\n",
              "      <td>536365</td>\n",
              "      <td>17850.0</td>\n",
              "      <td>20.34</td>\n",
              "    </tr>\n",
              "    <tr>\n",
              "      <th>...</th>\n",
              "      <td>...</td>\n",
              "      <td>...</td>\n",
              "      <td>...</td>\n",
              "    </tr>\n",
              "    <tr>\n",
              "      <th>541904</th>\n",
              "      <td>581587</td>\n",
              "      <td>12680.0</td>\n",
              "      <td>10.20</td>\n",
              "    </tr>\n",
              "    <tr>\n",
              "      <th>541905</th>\n",
              "      <td>581587</td>\n",
              "      <td>12680.0</td>\n",
              "      <td>12.60</td>\n",
              "    </tr>\n",
              "    <tr>\n",
              "      <th>541906</th>\n",
              "      <td>581587</td>\n",
              "      <td>12680.0</td>\n",
              "      <td>16.60</td>\n",
              "    </tr>\n",
              "    <tr>\n",
              "      <th>541907</th>\n",
              "      <td>581587</td>\n",
              "      <td>12680.0</td>\n",
              "      <td>16.60</td>\n",
              "    </tr>\n",
              "    <tr>\n",
              "      <th>541908</th>\n",
              "      <td>581587</td>\n",
              "      <td>12680.0</td>\n",
              "      <td>14.85</td>\n",
              "    </tr>\n",
              "  </tbody>\n",
              "</table>\n",
              "<p>541909 rows × 3 columns</p>\n",
              "</div>"
            ],
            "text/plain": [
              "       InvoiceNo  CustomerID  Total\n",
              "0         536365     17850.0  15.30\n",
              "1         536365     17850.0  20.34\n",
              "2         536365     17850.0  22.00\n",
              "3         536365     17850.0  20.34\n",
              "4         536365     17850.0  20.34\n",
              "...          ...         ...    ...\n",
              "541904    581587     12680.0  10.20\n",
              "541905    581587     12680.0  12.60\n",
              "541906    581587     12680.0  16.60\n",
              "541907    581587     12680.0  16.60\n",
              "541908    581587     12680.0  14.85\n",
              "\n",
              "[541909 rows x 3 columns]"
            ]
          },
          "execution_count": 55,
          "metadata": {},
          "output_type": "execute_result"
        }
      ],
      "source": [
        "ecom3 = ecom.iloc[:,[0,5,7]]\n",
        "ecom3"
      ]
    },
    {
      "cell_type": "markdown",
      "metadata": {
        "id": "BPD_g3ifwmaO"
      },
      "source": [
        "** Combine ecom2 and ecom3 with concat **\n"
      ]
    },
    {
      "cell_type": "code",
      "execution_count": null,
      "metadata": {
        "id": "ncUHse7xwmaP",
        "outputId": "68d499e4-01ea-4dad-a201-8e675327383b"
      },
      "outputs": [
        {
          "data": {
            "text/html": [
              "<div>\n",
              "<style scoped>\n",
              "    .dataframe tbody tr th:only-of-type {\n",
              "        vertical-align: middle;\n",
              "    }\n",
              "\n",
              "    .dataframe tbody tr th {\n",
              "        vertical-align: top;\n",
              "    }\n",
              "\n",
              "    .dataframe thead th {\n",
              "        text-align: right;\n",
              "    }\n",
              "</style>\n",
              "<table border=\"1\" class=\"dataframe\">\n",
              "  <thead>\n",
              "    <tr style=\"text-align: right;\">\n",
              "      <th></th>\n",
              "      <th>Total</th>\n",
              "      <th>Date</th>\n",
              "      <th>InvoiceNo</th>\n",
              "      <th>CustomerID</th>\n",
              "      <th>Total</th>\n",
              "    </tr>\n",
              "  </thead>\n",
              "  <tbody>\n",
              "    <tr>\n",
              "      <th>0</th>\n",
              "      <td>15.30</td>\n",
              "      <td>2010-12-01</td>\n",
              "      <td>536365</td>\n",
              "      <td>17850.0</td>\n",
              "      <td>15.30</td>\n",
              "    </tr>\n",
              "    <tr>\n",
              "      <th>1</th>\n",
              "      <td>20.34</td>\n",
              "      <td>2010-12-01</td>\n",
              "      <td>536365</td>\n",
              "      <td>17850.0</td>\n",
              "      <td>20.34</td>\n",
              "    </tr>\n",
              "    <tr>\n",
              "      <th>2</th>\n",
              "      <td>22.00</td>\n",
              "      <td>2010-12-01</td>\n",
              "      <td>536365</td>\n",
              "      <td>17850.0</td>\n",
              "      <td>22.00</td>\n",
              "    </tr>\n",
              "    <tr>\n",
              "      <th>3</th>\n",
              "      <td>20.34</td>\n",
              "      <td>2010-12-01</td>\n",
              "      <td>536365</td>\n",
              "      <td>17850.0</td>\n",
              "      <td>20.34</td>\n",
              "    </tr>\n",
              "    <tr>\n",
              "      <th>4</th>\n",
              "      <td>20.34</td>\n",
              "      <td>2010-12-01</td>\n",
              "      <td>536365</td>\n",
              "      <td>17850.0</td>\n",
              "      <td>20.34</td>\n",
              "    </tr>\n",
              "    <tr>\n",
              "      <th>...</th>\n",
              "      <td>...</td>\n",
              "      <td>...</td>\n",
              "      <td>...</td>\n",
              "      <td>...</td>\n",
              "      <td>...</td>\n",
              "    </tr>\n",
              "    <tr>\n",
              "      <th>541904</th>\n",
              "      <td>10.20</td>\n",
              "      <td>2011-12-09</td>\n",
              "      <td>581587</td>\n",
              "      <td>12680.0</td>\n",
              "      <td>10.20</td>\n",
              "    </tr>\n",
              "    <tr>\n",
              "      <th>541905</th>\n",
              "      <td>12.60</td>\n",
              "      <td>2011-12-09</td>\n",
              "      <td>581587</td>\n",
              "      <td>12680.0</td>\n",
              "      <td>12.60</td>\n",
              "    </tr>\n",
              "    <tr>\n",
              "      <th>541906</th>\n",
              "      <td>16.60</td>\n",
              "      <td>2011-12-09</td>\n",
              "      <td>581587</td>\n",
              "      <td>12680.0</td>\n",
              "      <td>16.60</td>\n",
              "    </tr>\n",
              "    <tr>\n",
              "      <th>541907</th>\n",
              "      <td>16.60</td>\n",
              "      <td>2011-12-09</td>\n",
              "      <td>581587</td>\n",
              "      <td>12680.0</td>\n",
              "      <td>16.60</td>\n",
              "    </tr>\n",
              "    <tr>\n",
              "      <th>541908</th>\n",
              "      <td>14.85</td>\n",
              "      <td>2011-12-09</td>\n",
              "      <td>581587</td>\n",
              "      <td>12680.0</td>\n",
              "      <td>14.85</td>\n",
              "    </tr>\n",
              "  </tbody>\n",
              "</table>\n",
              "<p>541909 rows × 5 columns</p>\n",
              "</div>"
            ],
            "text/plain": [
              "        Total       Date InvoiceNo  CustomerID  Total\n",
              "0       15.30 2010-12-01    536365     17850.0  15.30\n",
              "1       20.34 2010-12-01    536365     17850.0  20.34\n",
              "2       22.00 2010-12-01    536365     17850.0  22.00\n",
              "3       20.34 2010-12-01    536365     17850.0  20.34\n",
              "4       20.34 2010-12-01    536365     17850.0  20.34\n",
              "...       ...        ...       ...         ...    ...\n",
              "541904  10.20 2011-12-09    581587     12680.0  10.20\n",
              "541905  12.60 2011-12-09    581587     12680.0  12.60\n",
              "541906  16.60 2011-12-09    581587     12680.0  16.60\n",
              "541907  16.60 2011-12-09    581587     12680.0  16.60\n",
              "541908  14.85 2011-12-09    581587     12680.0  14.85\n",
              "\n",
              "[541909 rows x 5 columns]"
            ]
          },
          "execution_count": 56,
          "metadata": {},
          "output_type": "execute_result"
        }
      ],
      "source": [
        "ecom_concat2_3= pd.concat([ecom2, ecom3], axis=1)\n",
        "ecom_concat2_3"
      ]
    },
    {
      "cell_type": "markdown",
      "metadata": {
        "id": "uHZjF8I4wmaP"
      },
      "source": [
        "** Combine ecom2 and ecom3 with merge. If memory error occurs take only first 400 rows from both DFs.**\n"
      ]
    },
    {
      "cell_type": "code",
      "execution_count": null,
      "metadata": {
        "id": "VWjjpeIewmaP",
        "outputId": "8748853a-0b89-4f36-a586-c5ebeeb5f728"
      },
      "outputs": [
        {
          "data": {
            "text/html": [
              "<div>\n",
              "<style scoped>\n",
              "    .dataframe tbody tr th:only-of-type {\n",
              "        vertical-align: middle;\n",
              "    }\n",
              "\n",
              "    .dataframe tbody tr th {\n",
              "        vertical-align: top;\n",
              "    }\n",
              "\n",
              "    .dataframe thead th {\n",
              "        text-align: right;\n",
              "    }\n",
              "</style>\n",
              "<table border=\"1\" class=\"dataframe\">\n",
              "  <thead>\n",
              "    <tr style=\"text-align: right;\">\n",
              "      <th></th>\n",
              "      <th>Total</th>\n",
              "      <th>Date</th>\n",
              "      <th>InvoiceNo</th>\n",
              "      <th>CustomerID</th>\n",
              "    </tr>\n",
              "  </thead>\n",
              "  <tbody>\n",
              "    <tr>\n",
              "      <th>0</th>\n",
              "      <td>15.30</td>\n",
              "      <td>2010-12-01</td>\n",
              "      <td>536365</td>\n",
              "      <td>17850.0</td>\n",
              "    </tr>\n",
              "    <tr>\n",
              "      <th>1</th>\n",
              "      <td>15.30</td>\n",
              "      <td>2010-12-01</td>\n",
              "      <td>536373</td>\n",
              "      <td>17850.0</td>\n",
              "    </tr>\n",
              "    <tr>\n",
              "      <th>2</th>\n",
              "      <td>15.30</td>\n",
              "      <td>2010-12-01</td>\n",
              "      <td>536373</td>\n",
              "      <td>17850.0</td>\n",
              "    </tr>\n",
              "    <tr>\n",
              "      <th>3</th>\n",
              "      <td>15.30</td>\n",
              "      <td>2010-12-01</td>\n",
              "      <td>536375</td>\n",
              "      <td>17850.0</td>\n",
              "    </tr>\n",
              "    <tr>\n",
              "      <th>4</th>\n",
              "      <td>15.30</td>\n",
              "      <td>2010-12-01</td>\n",
              "      <td>536375</td>\n",
              "      <td>17850.0</td>\n",
              "    </tr>\n",
              "    <tr>\n",
              "      <th>...</th>\n",
              "      <td>...</td>\n",
              "      <td>...</td>\n",
              "      <td>...</td>\n",
              "      <td>...</td>\n",
              "    </tr>\n",
              "    <tr>\n",
              "      <th>2187</th>\n",
              "      <td>22.95</td>\n",
              "      <td>2010-12-01</td>\n",
              "      <td>536401</td>\n",
              "      <td>15862.0</td>\n",
              "    </tr>\n",
              "    <tr>\n",
              "      <th>2188</th>\n",
              "      <td>16.95</td>\n",
              "      <td>2010-12-01</td>\n",
              "      <td>536401</td>\n",
              "      <td>15862.0</td>\n",
              "    </tr>\n",
              "    <tr>\n",
              "      <th>2189</th>\n",
              "      <td>10.65</td>\n",
              "      <td>2010-12-01</td>\n",
              "      <td>536401</td>\n",
              "      <td>15862.0</td>\n",
              "    </tr>\n",
              "    <tr>\n",
              "      <th>2190</th>\n",
              "      <td>13.90</td>\n",
              "      <td>2010-12-01</td>\n",
              "      <td>536401</td>\n",
              "      <td>15862.0</td>\n",
              "    </tr>\n",
              "    <tr>\n",
              "      <th>2191</th>\n",
              "      <td>153.00</td>\n",
              "      <td>2010-12-01</td>\n",
              "      <td>536402</td>\n",
              "      <td>15513.0</td>\n",
              "    </tr>\n",
              "  </tbody>\n",
              "</table>\n",
              "<p>2192 rows × 4 columns</p>\n",
              "</div>"
            ],
            "text/plain": [
              "       Total       Date InvoiceNo  CustomerID\n",
              "0      15.30 2010-12-01    536365     17850.0\n",
              "1      15.30 2010-12-01    536373     17850.0\n",
              "2      15.30 2010-12-01    536373     17850.0\n",
              "3      15.30 2010-12-01    536375     17850.0\n",
              "4      15.30 2010-12-01    536375     17850.0\n",
              "...      ...        ...       ...         ...\n",
              "2187   22.95 2010-12-01    536401     15862.0\n",
              "2188   16.95 2010-12-01    536401     15862.0\n",
              "2189   10.65 2010-12-01    536401     15862.0\n",
              "2190   13.90 2010-12-01    536401     15862.0\n",
              "2191  153.00 2010-12-01    536402     15513.0\n",
              "\n",
              "[2192 rows x 4 columns]"
            ]
          },
          "execution_count": 61,
          "metadata": {},
          "output_type": "execute_result"
        }
      ],
      "source": [
        "# ecom_merge_2_3 = pd.merge(ecom2.iloc[:400,:],ecom3.iloc[:400,:], on='Total', left_index=True , right_index=True)\n",
        "ecom_merge_2_3 = pd.merge(ecom2.iloc[:400,:],ecom3.iloc[:400,:], on='Total')\n",
        "ecom_merge_2_3"
      ]
    },
    {
      "cell_type": "markdown",
      "metadata": {
        "id": "uZTP-OCfwmaP"
      },
      "source": [
        "** Combine ecom2 and ecom3 with join (inner)**"
      ]
    },
    {
      "cell_type": "code",
      "execution_count": null,
      "metadata": {
        "id": "KHRAwd6QwmaP",
        "outputId": "0c1f5918-275b-4f9a-a639-7fe82cdf589e"
      },
      "outputs": [
        {
          "data": {
            "text/html": [
              "<div>\n",
              "<style scoped>\n",
              "    .dataframe tbody tr th:only-of-type {\n",
              "        vertical-align: middle;\n",
              "    }\n",
              "\n",
              "    .dataframe tbody tr th {\n",
              "        vertical-align: top;\n",
              "    }\n",
              "\n",
              "    .dataframe thead th {\n",
              "        text-align: right;\n",
              "    }\n",
              "</style>\n",
              "<table border=\"1\" class=\"dataframe\">\n",
              "  <thead>\n",
              "    <tr style=\"text-align: right;\">\n",
              "      <th></th>\n",
              "      <th>Total_left</th>\n",
              "      <th>Date</th>\n",
              "      <th>InvoiceNo</th>\n",
              "      <th>CustomerID</th>\n",
              "      <th>Total_right</th>\n",
              "    </tr>\n",
              "  </thead>\n",
              "  <tbody>\n",
              "    <tr>\n",
              "      <th>0</th>\n",
              "      <td>15.30</td>\n",
              "      <td>2010-12-01</td>\n",
              "      <td>536365</td>\n",
              "      <td>17850.0</td>\n",
              "      <td>15.30</td>\n",
              "    </tr>\n",
              "    <tr>\n",
              "      <th>1</th>\n",
              "      <td>20.34</td>\n",
              "      <td>2010-12-01</td>\n",
              "      <td>536365</td>\n",
              "      <td>17850.0</td>\n",
              "      <td>20.34</td>\n",
              "    </tr>\n",
              "    <tr>\n",
              "      <th>2</th>\n",
              "      <td>22.00</td>\n",
              "      <td>2010-12-01</td>\n",
              "      <td>536365</td>\n",
              "      <td>17850.0</td>\n",
              "      <td>22.00</td>\n",
              "    </tr>\n",
              "    <tr>\n",
              "      <th>3</th>\n",
              "      <td>20.34</td>\n",
              "      <td>2010-12-01</td>\n",
              "      <td>536365</td>\n",
              "      <td>17850.0</td>\n",
              "      <td>20.34</td>\n",
              "    </tr>\n",
              "    <tr>\n",
              "      <th>4</th>\n",
              "      <td>20.34</td>\n",
              "      <td>2010-12-01</td>\n",
              "      <td>536365</td>\n",
              "      <td>17850.0</td>\n",
              "      <td>20.34</td>\n",
              "    </tr>\n",
              "    <tr>\n",
              "      <th>...</th>\n",
              "      <td>...</td>\n",
              "      <td>...</td>\n",
              "      <td>...</td>\n",
              "      <td>...</td>\n",
              "      <td>...</td>\n",
              "    </tr>\n",
              "    <tr>\n",
              "      <th>541904</th>\n",
              "      <td>10.20</td>\n",
              "      <td>2011-12-09</td>\n",
              "      <td>581587</td>\n",
              "      <td>12680.0</td>\n",
              "      <td>10.20</td>\n",
              "    </tr>\n",
              "    <tr>\n",
              "      <th>541905</th>\n",
              "      <td>12.60</td>\n",
              "      <td>2011-12-09</td>\n",
              "      <td>581587</td>\n",
              "      <td>12680.0</td>\n",
              "      <td>12.60</td>\n",
              "    </tr>\n",
              "    <tr>\n",
              "      <th>541906</th>\n",
              "      <td>16.60</td>\n",
              "      <td>2011-12-09</td>\n",
              "      <td>581587</td>\n",
              "      <td>12680.0</td>\n",
              "      <td>16.60</td>\n",
              "    </tr>\n",
              "    <tr>\n",
              "      <th>541907</th>\n",
              "      <td>16.60</td>\n",
              "      <td>2011-12-09</td>\n",
              "      <td>581587</td>\n",
              "      <td>12680.0</td>\n",
              "      <td>16.60</td>\n",
              "    </tr>\n",
              "    <tr>\n",
              "      <th>541908</th>\n",
              "      <td>14.85</td>\n",
              "      <td>2011-12-09</td>\n",
              "      <td>581587</td>\n",
              "      <td>12680.0</td>\n",
              "      <td>14.85</td>\n",
              "    </tr>\n",
              "  </tbody>\n",
              "</table>\n",
              "<p>541909 rows × 5 columns</p>\n",
              "</div>"
            ],
            "text/plain": [
              "        Total_left       Date InvoiceNo  CustomerID  Total_right\n",
              "0            15.30 2010-12-01    536365     17850.0        15.30\n",
              "1            20.34 2010-12-01    536365     17850.0        20.34\n",
              "2            22.00 2010-12-01    536365     17850.0        22.00\n",
              "3            20.34 2010-12-01    536365     17850.0        20.34\n",
              "4            20.34 2010-12-01    536365     17850.0        20.34\n",
              "...            ...        ...       ...         ...          ...\n",
              "541904       10.20 2011-12-09    581587     12680.0        10.20\n",
              "541905       12.60 2011-12-09    581587     12680.0        12.60\n",
              "541906       16.60 2011-12-09    581587     12680.0        16.60\n",
              "541907       16.60 2011-12-09    581587     12680.0        16.60\n",
              "541908       14.85 2011-12-09    581587     12680.0        14.85\n",
              "\n",
              "[541909 rows x 5 columns]"
            ]
          },
          "execution_count": 62,
          "metadata": {},
          "output_type": "execute_result"
        }
      ],
      "source": [
        "join_ecom2_3 = ecom2.join(ecom3, how=\"inner\",lsuffix='_left',rsuffix='_right')\n",
        "join_ecom2_3"
      ]
    },
    {
      "cell_type": "markdown",
      "metadata": {
        "id": "VytETnLLwmaP"
      },
      "source": [
        "# Congrats!"
      ]
    },
    {
      "cell_type": "code",
      "execution_count": null,
      "metadata": {
        "id": "1V1yiiKywmaP"
      },
      "outputs": [],
      "source": [
        ""
      ]
    }
  ],
  "metadata": {
    "kernelspec": {
      "display_name": "Python 3 (ipykernel)",
      "language": "python",
      "name": "python3"
    },
    "language_info": {
      "codemirror_mode": {
        "name": "ipython",
        "version": 3
      },
      "file_extension": ".py",
      "mimetype": "text/x-python",
      "name": "python",
      "nbconvert_exporter": "python",
      "pygments_lexer": "ipython3",
      "version": "3.8.8"
    },
    "colab": {
      "name": "Assignment2_Student (1).ipynb",
      "provenance": [],
      "include_colab_link": true
    }
  },
  "nbformat": 4,
  "nbformat_minor": 0
}